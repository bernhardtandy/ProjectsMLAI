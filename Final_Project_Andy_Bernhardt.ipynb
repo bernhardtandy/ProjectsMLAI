{
  "nbformat": 4,
  "nbformat_minor": 0,
  "metadata": {
    "colab": {
      "provenance": [],
      "authorship_tag": "ABX9TyNh8kd2X2QQaknry9bVDZJx",
      "include_colab_link": true
    },
    "kernelspec": {
      "name": "python3",
      "display_name": "Python 3"
    },
    "language_info": {
      "name": "python"
    }
  },
  "cells": [
    {
      "cell_type": "markdown",
      "metadata": {
        "id": "view-in-github",
        "colab_type": "text"
      },
      "source": [
        "<a href=\"https://colab.research.google.com/github/bernhardtandy/ProjectsMLAI/blob/main/Final_Project_Andy_Bernhardt.ipynb\" target=\"_parent\"><img src=\"https://colab.research.google.com/assets/colab-badge.svg\" alt=\"Open In Colab\"/></a>"
      ]
    },
    {
      "cell_type": "markdown",
      "metadata": {
        "id": "MckYdeBMRHGD"
      },
      "source": [
        "# **Projects in Machine Learning and AI Final Project**\n",
        "## *Music Generation using Causal Language Modeling*\n",
        "##### **Andy Bernhardt**\n",
        "##### **bernha@rpi.edu**"
      ]
    },
    {
      "cell_type": "markdown",
      "source": [
        "---\n",
        "## **Link to Homepage**: https://colab.research.google.com/github/bernhardtandy/ProjectsMLAI/blob/main/Final_Project_Andy_Bernhardt.ipynb\n",
        "## **Link to Part 0**: https://colab.research.google.com/github/bernhardtandy/ProjectsMLAI/blob/main/Final_Project_Part_0.ipynb\n",
        "## **Link to Part 1**: https://colab.research.google.com/github/bernhardtandy/ProjectsMLAI/blob/main/Final_Project_Part_1.ipynb\n",
        "## **Link to Part 2**: https://colab.research.google.com/github/bernhardtandy/ProjectsMLAI/blob/main/Final_Project_Part_2.ipynb\n",
        "## **Link to Part 3**: https://colab.research.google.com/github/bernhardtandy/ProjectsMLAI/blob/main/Final_Project_Part_3.ipynb\n",
        "## **Link to Part 4**: https://colab.research.google.com/github/bernhardtandy/ProjectsMLAI/blob/main/Final_Project_Part_4.ipynb"
      ],
      "metadata": {
        "id": "QrFdUJZZgLnp"
      }
    }
  ]
}