{
  "nbformat": 4,
  "nbformat_minor": 0,
  "metadata": {
    "colab": {
      "provenance": [],
      "authorship_tag": "ABX9TyNpUcY/rQfu1JayulZF1+l9",
      "include_colab_link": true
    },
    "kernelspec": {
      "name": "python3",
      "display_name": "Python 3"
    },
    "language_info": {
      "name": "python"
    }
  },
  "cells": [
    {
      "cell_type": "markdown",
      "metadata": {
        "id": "view-in-github",
        "colab_type": "text"
      },
      "source": [
        "<a href=\"https://colab.research.google.com/github/bernhardtandy/ProjectsMLAI/blob/main/HW1_AndyBernhardt.ipynb\" target=\"_parent\"><img src=\"https://colab.research.google.com/assets/colab-badge.svg\" alt=\"Open In Colab\"/></a>"
      ]
    },
    {
      "cell_type": "markdown",
      "source": [
        "# **Projects in Machine Learning and AI Homework 1**\n",
        "##### **Andy Bernhardt**\n",
        "##### **bernha@rpi.edu**"
      ],
      "metadata": {
        "id": "Ac-8RTcxKo52"
      }
    },
    {
      "cell_type": "markdown",
      "source": [
        "## Task 1: Problem Statement"
      ],
      "metadata": {
        "id": "njXSOxYdK_eR"
      }
    },
    {
      "cell_type": "markdown",
      "source": [
        "## Task 2: Dataset and Exploratory Data Analysis"
      ],
      "metadata": {
        "id": "mTcBm_EMLDVr"
      }
    },
    {
      "cell_type": "markdown",
      "source": [
        "## Task 3: Implementation of Logistic Regression"
      ],
      "metadata": {
        "id": "EcK9OmdzLIWR"
      }
    },
    {
      "cell_type": "markdown",
      "source": [
        "## Task 4: Comparison of Optimized Logistic Regression Algorithms"
      ],
      "metadata": {
        "id": "2jE5tKDkLMPw"
      }
    },
    {
      "cell_type": "code",
      "execution_count": null,
      "metadata": {
        "id": "zQ0vpWZeKk5B"
      },
      "outputs": [],
      "source": []
    }
  ]
}