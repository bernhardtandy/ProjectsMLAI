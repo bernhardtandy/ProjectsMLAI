{
  "nbformat": 4,
  "nbformat_minor": 0,
  "metadata": {
    "colab": {
      "provenance": [],
      "collapsed_sections": [],
      "authorship_tag": "ABX9TyPEcFRa6ze05JFQD0VBUG2t",
      "include_colab_link": true
    },
    "kernelspec": {
      "name": "python3",
      "display_name": "Python 3"
    },
    "language_info": {
      "name": "python"
    },
    "accelerator": "GPU"
  },
  "cells": [
    {
      "cell_type": "markdown",
      "metadata": {
        "id": "view-in-github",
        "colab_type": "text"
      },
      "source": [
        "<a href=\"https://colab.research.google.com/github/bernhardtandy/ProjectsMLAI/blob/main/HW4_AndyBernhardt.ipynb\" target=\"_parent\"><img src=\"https://colab.research.google.com/assets/colab-badge.svg\" alt=\"Open In Colab\"/></a>"
      ]
    },
    {
      "cell_type": "markdown",
      "source": [
        "# **Projects in Machine Learning and AI Homework 4**\n",
        "## *RNN/LSTM/GRU for Daily Average Temperature Prediction in Europe and Word Embeddings*\n",
        "##### **Andy Bernhardt**\n",
        "##### **bernha@rpi.edu**\n",
        "\n",
        "---\n",
        "## **Task 1: RNN/LSTM/GRU for Daily Average Temperature Prediction in Europe**\n",
        "\n",
        "In this project, we will use a time-series dataset containing daily average temperatures in Europe, and apply a variety of sequential models to solve the task of predicting the next day's average temperature given the previous 30 days' average temperatures. Sequential models are appropriate for solving this problem because the data is a time-series; each data point has an intrinsic relationship to the previous data points and future data points (daily temperatures are not independent). As a result, sequential architectures such as RNNs, LSTMs, and GRUs can better capture these relationships (compared to other architectures) since the connections are built into the architecture; new inputs are combined with hidden states at each step to build new hidden states and eventually a final prediction. We use Tensorflow keras to implement the training and testing of all models.\n"
      ],
      "metadata": {
        "id": "Ac-8RTcxKo52"
      }
    },
    {
      "cell_type": "markdown",
      "source": [
        "---\n",
        "### **Part 0: Dataset, Exploratory Data Analysis and Preprocessing**\n",
        "\n",
        "In this section, we will do the following:\n",
        "- Load the required libraries for the project and use GPU\n",
        "- Load and describe the dataset\n",
        "- Perform exploratory data analysis on the dataset\n",
        "- Split the dataset into train, validation, and testing sets and preprocess\n"
      ],
      "metadata": {
        "id": "njXSOxYdK_eR"
      }
    },
    {
      "cell_type": "markdown",
      "source": [
        "### Setup"
      ],
      "metadata": {
        "id": "clhW6EBKTlB6"
      }
    },
    {
      "cell_type": "code",
      "source": [
        "# Import required libraries for project\n",
        "import math\n",
        "import pandas as pd\n",
        "import matplotlib.pyplot as plt\n",
        "import seaborn as sns\n",
        "import numpy as np\n",
        "from scipy import stats\n",
        "from sklearn.model_selection import train_test_split\n",
        "from sklearn.preprocessing import Normalizer, MinMaxScaler\n",
        "from sklearn.utils import shuffle\n",
        "\n",
        "import tensorflow as tf\n",
        "from keras.utils.vis_utils import plot_model\n",
        "from sklearn.metrics import mean_squared_error"
      ],
      "metadata": {
        "id": "FT21LZhhTYWa"
      },
      "execution_count": 44,
      "outputs": []
    },
    {
      "cell_type": "code",
      "source": [
        "# Check for GPU: Make sure the the runtime has a GPU hardware accelerator selected\n",
        "device_name = tf.test.gpu_device_name()\n",
        "if device_name != '/device:GPU:0':\n",
        "    raise SystemError('GPU device not found')\n",
        "print('Found GPU at: {}'.format(device_name))"
      ],
      "metadata": {
        "colab": {
          "base_uri": "https://localhost:8080/"
        },
        "id": "8KnmjT1p80CT",
        "outputId": "da99a850-5feb-4770-b425-0eccad70cba7"
      },
      "execution_count": 2,
      "outputs": [
        {
          "output_type": "stream",
          "name": "stdout",
          "text": [
            "Found GPU at: /device:GPU:0\n"
          ]
        }
      ]
    },
    {
      "cell_type": "markdown",
      "source": [
        "### Load dataset from Google Drive"
      ],
      "metadata": {
        "id": "pljpEVVxT1WT"
      }
    },
    {
      "cell_type": "code",
      "source": [
        "# Mount Google Drive\n",
        "from google.colab import drive\n",
        "drive.mount('/content/drive')"
      ],
      "metadata": {
        "colab": {
          "base_uri": "https://localhost:8080/"
        },
        "id": "mwuI5MKYVfV0",
        "outputId": "67c163e8-883f-4b1a-b323-b045c1b7e634"
      },
      "execution_count": 3,
      "outputs": [
        {
          "output_type": "stream",
          "name": "stdout",
          "text": [
            "Mounted at /content/drive\n"
          ]
        }
      ]
    },
    {
      "cell_type": "code",
      "source": [
        "# Add HW4 folder to path\n",
        "import sys\n",
        "sys.path.append('/content/drive/MyDrive/ProjectsMLAI/HW4')"
      ],
      "metadata": {
        "id": "AIiU_B8nVfX7"
      },
      "execution_count": 4,
      "outputs": []
    },
    {
      "cell_type": "code",
      "source": [
        "# Load daily average temperatures dataset\n",
        "df = pd.read_csv(\"/content/drive/MyDrive/ProjectsMLAI/HW4/city_temperature.csv\")\n",
        "pd.set_option('display.max_columns', None)"
      ],
      "metadata": {
        "id": "1Oah3mQKVfZj",
        "colab": {
          "base_uri": "https://localhost:8080/"
        },
        "outputId": "8902875e-e455-49d6-d688-3ef1f92c0475"
      },
      "execution_count": 5,
      "outputs": [
        {
          "output_type": "stream",
          "name": "stderr",
          "text": [
            "/usr/local/lib/python3.7/dist-packages/IPython/core/interactiveshell.py:3326: DtypeWarning: Columns (2) have mixed types.Specify dtype option on import or set low_memory=False.\n",
            "  exec(code_obj, self.user_global_ns, self.user_ns)\n"
          ]
        }
      ]
    },
    {
      "cell_type": "markdown",
      "source": [
        "### Dataset description\n",
        "  \n",
        "The Daily Temperature of Major Cities dataset (from Kaggle) includes a CSV file containing daily average temperature measurements from a large number of cities in many countries and regions between 1995 and 2020. Each row contains the region, country, state, city, month, day, year, and average temperature, and the total number of measurements is 2,906,327. \n",
        "\n",
        "In this project, we consider the temperature measurements from cities in Europe, and consider only years where the average temperature data is complete.\n",
        "Then, we break the dataset into 31 day sequences, where the goal is to predict the average temperature of the 31st day given the previous 30 average temperatures. We define, train, and then evaluate RNN, LSTM, GRU, and Feed Forward Networks for this task.\n",
        "\n",
        "Link to dataset: https://www.kaggle.com/datasets/sudalairajkumar/daily-temperature-of-major-cities"
      ],
      "metadata": {
        "id": "45QhcR0MV-Ke"
      }
    },
    {
      "cell_type": "markdown",
      "source": [
        "### Initial preprocessing"
      ],
      "metadata": {
        "id": "a0e1oQwrWHuv"
      }
    },
    {
      "cell_type": "code",
      "source": [
        "# Show dataframe\n",
        "df\n",
        "# The dataframe has 2,906,327 rows"
      ],
      "metadata": {
        "colab": {
          "base_uri": "https://localhost:8080/",
          "height": 424
        },
        "id": "GLNv95yQRtv1",
        "outputId": "ec441656-2faa-48ce-bb53-7b43a1dd5487"
      },
      "execution_count": 7,
      "outputs": [
        {
          "output_type": "execute_result",
          "data": {
            "text/plain": [
              "                Region  Country                   State                  City  \\\n",
              "0               Africa  Algeria                     NaN               Algiers   \n",
              "1               Africa  Algeria                     NaN               Algiers   \n",
              "2               Africa  Algeria                     NaN               Algiers   \n",
              "3               Africa  Algeria                     NaN               Algiers   \n",
              "4               Africa  Algeria                     NaN               Algiers   \n",
              "...                ...      ...                     ...                   ...   \n",
              "2906322  North America       US  Additional Territories  San Juan Puerto Rico   \n",
              "2906323  North America       US  Additional Territories  San Juan Puerto Rico   \n",
              "2906324  North America       US  Additional Territories  San Juan Puerto Rico   \n",
              "2906325  North America       US  Additional Territories  San Juan Puerto Rico   \n",
              "2906326  North America       US  Additional Territories  San Juan Puerto Rico   \n",
              "\n",
              "         Month  Day  Year  AvgTemperature  \n",
              "0            1    1  1995            64.2  \n",
              "1            1    2  1995            49.4  \n",
              "2            1    3  1995            48.8  \n",
              "3            1    4  1995            46.4  \n",
              "4            1    5  1995            47.9  \n",
              "...        ...  ...   ...             ...  \n",
              "2906322      7   27  2013            82.4  \n",
              "2906323      7   28  2013            81.6  \n",
              "2906324      7   29  2013            84.2  \n",
              "2906325      7   30  2013            83.8  \n",
              "2906326      7   31  2013            83.6  \n",
              "\n",
              "[2906327 rows x 8 columns]"
            ],
            "text/html": [
              "\n",
              "  <div id=\"df-1994d50f-abe0-4d3e-9fc7-c53d8264bfd8\">\n",
              "    <div class=\"colab-df-container\">\n",
              "      <div>\n",
              "<style scoped>\n",
              "    .dataframe tbody tr th:only-of-type {\n",
              "        vertical-align: middle;\n",
              "    }\n",
              "\n",
              "    .dataframe tbody tr th {\n",
              "        vertical-align: top;\n",
              "    }\n",
              "\n",
              "    .dataframe thead th {\n",
              "        text-align: right;\n",
              "    }\n",
              "</style>\n",
              "<table border=\"1\" class=\"dataframe\">\n",
              "  <thead>\n",
              "    <tr style=\"text-align: right;\">\n",
              "      <th></th>\n",
              "      <th>Region</th>\n",
              "      <th>Country</th>\n",
              "      <th>State</th>\n",
              "      <th>City</th>\n",
              "      <th>Month</th>\n",
              "      <th>Day</th>\n",
              "      <th>Year</th>\n",
              "      <th>AvgTemperature</th>\n",
              "    </tr>\n",
              "  </thead>\n",
              "  <tbody>\n",
              "    <tr>\n",
              "      <th>0</th>\n",
              "      <td>Africa</td>\n",
              "      <td>Algeria</td>\n",
              "      <td>NaN</td>\n",
              "      <td>Algiers</td>\n",
              "      <td>1</td>\n",
              "      <td>1</td>\n",
              "      <td>1995</td>\n",
              "      <td>64.2</td>\n",
              "    </tr>\n",
              "    <tr>\n",
              "      <th>1</th>\n",
              "      <td>Africa</td>\n",
              "      <td>Algeria</td>\n",
              "      <td>NaN</td>\n",
              "      <td>Algiers</td>\n",
              "      <td>1</td>\n",
              "      <td>2</td>\n",
              "      <td>1995</td>\n",
              "      <td>49.4</td>\n",
              "    </tr>\n",
              "    <tr>\n",
              "      <th>2</th>\n",
              "      <td>Africa</td>\n",
              "      <td>Algeria</td>\n",
              "      <td>NaN</td>\n",
              "      <td>Algiers</td>\n",
              "      <td>1</td>\n",
              "      <td>3</td>\n",
              "      <td>1995</td>\n",
              "      <td>48.8</td>\n",
              "    </tr>\n",
              "    <tr>\n",
              "      <th>3</th>\n",
              "      <td>Africa</td>\n",
              "      <td>Algeria</td>\n",
              "      <td>NaN</td>\n",
              "      <td>Algiers</td>\n",
              "      <td>1</td>\n",
              "      <td>4</td>\n",
              "      <td>1995</td>\n",
              "      <td>46.4</td>\n",
              "    </tr>\n",
              "    <tr>\n",
              "      <th>4</th>\n",
              "      <td>Africa</td>\n",
              "      <td>Algeria</td>\n",
              "      <td>NaN</td>\n",
              "      <td>Algiers</td>\n",
              "      <td>1</td>\n",
              "      <td>5</td>\n",
              "      <td>1995</td>\n",
              "      <td>47.9</td>\n",
              "    </tr>\n",
              "    <tr>\n",
              "      <th>...</th>\n",
              "      <td>...</td>\n",
              "      <td>...</td>\n",
              "      <td>...</td>\n",
              "      <td>...</td>\n",
              "      <td>...</td>\n",
              "      <td>...</td>\n",
              "      <td>...</td>\n",
              "      <td>...</td>\n",
              "    </tr>\n",
              "    <tr>\n",
              "      <th>2906322</th>\n",
              "      <td>North America</td>\n",
              "      <td>US</td>\n",
              "      <td>Additional Territories</td>\n",
              "      <td>San Juan Puerto Rico</td>\n",
              "      <td>7</td>\n",
              "      <td>27</td>\n",
              "      <td>2013</td>\n",
              "      <td>82.4</td>\n",
              "    </tr>\n",
              "    <tr>\n",
              "      <th>2906323</th>\n",
              "      <td>North America</td>\n",
              "      <td>US</td>\n",
              "      <td>Additional Territories</td>\n",
              "      <td>San Juan Puerto Rico</td>\n",
              "      <td>7</td>\n",
              "      <td>28</td>\n",
              "      <td>2013</td>\n",
              "      <td>81.6</td>\n",
              "    </tr>\n",
              "    <tr>\n",
              "      <th>2906324</th>\n",
              "      <td>North America</td>\n",
              "      <td>US</td>\n",
              "      <td>Additional Territories</td>\n",
              "      <td>San Juan Puerto Rico</td>\n",
              "      <td>7</td>\n",
              "      <td>29</td>\n",
              "      <td>2013</td>\n",
              "      <td>84.2</td>\n",
              "    </tr>\n",
              "    <tr>\n",
              "      <th>2906325</th>\n",
              "      <td>North America</td>\n",
              "      <td>US</td>\n",
              "      <td>Additional Territories</td>\n",
              "      <td>San Juan Puerto Rico</td>\n",
              "      <td>7</td>\n",
              "      <td>30</td>\n",
              "      <td>2013</td>\n",
              "      <td>83.8</td>\n",
              "    </tr>\n",
              "    <tr>\n",
              "      <th>2906326</th>\n",
              "      <td>North America</td>\n",
              "      <td>US</td>\n",
              "      <td>Additional Territories</td>\n",
              "      <td>San Juan Puerto Rico</td>\n",
              "      <td>7</td>\n",
              "      <td>31</td>\n",
              "      <td>2013</td>\n",
              "      <td>83.6</td>\n",
              "    </tr>\n",
              "  </tbody>\n",
              "</table>\n",
              "<p>2906327 rows × 8 columns</p>\n",
              "</div>\n",
              "      <button class=\"colab-df-convert\" onclick=\"convertToInteractive('df-1994d50f-abe0-4d3e-9fc7-c53d8264bfd8')\"\n",
              "              title=\"Convert this dataframe to an interactive table.\"\n",
              "              style=\"display:none;\">\n",
              "        \n",
              "  <svg xmlns=\"http://www.w3.org/2000/svg\" height=\"24px\"viewBox=\"0 0 24 24\"\n",
              "       width=\"24px\">\n",
              "    <path d=\"M0 0h24v24H0V0z\" fill=\"none\"/>\n",
              "    <path d=\"M18.56 5.44l.94 2.06.94-2.06 2.06-.94-2.06-.94-.94-2.06-.94 2.06-2.06.94zm-11 1L8.5 8.5l.94-2.06 2.06-.94-2.06-.94L8.5 2.5l-.94 2.06-2.06.94zm10 10l.94 2.06.94-2.06 2.06-.94-2.06-.94-.94-2.06-.94 2.06-2.06.94z\"/><path d=\"M17.41 7.96l-1.37-1.37c-.4-.4-.92-.59-1.43-.59-.52 0-1.04.2-1.43.59L10.3 9.45l-7.72 7.72c-.78.78-.78 2.05 0 2.83L4 21.41c.39.39.9.59 1.41.59.51 0 1.02-.2 1.41-.59l7.78-7.78 2.81-2.81c.8-.78.8-2.07 0-2.86zM5.41 20L4 18.59l7.72-7.72 1.47 1.35L5.41 20z\"/>\n",
              "  </svg>\n",
              "      </button>\n",
              "      \n",
              "  <style>\n",
              "    .colab-df-container {\n",
              "      display:flex;\n",
              "      flex-wrap:wrap;\n",
              "      gap: 12px;\n",
              "    }\n",
              "\n",
              "    .colab-df-convert {\n",
              "      background-color: #E8F0FE;\n",
              "      border: none;\n",
              "      border-radius: 50%;\n",
              "      cursor: pointer;\n",
              "      display: none;\n",
              "      fill: #1967D2;\n",
              "      height: 32px;\n",
              "      padding: 0 0 0 0;\n",
              "      width: 32px;\n",
              "    }\n",
              "\n",
              "    .colab-df-convert:hover {\n",
              "      background-color: #E2EBFA;\n",
              "      box-shadow: 0px 1px 2px rgba(60, 64, 67, 0.3), 0px 1px 3px 1px rgba(60, 64, 67, 0.15);\n",
              "      fill: #174EA6;\n",
              "    }\n",
              "\n",
              "    [theme=dark] .colab-df-convert {\n",
              "      background-color: #3B4455;\n",
              "      fill: #D2E3FC;\n",
              "    }\n",
              "\n",
              "    [theme=dark] .colab-df-convert:hover {\n",
              "      background-color: #434B5C;\n",
              "      box-shadow: 0px 1px 3px 1px rgba(0, 0, 0, 0.15);\n",
              "      filter: drop-shadow(0px 1px 2px rgba(0, 0, 0, 0.3));\n",
              "      fill: #FFFFFF;\n",
              "    }\n",
              "  </style>\n",
              "\n",
              "      <script>\n",
              "        const buttonEl =\n",
              "          document.querySelector('#df-1994d50f-abe0-4d3e-9fc7-c53d8264bfd8 button.colab-df-convert');\n",
              "        buttonEl.style.display =\n",
              "          google.colab.kernel.accessAllowed ? 'block' : 'none';\n",
              "\n",
              "        async function convertToInteractive(key) {\n",
              "          const element = document.querySelector('#df-1994d50f-abe0-4d3e-9fc7-c53d8264bfd8');\n",
              "          const dataTable =\n",
              "            await google.colab.kernel.invokeFunction('convertToInteractive',\n",
              "                                                     [key], {});\n",
              "          if (!dataTable) return;\n",
              "\n",
              "          const docLinkHtml = 'Like what you see? Visit the ' +\n",
              "            '<a target=\"_blank\" href=https://colab.research.google.com/notebooks/data_table.ipynb>data table notebook</a>'\n",
              "            + ' to learn more about interactive tables.';\n",
              "          element.innerHTML = '';\n",
              "          dataTable['output_type'] = 'display_data';\n",
              "          await google.colab.output.renderOutput(dataTable, element);\n",
              "          const docLink = document.createElement('div');\n",
              "          docLink.innerHTML = docLinkHtml;\n",
              "          element.appendChild(docLink);\n",
              "        }\n",
              "      </script>\n",
              "    </div>\n",
              "  </div>\n",
              "  "
            ]
          },
          "metadata": {},
          "execution_count": 7
        }
      ]
    },
    {
      "cell_type": "code",
      "source": [
        "# Show distribution of data across regions\n",
        "df.Region.value_counts()\n",
        "# Most of the data points are from cities in North America\n",
        "# We focus on cities in Europe for this project"
      ],
      "metadata": {
        "colab": {
          "base_uri": "https://localhost:8080/"
        },
        "id": "hZLKV-cLR2NZ",
        "outputId": "2f4b32ae-18b2-47a3-9a3c-0c0245910fe5"
      },
      "execution_count": 8,
      "outputs": [
        {
          "output_type": "execute_result",
          "data": {
            "text/plain": [
              "North America                        1556681\n",
              "Europe                                381990\n",
              "Asia                                  316663\n",
              "Africa                                251118\n",
              "South/Central America & Carribean     219530\n",
              "Middle East                           124749\n",
              "Australia/South Pacific                55596\n",
              "Name: Region, dtype: int64"
            ]
          },
          "metadata": {},
          "execution_count": 8
        }
      ]
    },
    {
      "cell_type": "code",
      "source": [
        "# Extract data from European cities in the year range 1995 - 2022\n",
        "df_europe = df[(df.Region == \"Europe\") & (df.Year >= 1995) & (df.Year <= 2022)]\n",
        "df_europe.shape\n",
        "# There are 381,695 relevant temperature observations from European cities"
      ],
      "metadata": {
        "colab": {
          "base_uri": "https://localhost:8080/"
        },
        "id": "Jb4qPSfOSEK1",
        "outputId": "b9a92803-ff86-487e-f707-3e3b39b69fca"
      },
      "execution_count": 9,
      "outputs": [
        {
          "output_type": "execute_result",
          "data": {
            "text/plain": [
              "(381695, 8)"
            ]
          },
          "metadata": {},
          "execution_count": 9
        }
      ]
    },
    {
      "cell_type": "markdown",
      "source": [
        "### Exploratory Data Analysis"
      ],
      "metadata": {
        "id": "Fo30auLUnnMJ"
      }
    },
    {
      "cell_type": "code",
      "source": [
        "# Show dataframe\n",
        "df_europe"
      ],
      "metadata": {
        "colab": {
          "base_uri": "https://localhost:8080/",
          "height": 424
        },
        "id": "EH-bXeGubNaO",
        "outputId": "24391e95-ac9b-4741-9a80-bb90f270a0e1"
      },
      "execution_count": 10,
      "outputs": [
        {
          "output_type": "execute_result",
          "data": {
            "text/plain": [
              "         Region     Country State      City  Month  Day  Year  AvgTemperature\n",
              "623377   Europe     Albania   NaN    Tirana      1    1  1995           -99.0\n",
              "623378   Europe     Albania   NaN    Tirana      1    2  1995           -99.0\n",
              "623379   Europe     Albania   NaN    Tirana      1    3  1995           -99.0\n",
              "623380   Europe     Albania   NaN    Tirana      1    4  1995           -99.0\n",
              "623381   Europe     Albania   NaN    Tirana      1    5  1995           -99.0\n",
              "...         ...         ...   ...       ...    ...  ...   ...             ...\n",
              "1005362  Europe  Yugoslavia   NaN  Belgrade      5    9  2020            66.2\n",
              "1005363  Europe  Yugoslavia   NaN  Belgrade      5   10  2020            70.7\n",
              "1005364  Europe  Yugoslavia   NaN  Belgrade      5   11  2020            72.5\n",
              "1005365  Europe  Yugoslavia   NaN  Belgrade      5   12  2020            61.5\n",
              "1005366  Europe  Yugoslavia   NaN  Belgrade      5   13  2020            51.8\n",
              "\n",
              "[381695 rows x 8 columns]"
            ],
            "text/html": [
              "\n",
              "  <div id=\"df-ea68d2c0-3c78-48e4-a13d-17a0edbe8801\">\n",
              "    <div class=\"colab-df-container\">\n",
              "      <div>\n",
              "<style scoped>\n",
              "    .dataframe tbody tr th:only-of-type {\n",
              "        vertical-align: middle;\n",
              "    }\n",
              "\n",
              "    .dataframe tbody tr th {\n",
              "        vertical-align: top;\n",
              "    }\n",
              "\n",
              "    .dataframe thead th {\n",
              "        text-align: right;\n",
              "    }\n",
              "</style>\n",
              "<table border=\"1\" class=\"dataframe\">\n",
              "  <thead>\n",
              "    <tr style=\"text-align: right;\">\n",
              "      <th></th>\n",
              "      <th>Region</th>\n",
              "      <th>Country</th>\n",
              "      <th>State</th>\n",
              "      <th>City</th>\n",
              "      <th>Month</th>\n",
              "      <th>Day</th>\n",
              "      <th>Year</th>\n",
              "      <th>AvgTemperature</th>\n",
              "    </tr>\n",
              "  </thead>\n",
              "  <tbody>\n",
              "    <tr>\n",
              "      <th>623377</th>\n",
              "      <td>Europe</td>\n",
              "      <td>Albania</td>\n",
              "      <td>NaN</td>\n",
              "      <td>Tirana</td>\n",
              "      <td>1</td>\n",
              "      <td>1</td>\n",
              "      <td>1995</td>\n",
              "      <td>-99.0</td>\n",
              "    </tr>\n",
              "    <tr>\n",
              "      <th>623378</th>\n",
              "      <td>Europe</td>\n",
              "      <td>Albania</td>\n",
              "      <td>NaN</td>\n",
              "      <td>Tirana</td>\n",
              "      <td>1</td>\n",
              "      <td>2</td>\n",
              "      <td>1995</td>\n",
              "      <td>-99.0</td>\n",
              "    </tr>\n",
              "    <tr>\n",
              "      <th>623379</th>\n",
              "      <td>Europe</td>\n",
              "      <td>Albania</td>\n",
              "      <td>NaN</td>\n",
              "      <td>Tirana</td>\n",
              "      <td>1</td>\n",
              "      <td>3</td>\n",
              "      <td>1995</td>\n",
              "      <td>-99.0</td>\n",
              "    </tr>\n",
              "    <tr>\n",
              "      <th>623380</th>\n",
              "      <td>Europe</td>\n",
              "      <td>Albania</td>\n",
              "      <td>NaN</td>\n",
              "      <td>Tirana</td>\n",
              "      <td>1</td>\n",
              "      <td>4</td>\n",
              "      <td>1995</td>\n",
              "      <td>-99.0</td>\n",
              "    </tr>\n",
              "    <tr>\n",
              "      <th>623381</th>\n",
              "      <td>Europe</td>\n",
              "      <td>Albania</td>\n",
              "      <td>NaN</td>\n",
              "      <td>Tirana</td>\n",
              "      <td>1</td>\n",
              "      <td>5</td>\n",
              "      <td>1995</td>\n",
              "      <td>-99.0</td>\n",
              "    </tr>\n",
              "    <tr>\n",
              "      <th>...</th>\n",
              "      <td>...</td>\n",
              "      <td>...</td>\n",
              "      <td>...</td>\n",
              "      <td>...</td>\n",
              "      <td>...</td>\n",
              "      <td>...</td>\n",
              "      <td>...</td>\n",
              "      <td>...</td>\n",
              "    </tr>\n",
              "    <tr>\n",
              "      <th>1005362</th>\n",
              "      <td>Europe</td>\n",
              "      <td>Yugoslavia</td>\n",
              "      <td>NaN</td>\n",
              "      <td>Belgrade</td>\n",
              "      <td>5</td>\n",
              "      <td>9</td>\n",
              "      <td>2020</td>\n",
              "      <td>66.2</td>\n",
              "    </tr>\n",
              "    <tr>\n",
              "      <th>1005363</th>\n",
              "      <td>Europe</td>\n",
              "      <td>Yugoslavia</td>\n",
              "      <td>NaN</td>\n",
              "      <td>Belgrade</td>\n",
              "      <td>5</td>\n",
              "      <td>10</td>\n",
              "      <td>2020</td>\n",
              "      <td>70.7</td>\n",
              "    </tr>\n",
              "    <tr>\n",
              "      <th>1005364</th>\n",
              "      <td>Europe</td>\n",
              "      <td>Yugoslavia</td>\n",
              "      <td>NaN</td>\n",
              "      <td>Belgrade</td>\n",
              "      <td>5</td>\n",
              "      <td>11</td>\n",
              "      <td>2020</td>\n",
              "      <td>72.5</td>\n",
              "    </tr>\n",
              "    <tr>\n",
              "      <th>1005365</th>\n",
              "      <td>Europe</td>\n",
              "      <td>Yugoslavia</td>\n",
              "      <td>NaN</td>\n",
              "      <td>Belgrade</td>\n",
              "      <td>5</td>\n",
              "      <td>12</td>\n",
              "      <td>2020</td>\n",
              "      <td>61.5</td>\n",
              "    </tr>\n",
              "    <tr>\n",
              "      <th>1005366</th>\n",
              "      <td>Europe</td>\n",
              "      <td>Yugoslavia</td>\n",
              "      <td>NaN</td>\n",
              "      <td>Belgrade</td>\n",
              "      <td>5</td>\n",
              "      <td>13</td>\n",
              "      <td>2020</td>\n",
              "      <td>51.8</td>\n",
              "    </tr>\n",
              "  </tbody>\n",
              "</table>\n",
              "<p>381695 rows × 8 columns</p>\n",
              "</div>\n",
              "      <button class=\"colab-df-convert\" onclick=\"convertToInteractive('df-ea68d2c0-3c78-48e4-a13d-17a0edbe8801')\"\n",
              "              title=\"Convert this dataframe to an interactive table.\"\n",
              "              style=\"display:none;\">\n",
              "        \n",
              "  <svg xmlns=\"http://www.w3.org/2000/svg\" height=\"24px\"viewBox=\"0 0 24 24\"\n",
              "       width=\"24px\">\n",
              "    <path d=\"M0 0h24v24H0V0z\" fill=\"none\"/>\n",
              "    <path d=\"M18.56 5.44l.94 2.06.94-2.06 2.06-.94-2.06-.94-.94-2.06-.94 2.06-2.06.94zm-11 1L8.5 8.5l.94-2.06 2.06-.94-2.06-.94L8.5 2.5l-.94 2.06-2.06.94zm10 10l.94 2.06.94-2.06 2.06-.94-2.06-.94-.94-2.06-.94 2.06-2.06.94z\"/><path d=\"M17.41 7.96l-1.37-1.37c-.4-.4-.92-.59-1.43-.59-.52 0-1.04.2-1.43.59L10.3 9.45l-7.72 7.72c-.78.78-.78 2.05 0 2.83L4 21.41c.39.39.9.59 1.41.59.51 0 1.02-.2 1.41-.59l7.78-7.78 2.81-2.81c.8-.78.8-2.07 0-2.86zM5.41 20L4 18.59l7.72-7.72 1.47 1.35L5.41 20z\"/>\n",
              "  </svg>\n",
              "      </button>\n",
              "      \n",
              "  <style>\n",
              "    .colab-df-container {\n",
              "      display:flex;\n",
              "      flex-wrap:wrap;\n",
              "      gap: 12px;\n",
              "    }\n",
              "\n",
              "    .colab-df-convert {\n",
              "      background-color: #E8F0FE;\n",
              "      border: none;\n",
              "      border-radius: 50%;\n",
              "      cursor: pointer;\n",
              "      display: none;\n",
              "      fill: #1967D2;\n",
              "      height: 32px;\n",
              "      padding: 0 0 0 0;\n",
              "      width: 32px;\n",
              "    }\n",
              "\n",
              "    .colab-df-convert:hover {\n",
              "      background-color: #E2EBFA;\n",
              "      box-shadow: 0px 1px 2px rgba(60, 64, 67, 0.3), 0px 1px 3px 1px rgba(60, 64, 67, 0.15);\n",
              "      fill: #174EA6;\n",
              "    }\n",
              "\n",
              "    [theme=dark] .colab-df-convert {\n",
              "      background-color: #3B4455;\n",
              "      fill: #D2E3FC;\n",
              "    }\n",
              "\n",
              "    [theme=dark] .colab-df-convert:hover {\n",
              "      background-color: #434B5C;\n",
              "      box-shadow: 0px 1px 3px 1px rgba(0, 0, 0, 0.15);\n",
              "      filter: drop-shadow(0px 1px 2px rgba(0, 0, 0, 0.3));\n",
              "      fill: #FFFFFF;\n",
              "    }\n",
              "  </style>\n",
              "\n",
              "      <script>\n",
              "        const buttonEl =\n",
              "          document.querySelector('#df-ea68d2c0-3c78-48e4-a13d-17a0edbe8801 button.colab-df-convert');\n",
              "        buttonEl.style.display =\n",
              "          google.colab.kernel.accessAllowed ? 'block' : 'none';\n",
              "\n",
              "        async function convertToInteractive(key) {\n",
              "          const element = document.querySelector('#df-ea68d2c0-3c78-48e4-a13d-17a0edbe8801');\n",
              "          const dataTable =\n",
              "            await google.colab.kernel.invokeFunction('convertToInteractive',\n",
              "                                                     [key], {});\n",
              "          if (!dataTable) return;\n",
              "\n",
              "          const docLinkHtml = 'Like what you see? Visit the ' +\n",
              "            '<a target=\"_blank\" href=https://colab.research.google.com/notebooks/data_table.ipynb>data table notebook</a>'\n",
              "            + ' to learn more about interactive tables.';\n",
              "          element.innerHTML = '';\n",
              "          dataTable['output_type'] = 'display_data';\n",
              "          await google.colab.output.renderOutput(dataTable, element);\n",
              "          const docLink = document.createElement('div');\n",
              "          docLink.innerHTML = docLinkHtml;\n",
              "          element.appendChild(docLink);\n",
              "        }\n",
              "      </script>\n",
              "    </div>\n",
              "  </div>\n",
              "  "
            ]
          },
          "metadata": {},
          "execution_count": 10
        }
      ]
    },
    {
      "cell_type": "code",
      "source": [
        "# Show column info\n",
        "df_europe.info()\n",
        "# The 'State' column contains only null values"
      ],
      "metadata": {
        "colab": {
          "base_uri": "https://localhost:8080/"
        },
        "id": "tb2i8ahSbNcE",
        "outputId": "a7d17a21-36ac-4068-b068-d87f7b9cbd1f"
      },
      "execution_count": 11,
      "outputs": [
        {
          "output_type": "stream",
          "name": "stdout",
          "text": [
            "<class 'pandas.core.frame.DataFrame'>\n",
            "Int64Index: 381695 entries, 623377 to 1005366\n",
            "Data columns (total 8 columns):\n",
            " #   Column          Non-Null Count   Dtype  \n",
            "---  ------          --------------   -----  \n",
            " 0   Region          381695 non-null  object \n",
            " 1   Country         381695 non-null  object \n",
            " 2   State           0 non-null       object \n",
            " 3   City            381695 non-null  object \n",
            " 4   Month           381695 non-null  int64  \n",
            " 5   Day             381695 non-null  int64  \n",
            " 6   Year            381695 non-null  int64  \n",
            " 7   AvgTemperature  381695 non-null  float64\n",
            "dtypes: float64(1), int64(3), object(4)\n",
            "memory usage: 26.2+ MB\n"
          ]
        }
      ]
    },
    {
      "cell_type": "code",
      "source": [
        "# Show counts of countries\n",
        "df_europe.Country.value_counts()\n",
        "# The data is spread across Europe, but with some countries having far more observations than others"
      ],
      "metadata": {
        "colab": {
          "base_uri": "https://localhost:8080/"
        },
        "id": "odUsd4WPb5VM",
        "outputId": "72f1f458-8589-4fca-e620-89f993585094"
      },
      "execution_count": 14,
      "outputs": [
        {
          "output_type": "execute_result",
          "data": {
            "text/plain": [
              "Spain                27798\n",
              "Switzerland          27798\n",
              "Germany              24518\n",
              "Italy                18532\n",
              "United Kingdom       18532\n",
              "France               18532\n",
              "Russia               12492\n",
              "Norway                9613\n",
              "Slovakia              9266\n",
              "Austria               9266\n",
              "Romania               9266\n",
              "Sweden                9266\n",
              "Ukraine               9266\n",
              "Portugal              9266\n",
              "Poland                9266\n",
              "The Netherlands       9266\n",
              "Latvia                9266\n",
              "Albania               9266\n",
              "Ireland               9266\n",
              "Iceland               9266\n",
              "Hungary               9266\n",
              "Finland               9266\n",
              "Denmark               9266\n",
              "Czech Republic        9266\n",
              "Bulgaria              9266\n",
              "Belgium               9266\n",
              "Yugoslavia            9266\n",
              "Macedonia             9265\n",
              "Croatia               9265\n",
              "Belarus               9264\n",
              "Greece                6575\n",
              "Cyprus                5652\n",
              "Georgia               4378\n",
              "Serbia-Montenegro     3427\n",
              "Name: Country, dtype: int64"
            ]
          },
          "metadata": {},
          "execution_count": 14
        }
      ]
    },
    {
      "cell_type": "code",
      "source": [
        "# Show counts of cities\n",
        "df_europe.City.value_counts()\n",
        "# The number of data points per city is similar, except for some cities that have less"
      ],
      "metadata": {
        "colab": {
          "base_uri": "https://localhost:8080/"
        },
        "id": "AqzS2LaJcCU-",
        "outputId": "97e0903c-1c13-4169-c846-34d4c6d14d29"
      },
      "execution_count": 15,
      "outputs": [
        {
          "output_type": "execute_result",
          "data": {
            "text/plain": [
              "Munich        9940\n",
              "Oslo          9613\n",
              "Tirana        9266\n",
              "Barcelona     9266\n",
              "Amsterdam     9266\n",
              "Warsaw        9266\n",
              "Lisbon        9266\n",
              "Bucharest     9266\n",
              "Moscow        9266\n",
              "Bratislava    9266\n",
              "Bilbao        9266\n",
              "Vienna        9266\n",
              "Madrid        9266\n",
              "Stockholm     9266\n",
              "Bern          9266\n",
              "Geneva        9266\n",
              "Zurich        9266\n",
              "Kiev          9266\n",
              "Belfast       9266\n",
              "London        9266\n",
              "Riga          9266\n",
              "Rome          9266\n",
              "Milan         9266\n",
              "Dublin        9266\n",
              "Brussels      9266\n",
              "Sofia         9266\n",
              "Prague        9266\n",
              "Copenhagen    9266\n",
              "Helsinki      9266\n",
              "Paris         9266\n",
              "Bordeaux      9266\n",
              "Belgrade      9266\n",
              "Budapest      9266\n",
              "Reykjavik     9266\n",
              "Zagreb        9265\n",
              "Skopje        9265\n",
              "Minsk         9264\n",
              "Hamburg       7309\n",
              "Athens        6575\n",
              "Nicosia       5652\n",
              "Tbilisi       4378\n",
              "Frankfurt     4136\n",
              "Pristina      3427\n",
              "Yerevan       3226\n",
              "Bonn          3133\n",
              "Name: City, dtype: int64"
            ]
          },
          "metadata": {},
          "execution_count": 15
        }
      ]
    },
    {
      "cell_type": "code",
      "source": [
        "# Show counts of years\n",
        "df_europe.Year.value_counts()\n",
        "# The dataset spans from 1995 to 2020, with generally more observations in earlier years"
      ],
      "metadata": {
        "colab": {
          "base_uri": "https://localhost:8080/"
        },
        "id": "G3Y3oZ1UcJ7I",
        "outputId": "893cd925-2697-49f0-f1a2-1921fd4b6661"
      },
      "execution_count": 16,
      "outputs": [
        {
          "output_type": "execute_result",
          "data": {
            "text/plain": [
              "1996    16470\n",
              "2000    16470\n",
              "1997    16425\n",
              "1998    16425\n",
              "1999    16425\n",
              "2001    16425\n",
              "2002    16425\n",
              "1995    16424\n",
              "2003    16210\n",
              "2004    15512\n",
              "2005    15330\n",
              "2006    15079\n",
              "2008    14988\n",
              "2011    14935\n",
              "2010    14774\n",
              "2007    14630\n",
              "2009    14602\n",
              "2012    13908\n",
              "2018    13843\n",
              "2019    13842\n",
              "2016    13542\n",
              "2015    13541\n",
              "2013    13505\n",
              "2014    13505\n",
              "2017    13505\n",
              "2020     4955\n",
              "Name: Year, dtype: int64"
            ]
          },
          "metadata": {},
          "execution_count": 16
        }
      ]
    },
    {
      "cell_type": "code",
      "source": [
        "# Show counts of months\n",
        "df_europe.Month.value_counts()\n",
        "# There are similar numbers of observations for each month"
      ],
      "metadata": {
        "colab": {
          "base_uri": "https://localhost:8080/"
        },
        "id": "kfvapkyPcGSZ",
        "outputId": "937abc1f-ab9e-41d1-e554-8f61978ebcd8"
      },
      "execution_count": 17,
      "outputs": [
        {
          "output_type": "execute_result",
          "data": {
            "text/plain": [
              "3     33201\n",
              "1     33200\n",
              "5     32489\n",
              "4     32128\n",
              "7     31960\n",
              "8     31930\n",
              "10    31930\n",
              "12    31861\n",
              "6     30951\n",
              "9     30901\n",
              "11    30870\n",
              "2     30274\n",
              "Name: Month, dtype: int64"
            ]
          },
          "metadata": {},
          "execution_count": 17
        }
      ]
    },
    {
      "cell_type": "code",
      "source": [
        "# Show counts of days\n",
        "df_europe.Day.value_counts()\n",
        "# There are similar numbers of observations for each day (less for day 31 since not all months have 31 days)"
      ],
      "metadata": {
        "colab": {
          "base_uri": "https://localhost:8080/"
        },
        "id": "uByAsLbDcJEe",
        "outputId": "556dc4b2-54f8-4196-8c14-54c9704758bb"
      },
      "execution_count": 18,
      "outputs": [
        {
          "output_type": "execute_result",
          "data": {
            "text/plain": [
              "3     12565\n",
              "2     12565\n",
              "11    12564\n",
              "1     12563\n",
              "8     12563\n",
              "10    12563\n",
              "9     12563\n",
              "7     12563\n",
              "6     12563\n",
              "5     12563\n",
              "4     12563\n",
              "12    12561\n",
              "13    12560\n",
              "14    12526\n",
              "18    12525\n",
              "22    12525\n",
              "19    12525\n",
              "16    12525\n",
              "17    12525\n",
              "15    12525\n",
              "20    12524\n",
              "21    12524\n",
              "23    12524\n",
              "28    12524\n",
              "24    12523\n",
              "25    12523\n",
              "26    12523\n",
              "27    12522\n",
              "29    11738\n",
              "30    11487\n",
              "31     7288\n",
              "Name: Day, dtype: int64"
            ]
          },
          "metadata": {},
          "execution_count": 18
        }
      ]
    },
    {
      "cell_type": "code",
      "source": [
        "# Show statistics of the average temperature variable\n",
        "df_europe['AvgTemperature'].describe()\n",
        "# We note that some values are -99.0, which is an invalid temperature"
      ],
      "metadata": {
        "colab": {
          "base_uri": "https://localhost:8080/"
        },
        "id": "dV-tLHkubgPi",
        "outputId": "94dd65cb-53ae-4b7e-e6bf-34a690eeea81"
      },
      "execution_count": 13,
      "outputs": [
        {
          "output_type": "execute_result",
          "data": {
            "text/plain": [
              "count    381695.000000\n",
              "mean         46.808889\n",
              "std          31.175564\n",
              "min         -99.000000\n",
              "25%          39.700000\n",
              "50%          51.900000\n",
              "75%          62.700000\n",
              "max         102.500000\n",
              "Name: AvgTemperature, dtype: float64"
            ]
          },
          "metadata": {},
          "execution_count": 13
        }
      ]
    },
    {
      "cell_type": "code",
      "source": [
        "# We check if any other temperatures are invalid\n",
        "sns.histplot(df_europe['AvgTemperature'], kde=True)\n",
        "# It seems as though only -99.0 represents an invalid/missing observation,\n",
        "# since all other values seem reasonable. We see that there are > 12,000 \n",
        "# missing temperatures, and will have to account for this later\n",
        "\n",
        "# The overall distribution of temperatures in Europe seems approximately normal"
      ],
      "metadata": {
        "colab": {
          "base_uri": "https://localhost:8080/",
          "height": 296
        },
        "id": "_jIrR22Xb0Tt",
        "outputId": "2b225bad-f550-486c-fe52-cab032cf061f"
      },
      "execution_count": 20,
      "outputs": [
        {
          "output_type": "execute_result",
          "data": {
            "text/plain": [
              "<matplotlib.axes._subplots.AxesSubplot at 0x7ff7363b8710>"
            ]
          },
          "metadata": {},
          "execution_count": 20
        },
        {
          "output_type": "display_data",
          "data": {
            "text/plain": [
              "<Figure size 432x288 with 1 Axes>"
            ],
            "image/png": "[encoded data removed]"
          },
          "metadata": {
            "needs_background": "light"
          }
        }
      ]
    },
    {
      "cell_type": "code",
      "source": [
        "# Consider two cities: Barcelona and Stockholm\n",
        "df_Barcelona = df_europe[df_europe.City == 'Barcelona']\n",
        "df_Stockholm = df_europe[df_europe.City == 'Stockholm']\n",
        "df_Barcelona.Year.value_counts(), df_Stockholm.Year.value_counts()\n",
        "# These two cities have the same number of observations for each year"
      ],
      "metadata": {
        "colab": {
          "base_uri": "https://localhost:8080/"
        },
        "id": "qzs4gO3fcvR3",
        "outputId": "98017450-c2a7-40a0-dca4-2828780da61e"
      },
      "execution_count": 33,
      "outputs": [
        {
          "output_type": "execute_result",
          "data": {
            "text/plain": [
              "(2008    366\n",
              " 2000    366\n",
              " 2016    366\n",
              " 2015    366\n",
              " 2004    366\n",
              " 2012    366\n",
              " 1996    366\n",
              " 2010    365\n",
              " 2019    365\n",
              " 2018    365\n",
              " 2017    365\n",
              " 2014    365\n",
              " 2013    365\n",
              " 2011    365\n",
              " 1995    365\n",
              " 2009    365\n",
              " 2007    365\n",
              " 2006    365\n",
              " 2005    365\n",
              " 2003    365\n",
              " 2002    365\n",
              " 2001    365\n",
              " 1999    365\n",
              " 1998    365\n",
              " 1997    365\n",
              " 2020    134\n",
              " Name: Year, dtype: int64, 2008    366\n",
              " 2000    366\n",
              " 2016    366\n",
              " 2015    366\n",
              " 2004    366\n",
              " 2012    366\n",
              " 1996    366\n",
              " 2010    365\n",
              " 2019    365\n",
              " 2018    365\n",
              " 2017    365\n",
              " 2014    365\n",
              " 2013    365\n",
              " 2011    365\n",
              " 1995    365\n",
              " 2009    365\n",
              " 2007    365\n",
              " 2006    365\n",
              " 2005    365\n",
              " 2003    365\n",
              " 2002    365\n",
              " 2001    365\n",
              " 1999    365\n",
              " 1998    365\n",
              " 1997    365\n",
              " 2020    134\n",
              " Name: Year, dtype: int64)"
            ]
          },
          "metadata": {},
          "execution_count": 33
        }
      ]
    },
    {
      "cell_type": "code",
      "source": [
        "# Plot average temperatures from Barcelona\n",
        "sns.histplot(df_Barcelona['AvgTemperature'], kde=True)\n",
        "df_Barcelona['AvgTemperature'].describe()"
      ],
      "metadata": {
        "colab": {
          "base_uri": "https://localhost:8080/",
          "height": 435
        },
        "id": "p1bBMGiUeBqD",
        "outputId": "1a280bb6-de69-4762-91c8-c7296895b733"
      },
      "execution_count": 34,
      "outputs": [
        {
          "output_type": "execute_result",
          "data": {
            "text/plain": [
              "count    9266.000000\n",
              "mean       61.269264\n",
              "std        14.025853\n",
              "min       -99.000000\n",
              "25%        53.000000\n",
              "50%        60.900000\n",
              "75%        71.000000\n",
              "max        86.600000\n",
              "Name: AvgTemperature, dtype: float64"
            ]
          },
          "metadata": {},
          "execution_count": 34
        },
        {
          "output_type": "display_data",
          "data": {
            "text/plain": [
              "<Figure size 432x288 with 1 Axes>"
            ],
            "image/png": "[encoded data removed]"
          },
          "metadata": {
            "needs_background": "light"
          }
        }
      ]
    },
    {
      "cell_type": "code",
      "source": [
        "# Plot average temperatures from Stockholm\n",
        "sns.histplot(df_Stockholm['AvgTemperature'], kde=True)\n",
        "df_Stockholm['AvgTemperature'].describe()"
      ],
      "metadata": {
        "colab": {
          "base_uri": "https://localhost:8080/",
          "height": 435
        },
        "id": "PXku5gcFeUX3",
        "outputId": "827d60b4-2ae4-4d4d-d513-72bb7c734d4c"
      },
      "execution_count": 35,
      "outputs": [
        {
          "output_type": "execute_result",
          "data": {
            "text/plain": [
              "count    9266.000000\n",
              "mean       45.093503\n",
              "std        16.840218\n",
              "min       -99.000000\n",
              "25%        34.500000\n",
              "50%        44.800000\n",
              "75%        57.900000\n",
              "max        79.200000\n",
              "Name: AvgTemperature, dtype: float64"
            ]
          },
          "metadata": {},
          "execution_count": 35
        },
        {
          "output_type": "display_data",
          "data": {
            "text/plain": [
              "<Figure size 432x288 with 1 Axes>"
            ],
            "image/png": "[encoded data removed]"
          },
          "metadata": {
            "needs_background": "light"
          }
        }
      ]
    },
    {
      "cell_type": "code",
      "source": [
        "# We see that these two cities have similar temperature distribution shapes,\n",
        "# but Stockholm is generally cooler than Barcelona. This matches expectations based on geography."
      ],
      "metadata": {
        "id": "nrJ9q-dje-No"
      },
      "execution_count": 37,
      "outputs": []
    },
    {
      "cell_type": "markdown",
      "source": [
        "### Data preprocessing and feature engineering"
      ],
      "metadata": {
        "id": "peNs9AE8XMeA"
      }
    },
    {
      "cell_type": "code",
      "source": [
        "# Find city and year combinations where the year has 365 or 366 (leap year) temperature observations \n",
        "# and where the temperature observations are valid (not -99.0)\n",
        "invalid_cities = []\n",
        "invalid_years = []\n",
        "valid_cities = []\n",
        "valid_years = []\n",
        "for city in df_europe.City.unique():\n",
        "  df_city = df_europe[df_europe.City == city]\n",
        "  for year in df_city.Year.unique():\n",
        "    df_city_year = df_city[df_city.Year == year]\n",
        "    if (df_city_year.shape[0] not in [365, 366] or -99.0 in df_city_year.AvgTemperature.unique()):\n",
        "      invalid_cities.append(city)\n",
        "      invalid_years.append(year)\n",
        "    else:\n",
        "      valid_cities.append(city)\n",
        "      valid_years.append(year)"
      ],
      "metadata": {
        "id": "K721ThIPSJxK"
      },
      "execution_count": 36,
      "outputs": []
    },
    {
      "cell_type": "code",
      "source": [
        "# We find that there are 580 invalid city/year combinations and 485 valid city and year combinations\n",
        "len(invalid_cities), len(invalid_years), len(valid_cities), len(valid_years)"
      ],
      "metadata": {
        "colab": {
          "base_uri": "https://localhost:8080/"
        },
        "id": "UG5pfy1vU78y",
        "outputId": "855d2543-da05-4126-9818-0997b5973ffd"
      },
      "execution_count": 38,
      "outputs": [
        {
          "output_type": "execute_result",
          "data": {
            "text/plain": [
              "(580, 580, 485, 485)"
            ]
          },
          "metadata": {},
          "execution_count": 38
        }
      ]
    },
    {
      "cell_type": "code",
      "source": [
        "# Extract only rows corresponding to valid city and year combinations\n",
        "df_europe = df_europe[~df_europe[['Year', 'City']].apply(tuple, axis=1).isin(zip(invalid_years, invalid_cities))]\n",
        "df_europe.shape\n",
        "# We now have 177,168 relevant temperature observations from European cities"
      ],
      "metadata": {
        "colab": {
          "base_uri": "https://localhost:8080/"
        },
        "id": "ggg4RPmZVChe",
        "outputId": "2fbd86de-144e-47ba-ffdb-fe8ee191ff7a"
      },
      "execution_count": 39,
      "outputs": [
        {
          "output_type": "execute_result",
          "data": {
            "text/plain": [
              "(177168, 8)"
            ]
          },
          "metadata": {},
          "execution_count": 39
        }
      ]
    },
    {
      "cell_type": "code",
      "source": [
        "# Get all 31 day sequences of temperatures from each city/year combination\n",
        "# Features are the first 30 day average temperatures\n",
        "# Targets are the average temperature of the 31st day \n",
        "X = []\n",
        "y = []\n",
        "t = 30\n",
        "for city in df_europe.City.unique():\n",
        "  df_city = df_europe[df_europe.City == city]\n",
        "  for year in df_city.Year.unique():\n",
        "    df_city_year = df_city[df_city.Year == year]\n",
        "    avg_temperature = list(df_city_year.AvgTemperature.values)\n",
        "    for i in range(t, len(avg_temperature)):\n",
        "      X.append(avg_temperature[i - t: i])\n",
        "      y.append(avg_temperature[i])\n",
        "X = np.asarray(X).astype(\"float\")\n",
        "y = np.asarray(y).reshape(-1, 1).astype(\"float\")"
      ],
      "metadata": {
        "id": "348O--zFXD-D"
      },
      "execution_count": 40,
      "outputs": []
    },
    {
      "cell_type": "code",
      "source": [
        "# We have 162,618 total data points\n",
        "X.shape, y.shape, X[0], y[0]\n",
        "# We show an example data point below:"
      ],
      "metadata": {
        "colab": {
          "base_uri": "https://localhost:8080/"
        },
        "id": "Lrg6b40IYgGh",
        "outputId": "c6917a61-67d4-4f71-a99d-45ead9c1d4a0"
      },
      "execution_count": 41,
      "outputs": [
        {
          "output_type": "execute_result",
          "data": {
            "text/plain": [
              "((162618, 30),\n",
              " (162618, 1),\n",
              " array([56.9, 51.3, 43.3, 37.9, 49. , 59.6, 55.7, 58.8, 57.1, 45.5, 44.9,\n",
              "        45.6, 43.6, 42.6, 43.6, 44.8, 43.1, 43.3, 37.7, 38.3, 40.3, 37.2,\n",
              "        36.2, 34. , 35.4, 38.6, 41.8, 43.5, 43.5, 49.3]),\n",
              " array([48.6]))"
            ]
          },
          "metadata": {},
          "execution_count": 41
        }
      ]
    },
    {
      "cell_type": "markdown",
      "source": [
        "### Split data into training, validation, and testing sets and scale"
      ],
      "metadata": {
        "id": "7PjgT_pNneIF"
      }
    },
    {
      "cell_type": "code",
      "source": [
        "# Split dataframe into training (70%), validation (20%), and testing (10%) sets\n",
        "X_train, X_test, y_train, y_test = train_test_split(X, y, test_size=0.10, random_state=42)\n",
        "X_train, X_val, y_train, y_val = train_test_split(X_train, y_train, test_size=2./9., random_state=42)\n",
        "X_train.shape, y_train.shape, X_val.shape, y_val.shape, X_test.shape, y_test.shape\n",
        "# Show the sizes of the training, validation, and testing sets"
      ],
      "metadata": {
        "id": "8iJgbCpfd_oz",
        "colab": {
          "base_uri": "https://localhost:8080/"
        },
        "outputId": "aab73ed3-3ecc-430c-af0b-718100692443"
      },
      "execution_count": 42,
      "outputs": [
        {
          "output_type": "execute_result",
          "data": {
            "text/plain": [
              "((113832, 30), (113832, 1), (32524, 30), (32524, 1), (16262, 30), (16262, 1))"
            ]
          },
          "metadata": {},
          "execution_count": 42
        }
      ]
    },
    {
      "cell_type": "code",
      "source": [
        "# Scale all features into the range [0, 1] based on the training data\n",
        "sc_X = MinMaxScaler(feature_range=(0,1))\n",
        "sc_Y = MinMaxScaler(feature_range=(0,1))\n",
        "sc_X.fit(X_train)\n",
        "sc_Y.fit(y_train)\n",
        "sc_X.transform(X_train)\n",
        "sc_Y.transform(y_train)\n",
        "sc_X.transform(X_val)\n",
        "sc_Y.transform(y_val)\n",
        "sc_X.transform(X_test)\n",
        "sc_Y.transform(y_test)\n",
        "X_train.shape, y_train.shape, X_val.shape, y_val.shape, X_test.shape, y_test.shape"
      ],
      "metadata": {
        "colab": {
          "base_uri": "https://localhost:8080/"
        },
        "id": "nTWnTJAQZwKZ",
        "outputId": "0ce6cae1-d3b8-497b-8768-ee7420d63e52"
      },
      "execution_count": 43,
      "outputs": [
        {
          "output_type": "execute_result",
          "data": {
            "text/plain": [
              "((113832, 30), (113832, 1), (32524, 30), (32524, 1), (16262, 30), (16262, 1))"
            ]
          },
          "metadata": {},
          "execution_count": 43
        }
      ]
    },
    {
      "cell_type": "markdown",
      "source": [
        "### Final exploration"
      ],
      "metadata": {
        "id": "MuRj_9rDfn-C"
      }
    },
    {
      "cell_type": "code",
      "source": [
        "# Compute Pearson Correlation between each feature in the training data and the target\n",
        "for i in range(30):\n",
        "  X_i = X_train[:, i]\n",
        "  print(f\"Pearson Correlation between day {i + 1} temperature and day 31 temperature: {stats.pearsonr(X_i, y_train)[0][0]:.6f}\")\n",
        "# Here, we see that each of the average temperatures of the first 30 days has a strong relationship with the temperature of the 31st day\n",
        "# As we get closer to the 31st day, the relationship is stronger, as expected\n",
        "# As a result, given average temperature measurements for 30 days, we should be able to \n",
        "# very accurately predict the temperature of the next day in the dataset."
      ],
      "metadata": {
        "colab": {
          "base_uri": "https://localhost:8080/"
        },
        "id": "gLm0ISfffrJ9",
        "outputId": "f8eed0c8-e516-4538-e57d-f317e935b0de"
      },
      "execution_count": 53,
      "outputs": [
        {
          "output_type": "stream",
          "name": "stdout",
          "text": [
            "Pearson Correlation between day 1 temperature and day 31 temperature: 0.730184\n",
            "Pearson Correlation between day 2 temperature and day 31 temperature: 0.737527\n",
            "Pearson Correlation between day 3 temperature and day 31 temperature: 0.744371\n",
            "Pearson Correlation between day 4 temperature and day 31 temperature: 0.751373\n",
            "Pearson Correlation between day 5 temperature and day 31 temperature: 0.758165\n",
            "Pearson Correlation between day 6 temperature and day 31 temperature: 0.764853\n",
            "Pearson Correlation between day 7 temperature and day 31 temperature: 0.771679\n",
            "Pearson Correlation between day 8 temperature and day 31 temperature: 0.777965\n",
            "Pearson Correlation between day 9 temperature and day 31 temperature: 0.783738\n",
            "Pearson Correlation between day 10 temperature and day 31 temperature: 0.788935\n",
            "Pearson Correlation between day 11 temperature and day 31 temperature: 0.793187\n",
            "Pearson Correlation between day 12 temperature and day 31 temperature: 0.797512\n",
            "Pearson Correlation between day 13 temperature and day 31 temperature: 0.802227\n",
            "Pearson Correlation between day 14 temperature and day 31 temperature: 0.806544\n",
            "Pearson Correlation between day 15 temperature and day 31 temperature: 0.810529\n",
            "Pearson Correlation between day 16 temperature and day 31 temperature: 0.814146\n",
            "Pearson Correlation between day 17 temperature and day 31 temperature: 0.819195\n",
            "Pearson Correlation between day 18 temperature and day 31 temperature: 0.824618\n",
            "Pearson Correlation between day 19 temperature and day 31 temperature: 0.829450\n",
            "Pearson Correlation between day 20 temperature and day 31 temperature: 0.834608\n",
            "Pearson Correlation between day 21 temperature and day 31 temperature: 0.840139\n",
            "Pearson Correlation between day 22 temperature and day 31 temperature: 0.846079\n",
            "Pearson Correlation between day 23 temperature and day 31 temperature: 0.852056\n",
            "Pearson Correlation between day 24 temperature and day 31 temperature: 0.858621\n",
            "Pearson Correlation between day 25 temperature and day 31 temperature: 0.865935\n",
            "Pearson Correlation between day 26 temperature and day 31 temperature: 0.874750\n",
            "Pearson Correlation between day 27 temperature and day 31 temperature: 0.886595\n",
            "Pearson Correlation between day 28 temperature and day 31 temperature: 0.903716\n",
            "Pearson Correlation between day 29 temperature and day 31 temperature: 0.928665\n",
            "Pearson Correlation between day 30 temperature and day 31 temperature: 0.966104\n"
          ]
        }
      ]
    },
    {
      "cell_type": "markdown",
      "source": [
        "---\n",
        "### **Part 1: RNN Implementation**\n",
        "\n",
        "In this section, we define functions for creating models based on RNN, LSTM, GRU, and two-layer Feed Forward Network architectures, and also functions for training, evaluating, plotting the loss history, and plotting example predictions. We train an RNN model on the training set and describe the structure of this RNN, and finally evaluate the performance of this RNN on the validation and testing sets with respect to a regression metric."
      ],
      "metadata": {
        "id": "mTcBm_EMLDVr"
      }
    },
    {
      "cell_type": "code",
      "source": [
        "# This function creates an RNN model\n",
        "# The input shape is 30 time-steps with 1 feature each\n",
        "# The RNN layer has 100 hidden nodes with a tanh activation\n",
        "# The output is produced by a dense layer with one neuron and a linear activation\n",
        "def createRNN(name):\n",
        "\n",
        "    input = tf.keras.layers.Input(shape=(30, 1), name='input', dtype='float64')\n",
        "    X = tf.keras.layers.SimpleRNN(100, name='RNN_Layer', input_shape=(30, 1))(input)\n",
        "    output = tf.keras.layers.Dense(1, name='FeedForward_Layer', activation='linear')(X)\n",
        "    model = tf.keras.Model(name=name, inputs=input, outputs=output)\n",
        "\n",
        "    return model"
      ],
      "metadata": {
        "id": "3adCB8zW4xaC"
      },
      "execution_count": null,
      "outputs": []
    },
    {
      "cell_type": "code",
      "source": [
        "# This function creates an LSTM model\n",
        "# The input shape is 30 time-steps with 1 feature each\n",
        "# The LSTM layer has 100 hidden nodes with a tanh activation\n",
        "# The output is produced by a dense layer with one neuron and a linear activation\n",
        "def createLSTM(name):\n",
        "\n",
        "    input = tf.keras.layers.Input(shape=(30, 1), name='input', dtype='float64')\n",
        "    X = tf.keras.layers.LSTM(100, name='LSTM_Layer', input_shape=(30, 1))(input)\n",
        "    output = tf.keras.layers.Dense(1, name='FeedForward_Layer', activation='linear')(X)\n",
        "    model = tf.keras.Model(name=name, inputs=input, outputs=output)\n",
        "\n",
        "    return model"
      ],
      "metadata": {
        "id": "NtEnabxEkzKj"
      },
      "execution_count": null,
      "outputs": []
    },
    {
      "cell_type": "code",
      "source": [
        "# This function creates an GRU model\n",
        "# The input shape is 30 time-steps with 1 feature each\n",
        "# The GRU layer has 100 hidden nodes with a tanh activation\n",
        "# The output is produced by a dense layer with one neuron and a linear activation\n",
        "def createGRU(name):\n",
        "\n",
        "    input = tf.keras.layers.Input(shape=(30, 1), name='input', dtype='float64')\n",
        "    X = tf.keras.layers.GRU(100, name='GRU_Layer', input_shape=(30, 1))(input)\n",
        "    output = tf.keras.layers.Dense(1, name='FeedForward_Layer', activation='linear')(X)\n",
        "    model = tf.keras.Model(name=name, inputs=input, outputs=output)\n",
        "\n",
        "    return model"
      ],
      "metadata": {
        "id": "drJLbUYKk2eW"
      },
      "execution_count": null,
      "outputs": []
    },
    {
      "cell_type": "code",
      "source": [
        "# This function creates an LSTM model\n",
        "# The input shape is 30 features (the 30 time-steps)\n",
        "# The two hidden layers use a ReLU activation and have 100 and 50 nodes, respectively\n",
        "# The output is produced by a linear dense layer with one neuron\n",
        "def createTwoLayerNN(name):\n",
        "    input = tf.keras.layers.Input(shape=(30), name='input', dtype='float64')\n",
        "\n",
        "    X = tf.keras.layers.Dense(100, name='hidden_layer_1', activation='relu')(input)\n",
        "    X = tf.keras.layers.Dense(50, name='hidden_layer_2', activation='relu')(X)\n",
        "    output = tf.keras.layers.Dense(1, name='output', activation='linear')(X)\n",
        "\n",
        "    model = tf.keras.Model(name=name, inputs=input, outputs=output)\n",
        "\n",
        "    return model"
      ],
      "metadata": {
        "id": "tmejzDoIq-Zw"
      },
      "execution_count": null,
      "outputs": []
    },
    {
      "cell_type": "code",
      "source": [
        "# This function creates a model with the specified model_architecture\n",
        "# and trains the model on the training data (X_train, y_train) given the \n",
        "# validation data (X_val, y_val) with a batch size batch_size.\n",
        "# The model and training history structure are returned\n",
        "# For all training, we apply early stopping on the validation loss with patience 10 to alleviate overfitting\n",
        "# We use the Adam optimizer and mean squared error loss for regression\n",
        "def train(model_architecture, name, X_train, y_train, X_val, y_val, batch_size):\n",
        "  if (model_architecture == \"RNN\"):\n",
        "    model = createRNN(name)\n",
        "  elif (model_architecture == \"LSTM\"):\n",
        "    model = createLSTM(name)\n",
        "  elif (model_architecture == \"GRU\"):\n",
        "    model = createGRU(name)\n",
        "  elif (model_architecture == \"NN\"):\n",
        "    model = createTwoLayerNN(name)\n",
        "  es = tf.keras.callbacks.EarlyStopping(monitor='val_loss', patience=10, verbose=2, restore_best_weights=True)\n",
        "  model.compile(loss='mean_squared_error', optimizer=tf.keras.optimizers.Adam())\n",
        "  history = model.fit(x=X_train, y=y_train, steps_per_epoch=100, epochs=1000, batch_size=batch_size, validation_data=(X_val, y_val), callbacks=[es], verbose=2)\n",
        "  return model, history"
      ],
      "metadata": {
        "id": "QGe_tNNP9YrE"
      },
      "execution_count": null,
      "outputs": []
    },
    {
      "cell_type": "markdown",
      "source": [
        "For this task, we use the root mean squared error metric for regression as our evaluation metric. If our predictions are closer to the targets, this number will be lower, indicating higher performance. \n",
        "\n",
        "$\\text{RMSE} = \\sqrt{\\frac{\\sum_{i=1}^{N}(y_i - \\hat{y_i})^2}{N}}$, where $N$ is the number of observations, $y_i$ are the true targets, and $\\hat{y_i}$ are the predictions."
      ],
      "metadata": {
        "id": "zEWsYr7KkPCZ"
      }
    },
    {
      "cell_type": "code",
      "source": [
        "# This function evaluates a model based on the data (X, y)\n",
        "# We use the root mean squared error metric for this problem since it is a regression model \n",
        "def evaluate(model, X, y):\n",
        "    predictions = model.predict(X)\n",
        "    rmse = mean_squared_error(y, predictions, squared=False)\n",
        "    return rmse"
      ],
      "metadata": {
        "id": "3xFqmn0J97yF"
      },
      "execution_count": null,
      "outputs": []
    },
    {
      "cell_type": "code",
      "source": [
        "# This function produces a plot from the model training history structure,\n",
        "# showing training and validation loss vs. epoch number\n",
        "def plotHistory(history):\n",
        "  plt.plot(history.history['loss'])\n",
        "  plt.plot(history.history['val_loss'])\n",
        "  plt.xlabel(\"Epoch Number\")\n",
        "  plt.ylabel(\"Mean Squared Error Loss\")\n",
        "  plt.title(\"Mean Squared Error Loss vs. Epoch Number\")\n",
        "  plt.legend([\"Training Loss\", \"Validation Loss\"])\n",
        "  plt.grid()\n",
        "  plt.show()"
      ],
      "metadata": {
        "id": "iKu6r3Pwc6Bi"
      },
      "execution_count": null,
      "outputs": []
    },
    {
      "cell_type": "code",
      "source": [
        "# This function obtains the true data from a city/year combination,\n",
        "# splits the data into 31 day sequences, uses the model to predict values,\n",
        "# and plots the true vs. predicted temperatures for each target day\n",
        "def plotExample(model, city, year):\n",
        "  df_example = df_europe[(df_europe.City == city) & (df_europe.Year == year)]\n",
        "  \n",
        "  avg_temperature = list(df_example.AvgTemperature.values)\n",
        "  X_example = []\n",
        "  y_example = []\n",
        "  for i in range(t, len(avg_temperature)):\n",
        "    X_example.append(avg_temperature[i - t: i])\n",
        "    y_example.append(avg_temperature[i])\n",
        "  X_example = np.asarray(X_example).astype(\"float\")\n",
        "  y_example = np.asarray(y_example).reshape(-1, 1).astype(\"float\")\n",
        "\n",
        "  predictions = model.predict(X_example)\n",
        "  indices = range(1, len(predictions) + 1)\n",
        "\n",
        "  plt.plot(indices, y_example, \"g-\")\n",
        "  plt.plot(indices, predictions, \"b-\")\n",
        "  plt.xlabel(f\"Day of {year}\")\n",
        "  plt.ylabel(f\"Temperature in {city}\")\n",
        "  plt.title(f\"True vs. Predicted Temperatures For Each Day of {year} in {city}\")\n",
        "  plt.legend([\"True Temperature\", \"Predicted Temperature\"])\n",
        "  plt.grid()\n",
        "  plt.show()"
      ],
      "metadata": {
        "id": "pLQ6-Twegvu8"
      },
      "execution_count": null,
      "outputs": []
    },
    {
      "cell_type": "code",
      "source": [
        "# This function takes multiple city/year combinations and uses plotExample() to plot\n",
        "# example predictions for each city/year combination\n",
        "def plotExamples(model, cities, years):\n",
        "  for city, year in zip(cities, years):\n",
        "    plotExample(model, city, year)"
      ],
      "metadata": {
        "id": "O2P0wTolmIxQ"
      },
      "execution_count": null,
      "outputs": []
    },
    {
      "cell_type": "code",
      "source": [
        "# Train an RNN model on the training and validation data, with batch size 64\n",
        "RNN, history = train(\"RNN\", \"RNN\", X_train, y_train, X_val, y_val, 64)"
      ],
      "metadata": {
        "colab": {
          "base_uri": "https://localhost:8080/"
        },
        "id": "ysb65sP7dAzP",
        "outputId": "2a51aa73-93bb-430e-a8da-cfde97f800da"
      },
      "execution_count": null,
      "outputs": [
        {
          "output_type": "stream",
          "name": "stdout",
          "text": [
            "Epoch 1/1000\n",
            "100/100 - 4s - loss: 2104.9954 - val_loss: 1547.6057 - 4s/epoch - 44ms/step\n",
            "Epoch 2/1000\n",
            "100/100 - 4s - loss: 1255.1837 - val_loss: 994.8342 - 4s/epoch - 35ms/step\n",
            "Epoch 3/1000\n",
            "100/100 - 3s - loss: 802.9630 - val_loss: 641.1943 - 3s/epoch - 34ms/step\n",
            "Epoch 4/1000\n",
            "100/100 - 3s - loss: 521.6213 - val_loss: 415.6476 - 3s/epoch - 35ms/step\n",
            "Epoch 5/1000\n",
            "100/100 - 4s - loss: 343.5458 - val_loss: 274.8647 - 4s/epoch - 35ms/step\n",
            "Epoch 6/1000\n",
            "100/100 - 4s - loss: 219.4269 - val_loss: 188.5861 - 4s/epoch - 36ms/step\n",
            "Epoch 7/1000\n",
            "100/100 - 4s - loss: 162.3995 - val_loss: 132.4552 - 4s/epoch - 36ms/step\n",
            "Epoch 8/1000\n",
            "100/100 - 4s - loss: 113.8577 - val_loss: 96.9166 - 4s/epoch - 43ms/step\n",
            "Epoch 9/1000\n",
            "100/100 - 3s - loss: 86.1883 - val_loss: 73.0937 - 3s/epoch - 35ms/step\n",
            "Epoch 10/1000\n",
            "100/100 - 3s - loss: 66.2343 - val_loss: 57.4336 - 3s/epoch - 35ms/step\n",
            "Epoch 11/1000\n",
            "100/100 - 4s - loss: 52.1185 - val_loss: 46.5210 - 4s/epoch - 42ms/step\n",
            "Epoch 12/1000\n",
            "100/100 - 3s - loss: 43.9874 - val_loss: 38.8562 - 3s/epoch - 35ms/step\n",
            "Epoch 13/1000\n",
            "100/100 - 4s - loss: 36.4206 - val_loss: 33.4286 - 4s/epoch - 43ms/step\n",
            "Epoch 14/1000\n",
            "100/100 - 4s - loss: 30.7848 - val_loss: 29.7753 - 4s/epoch - 37ms/step\n",
            "Epoch 15/1000\n",
            "100/100 - 3s - loss: 28.9594 - val_loss: 26.9278 - 3s/epoch - 35ms/step\n",
            "Epoch 16/1000\n",
            "100/100 - 4s - loss: 25.9572 - val_loss: 24.3721 - 4s/epoch - 35ms/step\n",
            "Epoch 17/1000\n",
            "100/100 - 3s - loss: 23.5873 - val_loss: 22.7404 - 3s/epoch - 35ms/step\n",
            "Epoch 18/1000\n",
            "100/100 - 4s - loss: 23.2137 - val_loss: 21.1138 - 4s/epoch - 42ms/step\n",
            "Epoch 19/1000\n",
            "100/100 - 5s - loss: 21.0084 - val_loss: 20.1631 - 5s/epoch - 48ms/step\n",
            "Epoch 20/1000\n",
            "100/100 - 3s - loss: 20.5669 - val_loss: 19.1210 - 3s/epoch - 35ms/step\n",
            "Epoch 21/1000\n",
            "100/100 - 4s - loss: 18.2403 - val_loss: 18.2222 - 4s/epoch - 35ms/step\n",
            "Epoch 22/1000\n",
            "100/100 - 4s - loss: 18.4159 - val_loss: 18.4375 - 4s/epoch - 42ms/step\n",
            "Epoch 23/1000\n",
            "100/100 - 4s - loss: 17.8359 - val_loss: 17.4617 - 4s/epoch - 35ms/step\n",
            "Epoch 24/1000\n",
            "100/100 - 3s - loss: 17.4078 - val_loss: 17.6536 - 3s/epoch - 35ms/step\n",
            "Epoch 25/1000\n",
            "100/100 - 3s - loss: 17.5671 - val_loss: 16.5228 - 3s/epoch - 34ms/step\n",
            "Epoch 26/1000\n",
            "100/100 - 4s - loss: 17.0904 - val_loss: 16.2319 - 4s/epoch - 42ms/step\n",
            "Epoch 27/1000\n",
            "100/100 - 3s - loss: 16.5690 - val_loss: 16.4803 - 3s/epoch - 34ms/step\n",
            "Epoch 28/1000\n",
            "100/100 - 3s - loss: 16.2950 - val_loss: 16.0803 - 3s/epoch - 35ms/step\n",
            "Epoch 29/1000\n",
            "100/100 - 3s - loss: 16.0068 - val_loss: 15.8247 - 3s/epoch - 34ms/step\n",
            "Epoch 30/1000\n",
            "100/100 - 4s - loss: 16.4458 - val_loss: 16.0410 - 4s/epoch - 42ms/step\n",
            "Epoch 31/1000\n",
            "100/100 - 3s - loss: 16.4978 - val_loss: 15.3916 - 3s/epoch - 35ms/step\n",
            "Epoch 32/1000\n",
            "100/100 - 3s - loss: 15.9616 - val_loss: 15.1987 - 3s/epoch - 35ms/step\n",
            "Epoch 33/1000\n",
            "100/100 - 3s - loss: 15.2955 - val_loss: 15.0343 - 3s/epoch - 35ms/step\n",
            "Epoch 34/1000\n",
            "100/100 - 3s - loss: 15.8649 - val_loss: 15.2561 - 3s/epoch - 35ms/step\n",
            "Epoch 35/1000\n",
            "100/100 - 4s - loss: 14.7937 - val_loss: 14.8270 - 4s/epoch - 35ms/step\n",
            "Epoch 36/1000\n",
            "100/100 - 4s - loss: 15.4798 - val_loss: 15.7394 - 4s/epoch - 36ms/step\n",
            "Epoch 37/1000\n",
            "100/100 - 4s - loss: 15.3592 - val_loss: 14.6823 - 4s/epoch - 37ms/step\n",
            "Epoch 38/1000\n",
            "100/100 - 4s - loss: 16.0962 - val_loss: 14.6598 - 4s/epoch - 38ms/step\n",
            "Epoch 39/1000\n",
            "100/100 - 4s - loss: 15.3968 - val_loss: 14.6899 - 4s/epoch - 43ms/step\n",
            "Epoch 40/1000\n",
            "100/100 - 5s - loss: 15.3245 - val_loss: 15.1532 - 5s/epoch - 53ms/step\n",
            "Epoch 41/1000\n",
            "100/100 - 4s - loss: 15.1544 - val_loss: 14.8404 - 4s/epoch - 35ms/step\n",
            "Epoch 42/1000\n",
            "100/100 - 6s - loss: 14.7075 - val_loss: 14.5291 - 6s/epoch - 59ms/step\n",
            "Epoch 43/1000\n",
            "100/100 - 5s - loss: 14.7849 - val_loss: 14.5800 - 5s/epoch - 49ms/step\n",
            "Epoch 44/1000\n",
            "100/100 - 4s - loss: 14.8517 - val_loss: 14.8269 - 4s/epoch - 42ms/step\n",
            "Epoch 45/1000\n",
            "100/100 - 5s - loss: 14.4494 - val_loss: 14.2995 - 5s/epoch - 47ms/step\n",
            "Epoch 46/1000\n",
            "100/100 - 5s - loss: 14.7212 - val_loss: 14.8969 - 5s/epoch - 47ms/step\n",
            "Epoch 47/1000\n",
            "100/100 - 4s - loss: 14.9344 - val_loss: 14.2408 - 4s/epoch - 39ms/step\n",
            "Epoch 48/1000\n",
            "100/100 - 4s - loss: 14.8323 - val_loss: 14.2179 - 4s/epoch - 44ms/step\n",
            "Epoch 49/1000\n",
            "100/100 - 4s - loss: 14.5759 - val_loss: 14.4665 - 4s/epoch - 35ms/step\n",
            "Epoch 50/1000\n",
            "100/100 - 4s - loss: 15.2184 - val_loss: 14.3015 - 4s/epoch - 35ms/step\n",
            "Epoch 51/1000\n",
            "100/100 - 3s - loss: 14.8346 - val_loss: 14.4552 - 3s/epoch - 35ms/step\n",
            "Epoch 52/1000\n",
            "100/100 - 4s - loss: 14.7467 - val_loss: 14.2064 - 4s/epoch - 42ms/step\n",
            "Epoch 53/1000\n",
            "100/100 - 4s - loss: 14.4768 - val_loss: 14.2589 - 4s/epoch - 43ms/step\n",
            "Epoch 54/1000\n",
            "100/100 - 6s - loss: 14.5825 - val_loss: 14.2410 - 6s/epoch - 55ms/step\n",
            "Epoch 55/1000\n",
            "100/100 - 5s - loss: 14.1410 - val_loss: 14.8700 - 5s/epoch - 45ms/step\n",
            "Epoch 56/1000\n",
            "100/100 - 5s - loss: 15.2602 - val_loss: 14.3344 - 5s/epoch - 45ms/step\n",
            "Epoch 57/1000\n",
            "100/100 - 4s - loss: 14.9295 - val_loss: 14.3732 - 4s/epoch - 42ms/step\n",
            "Epoch 58/1000\n",
            "100/100 - 3s - loss: 14.4427 - val_loss: 14.2270 - 3s/epoch - 34ms/step\n",
            "Epoch 59/1000\n",
            "100/100 - 3s - loss: 15.0880 - val_loss: 14.2535 - 3s/epoch - 34ms/step\n",
            "Epoch 60/1000\n",
            "100/100 - 3s - loss: 14.3816 - val_loss: 14.5028 - 3s/epoch - 34ms/step\n",
            "Epoch 61/1000\n",
            "100/100 - 4s - loss: 14.7076 - val_loss: 14.0407 - 4s/epoch - 35ms/step\n",
            "Epoch 62/1000\n",
            "100/100 - 4s - loss: 14.7342 - val_loss: 14.2771 - 4s/epoch - 44ms/step\n",
            "Epoch 63/1000\n",
            "100/100 - 4s - loss: 14.5748 - val_loss: 15.2738 - 4s/epoch - 40ms/step\n",
            "Epoch 64/1000\n",
            "100/100 - 4s - loss: 15.4865 - val_loss: 14.4589 - 4s/epoch - 43ms/step\n",
            "Epoch 65/1000\n",
            "100/100 - 4s - loss: 14.1632 - val_loss: 14.2932 - 4s/epoch - 45ms/step\n",
            "Epoch 66/1000\n",
            "100/100 - 4s - loss: 14.3050 - val_loss: 14.7793 - 4s/epoch - 41ms/step\n",
            "Epoch 67/1000\n",
            "100/100 - 5s - loss: 14.4575 - val_loss: 14.0914 - 5s/epoch - 50ms/step\n",
            "Epoch 68/1000\n",
            "100/100 - 4s - loss: 14.4024 - val_loss: 14.3998 - 4s/epoch - 37ms/step\n",
            "Epoch 69/1000\n",
            "100/100 - 4s - loss: 14.9321 - val_loss: 14.2433 - 4s/epoch - 42ms/step\n",
            "Epoch 70/1000\n",
            "100/100 - 4s - loss: 13.9635 - val_loss: 14.1234 - 4s/epoch - 35ms/step\n",
            "Epoch 71/1000\n",
            "Restoring model weights from the end of the best epoch: 61.\n",
            "100/100 - 4s - loss: 15.0118 - val_loss: 14.1259 - 4s/epoch - 38ms/step\n",
            "Epoch 71: early stopping\n"
          ]
        }
      ]
    },
    {
      "cell_type": "code",
      "source": [
        "# Summarize the RNN model\n",
        "RNN.summary()\n",
        "# There are 10,301 total parameters in this model"
      ],
      "metadata": {
        "colab": {
          "base_uri": "https://localhost:8080/"
        },
        "id": "UgB0mVipffYE",
        "outputId": "ce2c557e-28d5-4b7b-8930-4a25d75e95c7"
      },
      "execution_count": null,
      "outputs": [
        {
          "output_type": "stream",
          "name": "stdout",
          "text": [
            "Model: \"RNN\"\n",
            "_________________________________________________________________\n",
            " Layer (type)                Output Shape              Param #   \n",
            "=================================================================\n",
            " input (InputLayer)          [(None, 30, 1)]           0         \n",
            "                                                                 \n",
            " RNN_Layer (SimpleRNN)       (None, 100)               10200     \n",
            "                                                                 \n",
            " FeedForward_Layer (Dense)   (None, 1)                 101       \n",
            "                                                                 \n",
            "=================================================================\n",
            "Total params: 10,301\n",
            "Trainable params: 10,301\n",
            "Non-trainable params: 0\n",
            "_________________________________________________________________\n"
          ]
        }
      ]
    },
    {
      "cell_type": "code",
      "source": [
        "# Plot the training and validation loss over the training loop\n",
        "plotHistory(history)\n",
        "# The loss starts high and soon becomes close to 0"
      ],
      "metadata": {
        "colab": {
          "base_uri": "https://localhost:8080/",
          "height": 295
        },
        "id": "BTZy03vkffxJ",
        "outputId": "40b3a8cf-11c1-4fdb-c774-678e68011ac3"
      },
      "execution_count": null,
      "outputs": [
        {
          "output_type": "display_data",
          "data": {
            "text/plain": [
              "<Figure size 432x288 with 1 Axes>"
            ],
            "image/png": "[encoded data removed]"
          },
          "metadata": {
            "needs_background": "light"
          }
        }
      ]
    },
    {
      "cell_type": "code",
      "source": [
        "# Show the RNN model's final performance on the training data\n",
        "rmse = evaluate(RNN, X_train, y_train)\n",
        "print(f\"Root Mean Squared Error: {rmse}\")"
      ],
      "metadata": {
        "colab": {
          "base_uri": "https://localhost:8080/"
        },
        "id": "PEO40JU4fjTD",
        "outputId": "7bd48c96-4afa-4301-d2b8-815dd312da4f"
      },
      "execution_count": null,
      "outputs": [
        {
          "output_type": "stream",
          "name": "stdout",
          "text": [
            "3558/3558 [==============================] - 18s 5ms/step\n",
            "(113832, 1)\n",
            "Root Mean Squared Error: 3.7827752158022947\n"
          ]
        }
      ]
    },
    {
      "cell_type": "code",
      "source": [
        "# Evaluate the RNN model on the validation data\n",
        "rmse = evaluate(RNN, X_val, y_val)\n",
        "print(f\"Root Mean Squared Error: {rmse}\")"
      ],
      "metadata": {
        "colab": {
          "base_uri": "https://localhost:8080/"
        },
        "id": "Z1xAD9ggfzZ6",
        "outputId": "5be1803f-efd3-4932-ec82-3f31ebb5395a"
      },
      "execution_count": null,
      "outputs": [
        {
          "output_type": "stream",
          "name": "stdout",
          "text": [
            "1017/1017 [==============================] - 5s 5ms/step\n",
            "(32524, 1)\n",
            "Root Mean Squared Error: 3.74709702876247\n"
          ]
        }
      ]
    },
    {
      "cell_type": "code",
      "source": [
        "# Evaluate the RNN model on the testing data\n",
        "rmse = evaluate(RNN, X_test, y_test)\n",
        "print(f\"Root Mean Squared Error: {rmse}\")"
      ],
      "metadata": {
        "colab": {
          "base_uri": "https://localhost:8080/"
        },
        "id": "Tj80Qo19fzbd",
        "outputId": "476e0309-e89f-404f-958c-74e7065c4d22"
      },
      "execution_count": null,
      "outputs": [
        {
          "output_type": "stream",
          "name": "stdout",
          "text": [
            "509/509 [==============================] - 2s 4ms/step\n",
            "(16262, 1)\n",
            "Root Mean Squared Error: 3.7881033753288063\n"
          ]
        }
      ]
    },
    {
      "cell_type": "code",
      "source": [
        "# Show the true and predicted temperatures for Amsterdam in 2010 and Brussels in 2017\n",
        "plotExamples(RNN, [\"Amsterdam\", \"Brussels\"], [2010, 2017])\n",
        "# The RNN does a decent job at temperature prediction (note that some this data is spread between training, validation, and testing sets)"
      ],
      "metadata": {
        "colab": {
          "base_uri": "https://localhost:8080/",
          "height": 608
        },
        "id": "_8LbsFzgf6Y8",
        "outputId": "d9e4ff07-683f-4b40-8f04-40dd25ab9a61"
      },
      "execution_count": null,
      "outputs": [
        {
          "output_type": "stream",
          "name": "stdout",
          "text": [
            "11/11 [==============================] - 0s 9ms/step\n"
          ]
        },
        {
          "output_type": "display_data",
          "data": {
            "text/plain": [
              "<Figure size 432x288 with 1 Axes>"
            ],
            "image/png": "[encoded data removed]"
          },
          "metadata": {
            "needs_background": "light"
          }
        },
        {
          "output_type": "stream",
          "name": "stdout",
          "text": [
            "11/11 [==============================] - 0s 8ms/step\n"
          ]
        },
        {
          "output_type": "display_data",
          "data": {
            "text/plain": [
              "<Figure size 432x288 with 1 Axes>"
            ],
            "image/png": "[encoded data removed]"
          },
          "metadata": {
            "needs_background": "light"
          }
        }
      ]
    },
    {
      "cell_type": "markdown",
      "source": [
        "Ultimately, we see that the RNN model with 10,301 parameters achieves a 3.7471 RMSE on the validation set and a 3.7881 RMSE on the testing set. Based on plots of true vs. predicted temperatures, we see that the RNN has reasonable performance on this simple average temperature prediction task. "
      ],
      "metadata": {
        "id": "FkWGtLVUml74"
      }
    },
    {
      "cell_type": "markdown",
      "source": [
        "---\n",
        "### **Part 2: LSTM and GRU Implementation**\n",
        "\n",
        "In this section, we use the functions defined in the previous section to train and evaluate LSTM and GRU models on the same dataset. We compare the results achieved by the RNN, LSTM, and GRU models. First, we train and evaluate a LSTM model."
      ],
      "metadata": {
        "id": "-1Qw5DlE9jT_"
      }
    },
    {
      "cell_type": "code",
      "source": [
        "# Train an LSTM model on the training and validation data, with batch size 64\n",
        "LSTM, history = train(\"LSTM\", \"LSTM\", X_train, y_train, X_val, y_val, 64)"
      ],
      "metadata": {
        "colab": {
          "base_uri": "https://localhost:8080/"
        },
        "outputId": "155c7c7a-f7e2-4afd-90be-af7704287f0b",
        "id": "GsBN29AGlTWp"
      },
      "execution_count": null,
      "outputs": [
        {
          "output_type": "stream",
          "name": "stdout",
          "text": [
            "Epoch 1/1000\n",
            "100/100 - 8s - loss: 2200.9543 - val_loss: 1567.2769 - 8s/epoch - 76ms/step\n",
            "Epoch 2/1000\n",
            "100/100 - 2s - loss: 1224.0676 - val_loss: 936.2256 - 2s/epoch - 21ms/step\n",
            "Epoch 3/1000\n",
            "100/100 - 3s - loss: 741.8434 - val_loss: 578.5663 - 3s/epoch - 25ms/step\n",
            "Epoch 4/1000\n",
            "100/100 - 3s - loss: 473.5758 - val_loss: 371.4652 - 3s/epoch - 33ms/step\n",
            "Epoch 5/1000\n",
            "100/100 - 2s - loss: 305.6320 - val_loss: 246.6284 - 2s/epoch - 23ms/step\n",
            "Epoch 6/1000\n",
            "100/100 - 3s - loss: 205.0999 - val_loss: 168.6482 - 3s/epoch - 30ms/step\n",
            "Epoch 7/1000\n",
            "100/100 - 3s - loss: 141.9341 - val_loss: 119.2830 - 3s/epoch - 32ms/step\n",
            "Epoch 8/1000\n",
            "100/100 - 3s - loss: 103.3094 - val_loss: 88.1963 - 3s/epoch - 32ms/step\n",
            "Epoch 9/1000\n",
            "100/100 - 2s - loss: 75.7704 - val_loss: 68.0700 - 2s/epoch - 17ms/step\n",
            "Epoch 10/1000\n",
            "100/100 - 2s - loss: 62.5575 - val_loss: 53.8241 - 2s/epoch - 17ms/step\n",
            "Epoch 11/1000\n",
            "100/100 - 2s - loss: 48.9939 - val_loss: 44.1599 - 2s/epoch - 17ms/step\n",
            "Epoch 12/1000\n",
            "100/100 - 2s - loss: 41.3971 - val_loss: 37.4169 - 2s/epoch - 17ms/step\n",
            "Epoch 13/1000\n",
            "100/100 - 2s - loss: 35.8659 - val_loss: 32.2317 - 2s/epoch - 17ms/step\n",
            "Epoch 14/1000\n",
            "100/100 - 2s - loss: 31.4075 - val_loss: 28.3979 - 2s/epoch - 17ms/step\n",
            "Epoch 15/1000\n",
            "100/100 - 2s - loss: 27.0669 - val_loss: 25.5738 - 2s/epoch - 16ms/step\n",
            "Epoch 16/1000\n",
            "100/100 - 2s - loss: 25.2984 - val_loss: 23.8485 - 2s/epoch - 17ms/step\n",
            "Epoch 17/1000\n",
            "100/100 - 2s - loss: 22.0563 - val_loss: 21.8914 - 2s/epoch - 16ms/step\n",
            "Epoch 18/1000\n",
            "100/100 - 2s - loss: 22.5043 - val_loss: 20.9653 - 2s/epoch - 17ms/step\n",
            "Epoch 19/1000\n",
            "100/100 - 2s - loss: 19.9921 - val_loss: 19.6929 - 2s/epoch - 17ms/step\n",
            "Epoch 20/1000\n",
            "100/100 - 2s - loss: 20.3125 - val_loss: 18.6017 - 2s/epoch - 17ms/step\n",
            "Epoch 21/1000\n",
            "100/100 - 2s - loss: 19.0155 - val_loss: 18.6939 - 2s/epoch - 17ms/step\n",
            "Epoch 22/1000\n",
            "100/100 - 3s - loss: 17.8462 - val_loss: 17.3108 - 3s/epoch - 30ms/step\n",
            "Epoch 23/1000\n",
            "100/100 - 3s - loss: 18.1649 - val_loss: 16.9024 - 3s/epoch - 32ms/step\n",
            "Epoch 24/1000\n",
            "100/100 - 2s - loss: 16.8609 - val_loss: 16.5169 - 2s/epoch - 17ms/step\n",
            "Epoch 25/1000\n",
            "100/100 - 2s - loss: 16.9316 - val_loss: 16.2828 - 2s/epoch - 16ms/step\n",
            "Epoch 26/1000\n",
            "100/100 - 2s - loss: 16.2041 - val_loss: 16.0693 - 2s/epoch - 16ms/step\n",
            "Epoch 27/1000\n",
            "100/100 - 2s - loss: 15.4182 - val_loss: 15.9847 - 2s/epoch - 17ms/step\n",
            "Epoch 28/1000\n",
            "100/100 - 2s - loss: 16.0773 - val_loss: 15.4775 - 2s/epoch - 17ms/step\n",
            "Epoch 29/1000\n",
            "100/100 - 2s - loss: 15.9472 - val_loss: 15.3709 - 2s/epoch - 17ms/step\n",
            "Epoch 30/1000\n",
            "100/100 - 2s - loss: 15.5390 - val_loss: 15.2577 - 2s/epoch - 17ms/step\n",
            "Epoch 31/1000\n",
            "100/100 - 2s - loss: 15.9391 - val_loss: 15.0434 - 2s/epoch - 17ms/step\n",
            "Epoch 32/1000\n",
            "100/100 - 2s - loss: 15.0465 - val_loss: 14.7961 - 2s/epoch - 17ms/step\n",
            "Epoch 33/1000\n",
            "100/100 - 2s - loss: 14.8273 - val_loss: 14.9538 - 2s/epoch - 17ms/step\n",
            "Epoch 34/1000\n",
            "100/100 - 2s - loss: 15.0946 - val_loss: 14.6132 - 2s/epoch - 17ms/step\n",
            "Epoch 35/1000\n",
            "100/100 - 2s - loss: 15.6278 - val_loss: 15.3119 - 2s/epoch - 16ms/step\n",
            "Epoch 36/1000\n",
            "100/100 - 2s - loss: 14.7414 - val_loss: 14.5594 - 2s/epoch - 17ms/step\n",
            "Epoch 37/1000\n",
            "100/100 - 2s - loss: 14.7626 - val_loss: 14.5417 - 2s/epoch - 17ms/step\n",
            "Epoch 38/1000\n",
            "100/100 - 2s - loss: 14.6015 - val_loss: 14.8908 - 2s/epoch - 17ms/step\n",
            "Epoch 39/1000\n",
            "100/100 - 2s - loss: 14.8550 - val_loss: 14.4730 - 2s/epoch - 17ms/step\n",
            "Epoch 40/1000\n",
            "100/100 - 2s - loss: 14.6777 - val_loss: 14.2995 - 2s/epoch - 17ms/step\n",
            "Epoch 41/1000\n",
            "100/100 - 2s - loss: 14.3877 - val_loss: 14.3587 - 2s/epoch - 17ms/step\n",
            "Epoch 42/1000\n",
            "100/100 - 2s - loss: 13.7944 - val_loss: 14.2512 - 2s/epoch - 17ms/step\n",
            "Epoch 43/1000\n",
            "100/100 - 2s - loss: 14.3217 - val_loss: 14.7894 - 2s/epoch - 17ms/step\n",
            "Epoch 44/1000\n",
            "100/100 - 2s - loss: 15.1482 - val_loss: 14.2204 - 2s/epoch - 17ms/step\n",
            "Epoch 45/1000\n",
            "100/100 - 2s - loss: 14.4378 - val_loss: 14.3162 - 2s/epoch - 17ms/step\n",
            "Epoch 46/1000\n",
            "100/100 - 2s - loss: 14.2909 - val_loss: 14.1589 - 2s/epoch - 17ms/step\n",
            "Epoch 47/1000\n",
            "100/100 - 2s - loss: 14.8257 - val_loss: 14.0151 - 2s/epoch - 17ms/step\n",
            "Epoch 48/1000\n",
            "100/100 - 2s - loss: 14.5658 - val_loss: 14.1573 - 2s/epoch - 17ms/step\n",
            "Epoch 49/1000\n",
            "100/100 - 2s - loss: 14.7019 - val_loss: 14.2518 - 2s/epoch - 17ms/step\n",
            "Epoch 50/1000\n",
            "100/100 - 2s - loss: 14.4090 - val_loss: 14.2177 - 2s/epoch - 17ms/step\n",
            "Epoch 51/1000\n",
            "100/100 - 2s - loss: 14.8762 - val_loss: 13.9488 - 2s/epoch - 17ms/step\n",
            "Epoch 52/1000\n",
            "100/100 - 2s - loss: 14.2243 - val_loss: 13.9942 - 2s/epoch - 17ms/step\n",
            "Epoch 53/1000\n",
            "100/100 - 2s - loss: 15.0803 - val_loss: 13.9886 - 2s/epoch - 17ms/step\n",
            "Epoch 54/1000\n",
            "100/100 - 2s - loss: 13.9550 - val_loss: 13.8926 - 2s/epoch - 17ms/step\n",
            "Epoch 55/1000\n",
            "100/100 - 2s - loss: 14.4150 - val_loss: 13.8594 - 2s/epoch - 17ms/step\n",
            "Epoch 56/1000\n",
            "100/100 - 2s - loss: 14.1819 - val_loss: 14.3318 - 2s/epoch - 17ms/step\n",
            "Epoch 57/1000\n",
            "100/100 - 2s - loss: 14.1209 - val_loss: 13.9545 - 2s/epoch - 17ms/step\n",
            "Epoch 58/1000\n",
            "100/100 - 2s - loss: 14.8951 - val_loss: 13.8995 - 2s/epoch - 17ms/step\n",
            "Epoch 59/1000\n",
            "100/100 - 2s - loss: 14.5657 - val_loss: 14.0174 - 2s/epoch - 17ms/step\n",
            "Epoch 60/1000\n",
            "100/100 - 2s - loss: 14.2132 - val_loss: 13.9493 - 2s/epoch - 17ms/step\n",
            "Epoch 61/1000\n",
            "100/100 - 2s - loss: 13.7607 - val_loss: 13.8075 - 2s/epoch - 17ms/step\n",
            "Epoch 62/1000\n",
            "100/100 - 2s - loss: 14.3200 - val_loss: 13.9518 - 2s/epoch - 16ms/step\n",
            "Epoch 63/1000\n",
            "100/100 - 3s - loss: 13.8980 - val_loss: 13.8337 - 3s/epoch - 30ms/step\n",
            "Epoch 64/1000\n",
            "100/100 - 3s - loss: 14.1311 - val_loss: 14.3375 - 3s/epoch - 30ms/step\n",
            "Epoch 65/1000\n",
            "100/100 - 2s - loss: 14.3383 - val_loss: 14.2771 - 2s/epoch - 16ms/step\n",
            "Epoch 66/1000\n",
            "100/100 - 2s - loss: 14.3469 - val_loss: 13.9479 - 2s/epoch - 17ms/step\n",
            "Epoch 67/1000\n",
            "100/100 - 2s - loss: 14.3444 - val_loss: 14.1496 - 2s/epoch - 16ms/step\n",
            "Epoch 68/1000\n",
            "100/100 - 2s - loss: 14.5089 - val_loss: 13.8278 - 2s/epoch - 16ms/step\n",
            "Epoch 69/1000\n",
            "100/100 - 2s - loss: 14.1701 - val_loss: 13.9677 - 2s/epoch - 17ms/step\n",
            "Epoch 70/1000\n",
            "100/100 - 2s - loss: 13.9582 - val_loss: 13.8396 - 2s/epoch - 17ms/step\n",
            "Epoch 71/1000\n",
            "Restoring model weights from the end of the best epoch: 61.\n",
            "100/100 - 2s - loss: 14.2462 - val_loss: 14.0276 - 2s/epoch - 17ms/step\n",
            "Epoch 71: early stopping\n"
          ]
        }
      ]
    },
    {
      "cell_type": "code",
      "source": [
        "# Summarize the LSTM model\n",
        "LSTM.summary()\n",
        "# There are 40,901 total parameters in this model"
      ],
      "metadata": {
        "colab": {
          "base_uri": "https://localhost:8080/"
        },
        "outputId": "d5ca63d8-a256-44c6-ed73-922fa97e424f",
        "id": "8MiLIXorlTWq"
      },
      "execution_count": null,
      "outputs": [
        {
          "output_type": "stream",
          "name": "stdout",
          "text": [
            "Model: \"LSTM\"\n",
            "_________________________________________________________________\n",
            " Layer (type)                Output Shape              Param #   \n",
            "=================================================================\n",
            " input (InputLayer)          [(None, 30, 1)]           0         \n",
            "                                                                 \n",
            " LSTM_Layer (LSTM)           (None, 100)               40800     \n",
            "                                                                 \n",
            " FeedForward_Layer (Dense)   (None, 1)                 101       \n",
            "                                                                 \n",
            "=================================================================\n",
            "Total params: 40,901\n",
            "Trainable params: 40,901\n",
            "Non-trainable params: 0\n",
            "_________________________________________________________________\n"
          ]
        }
      ]
    },
    {
      "cell_type": "code",
      "source": [
        "# Plot the training and validation loss over the training loop\n",
        "plotHistory(history)\n",
        "# The loss starts high and soon becomes close to 0"
      ],
      "metadata": {
        "colab": {
          "base_uri": "https://localhost:8080/",
          "height": 295
        },
        "outputId": "85f1ccf4-c804-43f3-8190-6767d6182712",
        "id": "kyoMp5Q5lTWq"
      },
      "execution_count": null,
      "outputs": [
        {
          "output_type": "display_data",
          "data": {
            "text/plain": [
              "<Figure size 432x288 with 1 Axes>"
            ],
            "image/png": "[encoded data removed]"
          },
          "metadata": {
            "needs_background": "light"
          }
        }
      ]
    },
    {
      "cell_type": "code",
      "source": [
        "# Show the LSTM model's final performance on the training data\n",
        "rmse = evaluate(LSTM, X_train, y_train)\n",
        "print(f\"Root Mean Squared Error: {rmse}\")"
      ],
      "metadata": {
        "colab": {
          "base_uri": "https://localhost:8080/"
        },
        "outputId": "979181fd-dc71-40af-fae3-c12c3c6e328e",
        "id": "nGky6w3plTWq"
      },
      "execution_count": null,
      "outputs": [
        {
          "output_type": "stream",
          "name": "stdout",
          "text": [
            "3558/3558 [==============================] - 8s 2ms/step\n",
            "Root Mean Squared Error: 3.7466454147702137\n"
          ]
        }
      ]
    },
    {
      "cell_type": "code",
      "source": [
        "# Evaluate the LSTM model on the validation data\n",
        "rmse = evaluate(LSTM, X_val, y_val)\n",
        "print(f\"Root Mean Squared Error: {rmse}\")"
      ],
      "metadata": {
        "colab": {
          "base_uri": "https://localhost:8080/"
        },
        "id": "-iZAII7hlTWr",
        "outputId": "252d486b-02e5-48d2-dfd1-f87a64f722b5"
      },
      "execution_count": null,
      "outputs": [
        {
          "output_type": "stream",
          "name": "stdout",
          "text": [
            "1017/1017 [==============================] - 2s 2ms/step\n",
            "Root Mean Squared Error: 3.7158491728414917\n"
          ]
        }
      ]
    },
    {
      "cell_type": "code",
      "source": [
        "# Evaluate the LSTM model on the testing data\n",
        "rmse = evaluate(LSTM, X_test, y_test)\n",
        "print(f\"Root Mean Squared Error: {rmse}\")"
      ],
      "metadata": {
        "colab": {
          "base_uri": "https://localhost:8080/"
        },
        "outputId": "bdff5e57-ce2d-42b5-e0fa-6e6db9e8c6e8",
        "id": "nGPQ6yRAlTWr"
      },
      "execution_count": null,
      "outputs": [
        {
          "output_type": "stream",
          "name": "stdout",
          "text": [
            "509/509 [==============================] - 1s 2ms/step\n",
            "Root Mean Squared Error: 3.7394364250986323\n"
          ]
        }
      ]
    },
    {
      "cell_type": "code",
      "source": [
        "# Show the true and predicted temperatures for Amsterdam in 2010 and Brussels in 2017\n",
        "plotExamples(LSTM, [\"Amsterdam\", \"Brussels\"], [2010, 2017])\n",
        "# The LSTM does a decent job at temperature prediction (note that some this data is spread between training, validation, and testing sets)"
      ],
      "metadata": {
        "colab": {
          "base_uri": "https://localhost:8080/",
          "height": 608
        },
        "id": "6_hdPaSDlTWt",
        "outputId": "ebc96133-a8bd-4626-f3bd-d6ba9938f293"
      },
      "execution_count": null,
      "outputs": [
        {
          "output_type": "stream",
          "name": "stdout",
          "text": [
            "11/11 [==============================] - 0s 2ms/step\n"
          ]
        },
        {
          "output_type": "display_data",
          "data": {
            "text/plain": [
              "<Figure size 432x288 with 1 Axes>"
            ],
            "image/png": "[encoded data removed]"
          },
          "metadata": {
            "needs_background": "light"
          }
        },
        {
          "output_type": "stream",
          "name": "stdout",
          "text": [
            "11/11 [==============================] - 0s 3ms/step\n"
          ]
        },
        {
          "output_type": "display_data",
          "data": {
            "text/plain": [
              "<Figure size 432x288 with 1 Axes>"
            ],
            "image/png": "[encoded data removed]"
          },
          "metadata": {
            "needs_background": "light"
          }
        }
      ]
    },
    {
      "cell_type": "markdown",
      "source": [
        "Next, we train and evaluate a GRU model."
      ],
      "metadata": {
        "id": "tZNQKeRcoHuo"
      }
    },
    {
      "cell_type": "code",
      "source": [
        "# Train a GRU model on the training and validation data, with batch size 64\n",
        "GRU, history = train(\"GRU\", \"GRU\", X_train, y_train, X_val, y_val, 64)"
      ],
      "metadata": {
        "colab": {
          "base_uri": "https://localhost:8080/"
        },
        "id": "vy0yTeZBlg7h",
        "outputId": "c9210946-eb54-46f9-faaf-400ef7374b5c"
      },
      "execution_count": null,
      "outputs": [
        {
          "output_type": "stream",
          "name": "stdout",
          "text": [
            "Epoch 1/1000\n",
            "100/100 - 3s - loss: 2213.9500 - val_loss: 1525.5239 - 3s/epoch - 35ms/step\n",
            "Epoch 2/1000\n",
            "100/100 - 2s - loss: 1177.7036 - val_loss: 905.3490 - 2s/epoch - 20ms/step\n",
            "Epoch 3/1000\n",
            "100/100 - 2s - loss: 727.6160 - val_loss: 560.0621 - 2s/epoch - 20ms/step\n",
            "Epoch 4/1000\n",
            "100/100 - 2s - loss: 449.1410 - val_loss: 355.9564 - 2s/epoch - 15ms/step\n",
            "Epoch 5/1000\n",
            "100/100 - 2s - loss: 290.3579 - val_loss: 231.7807 - 2s/epoch - 17ms/step\n",
            "Epoch 6/1000\n",
            "100/100 - 1s - loss: 188.7583 - val_loss: 157.2505 - 1s/epoch - 14ms/step\n",
            "Epoch 7/1000\n",
            "100/100 - 2s - loss: 133.8284 - val_loss: 110.2528 - 2s/epoch - 16ms/step\n",
            "Epoch 8/1000\n",
            "100/100 - 2s - loss: 97.5199 - val_loss: 81.0323 - 2s/epoch - 15ms/step\n",
            "Epoch 9/1000\n",
            "100/100 - 1s - loss: 72.2521 - val_loss: 61.5535 - 1s/epoch - 15ms/step\n",
            "Epoch 10/1000\n",
            "100/100 - 1s - loss: 55.9548 - val_loss: 48.8985 - 1s/epoch - 15ms/step\n",
            "Epoch 11/1000\n",
            "100/100 - 2s - loss: 42.8927 - val_loss: 40.6978 - 2s/epoch - 17ms/step\n",
            "Epoch 12/1000\n",
            "100/100 - 2s - loss: 39.5399 - val_loss: 34.0115 - 2s/epoch - 16ms/step\n",
            "Epoch 13/1000\n",
            "100/100 - 2s - loss: 31.8906 - val_loss: 29.6487 - 2s/epoch - 15ms/step\n",
            "Epoch 14/1000\n",
            "100/100 - 1s - loss: 29.4195 - val_loss: 26.5049 - 1s/epoch - 15ms/step\n",
            "Epoch 15/1000\n",
            "100/100 - 2s - loss: 26.0943 - val_loss: 23.9978 - 2s/epoch - 16ms/step\n",
            "Epoch 16/1000\n",
            "100/100 - 2s - loss: 22.4431 - val_loss: 22.1114 - 2s/epoch - 17ms/step\n",
            "Epoch 17/1000\n",
            "100/100 - 1s - loss: 21.4833 - val_loss: 20.7797 - 1s/epoch - 14ms/step\n",
            "Epoch 18/1000\n",
            "100/100 - 2s - loss: 20.6922 - val_loss: 20.2140 - 2s/epoch - 16ms/step\n",
            "Epoch 19/1000\n",
            "100/100 - 2s - loss: 19.6101 - val_loss: 20.1368 - 2s/epoch - 16ms/step\n",
            "Epoch 20/1000\n",
            "100/100 - 1s - loss: 18.9748 - val_loss: 17.8871 - 1s/epoch - 15ms/step\n",
            "Epoch 21/1000\n",
            "100/100 - 1s - loss: 17.5081 - val_loss: 17.1990 - 1s/epoch - 15ms/step\n",
            "Epoch 22/1000\n",
            "100/100 - 2s - loss: 16.9699 - val_loss: 16.9784 - 2s/epoch - 15ms/step\n",
            "Epoch 23/1000\n",
            "100/100 - 1s - loss: 17.5040 - val_loss: 16.8322 - 1s/epoch - 15ms/step\n",
            "Epoch 24/1000\n",
            "100/100 - 2s - loss: 16.5874 - val_loss: 16.6357 - 2s/epoch - 15ms/step\n",
            "Epoch 25/1000\n",
            "100/100 - 2s - loss: 17.2788 - val_loss: 16.1000 - 2s/epoch - 16ms/step\n",
            "Epoch 26/1000\n",
            "100/100 - 2s - loss: 16.6263 - val_loss: 15.7544 - 2s/epoch - 15ms/step\n",
            "Epoch 27/1000\n",
            "100/100 - 2s - loss: 15.3444 - val_loss: 15.2427 - 2s/epoch - 17ms/step\n",
            "Epoch 28/1000\n",
            "100/100 - 1s - loss: 16.1481 - val_loss: 15.2858 - 1s/epoch - 15ms/step\n",
            "Epoch 29/1000\n",
            "100/100 - 2s - loss: 15.1678 - val_loss: 14.9685 - 2s/epoch - 15ms/step\n",
            "Epoch 30/1000\n",
            "100/100 - 2s - loss: 15.2091 - val_loss: 14.9591 - 2s/epoch - 17ms/step\n",
            "Epoch 31/1000\n",
            "100/100 - 2s - loss: 15.2874 - val_loss: 14.9235 - 2s/epoch - 17ms/step\n",
            "Epoch 32/1000\n",
            "100/100 - 2s - loss: 14.7794 - val_loss: 14.7788 - 2s/epoch - 15ms/step\n",
            "Epoch 33/1000\n",
            "100/100 - 2s - loss: 15.2422 - val_loss: 15.0557 - 2s/epoch - 17ms/step\n",
            "Epoch 34/1000\n",
            "100/100 - 1s - loss: 14.8024 - val_loss: 14.6401 - 1s/epoch - 15ms/step\n",
            "Epoch 35/1000\n",
            "100/100 - 2s - loss: 15.1807 - val_loss: 14.7143 - 2s/epoch - 15ms/step\n",
            "Epoch 36/1000\n",
            "100/100 - 2s - loss: 14.4493 - val_loss: 15.1665 - 2s/epoch - 16ms/step\n",
            "Epoch 37/1000\n",
            "100/100 - 2s - loss: 15.4485 - val_loss: 14.6136 - 2s/epoch - 15ms/step\n",
            "Epoch 38/1000\n",
            "100/100 - 1s - loss: 14.6636 - val_loss: 14.3437 - 1s/epoch - 15ms/step\n",
            "Epoch 39/1000\n",
            "100/100 - 1s - loss: 14.6652 - val_loss: 14.2961 - 1s/epoch - 15ms/step\n",
            "Epoch 40/1000\n",
            "100/100 - 2s - loss: 14.2802 - val_loss: 14.2758 - 2s/epoch - 16ms/step\n",
            "Epoch 41/1000\n",
            "100/100 - 2s - loss: 14.4504 - val_loss: 14.2099 - 2s/epoch - 15ms/step\n",
            "Epoch 42/1000\n",
            "100/100 - 2s - loss: 14.0443 - val_loss: 14.2014 - 2s/epoch - 17ms/step\n",
            "Epoch 43/1000\n",
            "100/100 - 2s - loss: 14.6958 - val_loss: 14.7536 - 2s/epoch - 16ms/step\n",
            "Epoch 44/1000\n",
            "100/100 - 2s - loss: 14.4743 - val_loss: 14.1186 - 2s/epoch - 15ms/step\n",
            "Epoch 45/1000\n",
            "100/100 - 2s - loss: 14.2258 - val_loss: 14.0948 - 2s/epoch - 16ms/step\n",
            "Epoch 46/1000\n",
            "100/100 - 2s - loss: 14.5937 - val_loss: 14.0998 - 2s/epoch - 17ms/step\n",
            "Epoch 47/1000\n",
            "100/100 - 2s - loss: 14.7482 - val_loss: 13.9994 - 2s/epoch - 17ms/step\n",
            "Epoch 48/1000\n",
            "100/100 - 1s - loss: 14.3217 - val_loss: 14.0398 - 1s/epoch - 14ms/step\n",
            "Epoch 49/1000\n",
            "100/100 - 2s - loss: 14.7267 - val_loss: 14.2078 - 2s/epoch - 15ms/step\n",
            "Epoch 50/1000\n",
            "100/100 - 2s - loss: 14.1912 - val_loss: 14.1042 - 2s/epoch - 16ms/step\n",
            "Epoch 51/1000\n",
            "100/100 - 2s - loss: 13.8787 - val_loss: 14.2063 - 2s/epoch - 15ms/step\n",
            "Epoch 52/1000\n",
            "100/100 - 2s - loss: 14.6216 - val_loss: 14.0262 - 2s/epoch - 16ms/step\n",
            "Epoch 53/1000\n",
            "100/100 - 2s - loss: 14.8196 - val_loss: 14.3440 - 2s/epoch - 17ms/step\n",
            "Epoch 54/1000\n",
            "100/100 - 2s - loss: 14.4877 - val_loss: 14.1181 - 2s/epoch - 16ms/step\n",
            "Epoch 55/1000\n",
            "100/100 - 2s - loss: 14.4520 - val_loss: 14.0317 - 2s/epoch - 16ms/step\n",
            "Epoch 56/1000\n",
            "100/100 - 2s - loss: 15.0407 - val_loss: 14.2623 - 2s/epoch - 15ms/step\n",
            "Epoch 57/1000\n",
            "Restoring model weights from the end of the best epoch: 47.\n",
            "100/100 - 2s - loss: 14.7669 - val_loss: 14.0053 - 2s/epoch - 16ms/step\n",
            "Epoch 57: early stopping\n"
          ]
        }
      ]
    },
    {
      "cell_type": "code",
      "source": [
        "# Summarize the GRU model\n",
        "GRU.summary()\n",
        "# There are 31,001 total parameters in this model"
      ],
      "metadata": {
        "colab": {
          "base_uri": "https://localhost:8080/"
        },
        "id": "NAnUAql8lg7h",
        "outputId": "23357ee5-a451-4f3d-a105-68aa3a9c10c6"
      },
      "execution_count": null,
      "outputs": [
        {
          "output_type": "stream",
          "name": "stdout",
          "text": [
            "Model: \"GRU\"\n",
            "_________________________________________________________________\n",
            " Layer (type)                Output Shape              Param #   \n",
            "=================================================================\n",
            " input (InputLayer)          [(None, 30, 1)]           0         \n",
            "                                                                 \n",
            " GRU_Layer (GRU)             (None, 100)               30900     \n",
            "                                                                 \n",
            " FeedForward_Layer (Dense)   (None, 1)                 101       \n",
            "                                                                 \n",
            "=================================================================\n",
            "Total params: 31,001\n",
            "Trainable params: 31,001\n",
            "Non-trainable params: 0\n",
            "_________________________________________________________________\n"
          ]
        }
      ]
    },
    {
      "cell_type": "code",
      "source": [
        "# Plot the training and validation loss over the training loop\n",
        "plotHistory(history)\n",
        "# The loss starts high and soon becomes close to 0"
      ],
      "metadata": {
        "colab": {
          "base_uri": "https://localhost:8080/",
          "height": 295
        },
        "id": "NltfkfTDlg7h",
        "outputId": "b429bede-3a5e-40ba-d56c-6972eee45a57"
      },
      "execution_count": null,
      "outputs": [
        {
          "output_type": "display_data",
          "data": {
            "text/plain": [
              "<Figure size 432x288 with 1 Axes>"
            ],
            "image/png": "[encoded data removed]"
          },
          "metadata": {
            "needs_background": "light"
          }
        }
      ]
    },
    {
      "cell_type": "code",
      "source": [
        "# Show the GRU model's final performance on the training data\n",
        "rmse = evaluate(GRU, X_train, y_train)\n",
        "print(f\"Root Mean Squared Error: {rmse}\")"
      ],
      "metadata": {
        "colab": {
          "base_uri": "https://localhost:8080/"
        },
        "id": "ySXhCvNwlg7i",
        "outputId": "3f68f593-e9ad-459c-c953-b9935c6b63a8"
      },
      "execution_count": null,
      "outputs": [
        {
          "output_type": "stream",
          "name": "stdout",
          "text": [
            "3558/3558 [==============================] - 8s 2ms/step\n",
            "Root Mean Squared Error: 3.772827886045608\n"
          ]
        }
      ]
    },
    {
      "cell_type": "code",
      "source": [
        "# Evaluate the GRU model on the validation data\n",
        "rmse = evaluate(GRU, X_val, y_val)\n",
        "print(f\"Root Mean Squared Error: {rmse}\")"
      ],
      "metadata": {
        "colab": {
          "base_uri": "https://localhost:8080/"
        },
        "id": "KXAp7UqRlg7i",
        "outputId": "4f7e603d-d2c0-4b23-c030-7ca22f7c8100"
      },
      "execution_count": null,
      "outputs": [
        {
          "output_type": "stream",
          "name": "stdout",
          "text": [
            "1017/1017 [==============================] - 2s 2ms/step\n",
            "Root Mean Squared Error: 3.7415732688882324\n"
          ]
        }
      ]
    },
    {
      "cell_type": "code",
      "source": [
        "# Evaluate the GRU model on the testing data\n",
        "rmse = evaluate(GRU, X_test, y_test)\n",
        "print(f\"Root Mean Squared Error: {rmse}\")"
      ],
      "metadata": {
        "colab": {
          "base_uri": "https://localhost:8080/"
        },
        "id": "_G3VWhpAlg7i",
        "outputId": "b525699c-3176-4be5-dd3c-3b32b12e71a6"
      },
      "execution_count": null,
      "outputs": [
        {
          "output_type": "stream",
          "name": "stdout",
          "text": [
            "509/509 [==============================] - 1s 2ms/step\n",
            "Root Mean Squared Error: 3.7575150314905046\n"
          ]
        }
      ]
    },
    {
      "cell_type": "code",
      "source": [
        "# Show the true and predicted temperatures for Amsterdam in 2010 and Brussels in 2017\n",
        "plotExamples(GRU, [\"Amsterdam\", \"Brussels\"], [2010, 2017])\n",
        "# The GRU does a decent job at temperature prediction (note that some this data is spread between training, validation, and testing sets)"
      ],
      "metadata": {
        "colab": {
          "base_uri": "https://localhost:8080/",
          "height": 608
        },
        "id": "WuLEEwNblg7i",
        "outputId": "331902cb-3fb6-41be-ab4f-f24c8c242606"
      },
      "execution_count": null,
      "outputs": [
        {
          "output_type": "stream",
          "name": "stdout",
          "text": [
            "11/11 [==============================] - 0s 2ms/step\n"
          ]
        },
        {
          "output_type": "display_data",
          "data": {
            "text/plain": [
              "<Figure size 432x288 with 1 Axes>"
            ],
            "image/png": "[encoded data removed]"
          },
          "metadata": {
            "needs_background": "light"
          }
        },
        {
          "output_type": "stream",
          "name": "stdout",
          "text": [
            "11/11 [==============================] - 0s 2ms/step\n"
          ]
        },
        {
          "output_type": "display_data",
          "data": {
            "text/plain": [
              "<Figure size 432x288 with 1 Axes>"
            ],
            "image/png": "[encoded data removed]"
          },
          "metadata": {
            "needs_background": "light"
          }
        }
      ]
    },
    {
      "cell_type": "markdown",
      "source": [
        "Ultimately, we compare the performance of the RNN, LSTM, and GRU models.\n",
        "The root mean squared error for each model and dataset is shown below:\n",
        "\n",
        "| Dataset | Training | Validation | Testing |\n",
        "|:---:|:---:|:---:|:---:|\n",
        "|**Model Architecture**| |||\n",
        "|RNN| 3.7828|3.7471 |3.7881\n",
        "|LSTM| **3.7466**| **3.7158**| **3.7394**\n",
        "|GRU| 3.7728| 3.7416|3.7575\n",
        "\n",
        "We see that given the same hyperparameters and layer sizes, the LSTM has the highest final performance on the training data, and achieves the best performance on the validation and testing sets, but by small margins. The GRU does better than the vanilla RNN, and its performance is consistently between the RNN and LSTM. Since the task is relatively simple, all three sequential models have high performance on the testing set. \n",
        "\n",
        "We note that although the number of hidden nodes in each model is the same, the number of parameters in the models is different. The RNN has 10,301 parameters, the LSTM has 40,901 parameters, and the GRU has 31,001 parameters. While the RNN has weights to combine new inputs with hidden states, the LSTM and GRU architectures extend this by adding cell states and/or gates. These gates have additional weights, which amplify the expressive power of the architecture (allowing the model to better remember and forget certain relationships in the input) and help these models achieve higher performance on the task. \n",
        "\n"
      ],
      "metadata": {
        "id": "PS1EA11yoRdX"
      }
    },
    {
      "cell_type": "markdown",
      "source": [
        "---\n",
        "### **Part 3: Considering a Feed-Forward Network for Daily Average Temperature Prediction in Europe**\n",
        "\n",
        "Next, we note that a traditional feed-forward network can also be used to solve the problem of predicting the next day's average temperature given the previous 30 days' average temperatures. The input features can be the previous 30 days' average temperatures, or can be engineered based on domain expertise. Since the task is relatively simple, and each of the features is highly correlated with the target, we note that a feed-forward network will also achieve decent performance on the task. The network may learn the relationships between the 30 days of data to produce a prediction, but the sequential nature of the data is not explicitly accounted for in the model's architecture. This is the main difference between using a sequential model for this task compared to a non-sequential model; the temporal relationships of the time-series data are already a part of the sequential models, whereas they must be learned in the case of a non-sequential model. To demonstrate that a feed-forward network can also solve this problem, we train and evaluate a feed-forward network on the dataset and compare the results to the results of the sequential models.\n"
      ],
      "metadata": {
        "id": "9qX49HL49mPJ"
      }
    },
    {
      "cell_type": "code",
      "source": [
        "# Train a two-layer Neural Network model on the training and validation data, with batch size 64\n",
        "NN, history = train(\"NN\", \"NN\", X_train, y_train, X_val, y_val, 64)"
      ],
      "metadata": {
        "colab": {
          "base_uri": "https://localhost:8080/"
        },
        "outputId": "5d334c6f-7a87-4eea-a1c6-415d56e57b6a",
        "id": "8rSd_vdBrOn3"
      },
      "execution_count": null,
      "outputs": [
        {
          "output_type": "stream",
          "name": "stdout",
          "text": [
            "Epoch 1/1000\n",
            "100/100 - 1s - loss: 125.9100 - val_loss: 28.1111 - 1s/epoch - 15ms/step\n",
            "Epoch 2/1000\n",
            "100/100 - 1s - loss: 24.8846 - val_loss: 24.5744 - 1s/epoch - 10ms/step\n",
            "Epoch 3/1000\n",
            "100/100 - 2s - loss: 21.9143 - val_loss: 18.7156 - 2s/epoch - 15ms/step\n",
            "Epoch 4/1000\n",
            "100/100 - 2s - loss: 18.2263 - val_loss: 17.3632 - 2s/epoch - 15ms/step\n",
            "Epoch 5/1000\n",
            "100/100 - 1s - loss: 17.9399 - val_loss: 17.5257 - 995ms/epoch - 10ms/step\n",
            "Epoch 6/1000\n",
            "100/100 - 1s - loss: 16.9678 - val_loss: 21.6255 - 988ms/epoch - 10ms/step\n",
            "Epoch 7/1000\n",
            "100/100 - 1s - loss: 18.8720 - val_loss: 15.8496 - 1s/epoch - 15ms/step\n",
            "Epoch 8/1000\n",
            "100/100 - 2s - loss: 16.1457 - val_loss: 15.2319 - 2s/epoch - 15ms/step\n",
            "Epoch 9/1000\n",
            "100/100 - 1s - loss: 15.9405 - val_loss: 16.0177 - 980ms/epoch - 10ms/step\n",
            "Epoch 10/1000\n",
            "100/100 - 1s - loss: 16.5054 - val_loss: 15.4480 - 1s/epoch - 15ms/step\n",
            "Epoch 11/1000\n",
            "100/100 - 1s - loss: 15.7221 - val_loss: 14.8066 - 992ms/epoch - 10ms/step\n",
            "Epoch 12/1000\n",
            "100/100 - 1s - loss: 16.1839 - val_loss: 14.9742 - 1s/epoch - 10ms/step\n",
            "Epoch 13/1000\n",
            "100/100 - 2s - loss: 15.8357 - val_loss: 14.9531 - 2s/epoch - 15ms/step\n",
            "Epoch 14/1000\n",
            "100/100 - 1s - loss: 15.3538 - val_loss: 17.5905 - 1s/epoch - 15ms/step\n",
            "Epoch 15/1000\n",
            "100/100 - 2s - loss: 16.3175 - val_loss: 16.5488 - 2s/epoch - 15ms/step\n",
            "Epoch 16/1000\n",
            "100/100 - 1s - loss: 15.6035 - val_loss: 14.3529 - 1s/epoch - 10ms/step\n",
            "Epoch 17/1000\n",
            "100/100 - 1s - loss: 15.1699 - val_loss: 15.9178 - 1s/epoch - 11ms/step\n",
            "Epoch 18/1000\n",
            "100/100 - 1s - loss: 14.8747 - val_loss: 14.4289 - 1s/epoch - 10ms/step\n",
            "Epoch 19/1000\n",
            "100/100 - 1s - loss: 15.2004 - val_loss: 14.3374 - 1s/epoch - 15ms/step\n",
            "Epoch 20/1000\n",
            "100/100 - 1s - loss: 15.1190 - val_loss: 14.1137 - 1s/epoch - 10ms/step\n",
            "Epoch 21/1000\n",
            "100/100 - 1s - loss: 15.2732 - val_loss: 16.1395 - 1s/epoch - 15ms/step\n",
            "Epoch 22/1000\n",
            "100/100 - 1s - loss: 15.2824 - val_loss: 15.0868 - 1s/epoch - 15ms/step\n",
            "Epoch 23/1000\n",
            "100/100 - 1s - loss: 15.9546 - val_loss: 14.6417 - 1s/epoch - 15ms/step\n",
            "Epoch 24/1000\n",
            "100/100 - 1s - loss: 15.7289 - val_loss: 21.2674 - 995ms/epoch - 10ms/step\n",
            "Epoch 25/1000\n",
            "100/100 - 1s - loss: 15.8420 - val_loss: 17.0086 - 1s/epoch - 10ms/step\n",
            "Epoch 26/1000\n",
            "100/100 - 1s - loss: 15.0395 - val_loss: 13.9970 - 1s/epoch - 10ms/step\n",
            "Epoch 27/1000\n",
            "100/100 - 1s - loss: 15.8373 - val_loss: 14.0677 - 997ms/epoch - 10ms/step\n",
            "Epoch 28/1000\n",
            "100/100 - 1s - loss: 15.1855 - val_loss: 16.5024 - 1s/epoch - 15ms/step\n",
            "Epoch 29/1000\n",
            "100/100 - 1s - loss: 15.9283 - val_loss: 14.1067 - 1s/epoch - 15ms/step\n",
            "Epoch 30/1000\n",
            "100/100 - 1s - loss: 15.4781 - val_loss: 14.1053 - 1s/epoch - 15ms/step\n",
            "Epoch 31/1000\n",
            "100/100 - 1s - loss: 14.6136 - val_loss: 16.0202 - 1s/epoch - 15ms/step\n",
            "Epoch 32/1000\n",
            "100/100 - 1s - loss: 15.1710 - val_loss: 15.1730 - 1s/epoch - 15ms/step\n",
            "Epoch 33/1000\n",
            "100/100 - 1s - loss: 15.5461 - val_loss: 14.8772 - 951ms/epoch - 10ms/step\n",
            "Epoch 34/1000\n",
            "100/100 - 1s - loss: 14.6177 - val_loss: 13.9315 - 1s/epoch - 15ms/step\n",
            "Epoch 35/1000\n",
            "100/100 - 1s - loss: 15.4517 - val_loss: 14.6801 - 1s/epoch - 15ms/step\n",
            "Epoch 36/1000\n",
            "100/100 - 1s - loss: 15.7533 - val_loss: 19.2469 - 1s/epoch - 15ms/step\n",
            "Epoch 37/1000\n",
            "100/100 - 2s - loss: 15.4162 - val_loss: 14.0359 - 2s/epoch - 15ms/step\n",
            "Epoch 38/1000\n",
            "100/100 - 1s - loss: 14.9811 - val_loss: 16.0708 - 1s/epoch - 15ms/step\n",
            "Epoch 39/1000\n",
            "100/100 - 2s - loss: 15.4229 - val_loss: 14.1834 - 2s/epoch - 15ms/step\n",
            "Epoch 40/1000\n",
            "100/100 - 1s - loss: 15.0997 - val_loss: 14.7425 - 1s/epoch - 15ms/step\n",
            "Epoch 41/1000\n",
            "100/100 - 1s - loss: 14.6789 - val_loss: 14.2781 - 1s/epoch - 15ms/step\n",
            "Epoch 42/1000\n",
            "100/100 - 1s - loss: 15.9235 - val_loss: 14.6698 - 1s/epoch - 15ms/step\n",
            "Epoch 43/1000\n",
            "100/100 - 1s - loss: 14.5969 - val_loss: 14.1026 - 1s/epoch - 10ms/step\n",
            "Epoch 44/1000\n",
            "Restoring model weights from the end of the best epoch: 34.\n",
            "100/100 - 1s - loss: 14.8033 - val_loss: 13.9326 - 1s/epoch - 10ms/step\n",
            "Epoch 44: early stopping\n"
          ]
        }
      ]
    },
    {
      "cell_type": "code",
      "source": [
        "# Summarize the neural network model\n",
        "NN.summary()\n",
        "# There are 8,201 total parameters in this model"
      ],
      "metadata": {
        "colab": {
          "base_uri": "https://localhost:8080/"
        },
        "outputId": "527138d7-b059-45e3-8ec3-9edd871bb9cd",
        "id": "a5mfHSDbrOn4"
      },
      "execution_count": null,
      "outputs": [
        {
          "output_type": "stream",
          "name": "stdout",
          "text": [
            "Model: \"NN\"\n",
            "_________________________________________________________________\n",
            " Layer (type)                Output Shape              Param #   \n",
            "=================================================================\n",
            " input (InputLayer)          [(None, 30)]              0         \n",
            "                                                                 \n",
            " hidden_layer_1 (Dense)      (None, 100)               3100      \n",
            "                                                                 \n",
            " hidden_layer_2 (Dense)      (None, 50)                5050      \n",
            "                                                                 \n",
            " output (Dense)              (None, 1)                 51        \n",
            "                                                                 \n",
            "=================================================================\n",
            "Total params: 8,201\n",
            "Trainable params: 8,201\n",
            "Non-trainable params: 0\n",
            "_________________________________________________________________\n"
          ]
        }
      ]
    },
    {
      "cell_type": "code",
      "source": [
        "# Plot the training and validation loss over the training loop\n",
        "plotHistory(history)\n",
        "# The loss starts high and soon becomes close to 0\n",
        "# This loss fluctuates, as compared to the sequential model training loops"
      ],
      "metadata": {
        "colab": {
          "base_uri": "https://localhost:8080/",
          "height": 295
        },
        "outputId": "1e1fcb83-cd05-4e04-9511-81e946832bc2",
        "id": "Q_ku6p1YrOn4"
      },
      "execution_count": null,
      "outputs": [
        {
          "output_type": "display_data",
          "data": {
            "text/plain": [
              "<Figure size 432x288 with 1 Axes>"
            ],
            "image/png": "[encoded data removed]"
          },
          "metadata": {
            "needs_background": "light"
          }
        }
      ]
    },
    {
      "cell_type": "code",
      "source": [
        "# Show the NN model's final performance on the training data\n",
        "rmse = evaluate(NN, X_train, y_train)\n",
        "print(f\"Root Mean Squared Error: {rmse}\")"
      ],
      "metadata": {
        "colab": {
          "base_uri": "https://localhost:8080/"
        },
        "outputId": "fcec160d-7350-413c-a95a-5ed707d7f1a4",
        "id": "vUSE7fE1rOn4"
      },
      "execution_count": null,
      "outputs": [
        {
          "output_type": "stream",
          "name": "stdout",
          "text": [
            "3558/3558 [==============================] - 5s 1ms/step\n",
            "Root Mean Squared Error: 3.7604846159195704\n"
          ]
        }
      ]
    },
    {
      "cell_type": "code",
      "source": [
        "# Evaluate the NN model on the validation data\n",
        "rmse = evaluate(NN, X_val, y_val)\n",
        "print(f\"Root Mean Squared Error: {rmse}\")"
      ],
      "metadata": {
        "colab": {
          "base_uri": "https://localhost:8080/"
        },
        "outputId": "30df7aae-c3b1-4da8-f987-848c0565a35e",
        "id": "7Srak-J9rOn4"
      },
      "execution_count": null,
      "outputs": [
        {
          "output_type": "stream",
          "name": "stdout",
          "text": [
            "1017/1017 [==============================] - 2s 1ms/step\n",
            "Root Mean Squared Error: 3.7324955595833553\n"
          ]
        }
      ]
    },
    {
      "cell_type": "code",
      "source": [
        "# Evaluate the NN model on the testing data\n",
        "rmse = evaluate(NN, X_test, y_test)\n",
        "print(f\"Root Mean Squared Error: {rmse}\")"
      ],
      "metadata": {
        "colab": {
          "base_uri": "https://localhost:8080/"
        },
        "outputId": "b0d3d166-f992-4fa5-85b4-96b0ccf3a9e3",
        "id": "ekPyr2UGrOn5"
      },
      "execution_count": null,
      "outputs": [
        {
          "output_type": "stream",
          "name": "stdout",
          "text": [
            "509/509 [==============================] - 1s 2ms/step\n",
            "Root Mean Squared Error: 3.7680203409823054\n"
          ]
        }
      ]
    },
    {
      "cell_type": "code",
      "source": [
        "# Show the true and predicted temperatures for Amsterdam in 2010 and Brussels in 2017\n",
        "plotExamples(NN, [\"Amsterdam\", \"Brussels\"], [2010, 2017])\n",
        "# The two-layer Neural Network does a decent job at temperature prediction (note that some this data is spread between training, validation, and testing sets)"
      ],
      "metadata": {
        "colab": {
          "base_uri": "https://localhost:8080/",
          "height": 608
        },
        "outputId": "24ae3d13-559a-4356-989d-3b74dacacb1e",
        "id": "fyKdh7WdrOn5"
      },
      "execution_count": null,
      "outputs": [
        {
          "output_type": "stream",
          "name": "stdout",
          "text": [
            "11/11 [==============================] - 0s 2ms/step\n"
          ]
        },
        {
          "output_type": "display_data",
          "data": {
            "text/plain": [
              "<Figure size 432x288 with 1 Axes>"
            ],
            "image/png": "[encoded data removed]"
          },
          "metadata": {
            "needs_background": "light"
          }
        },
        {
          "output_type": "stream",
          "name": "stdout",
          "text": [
            "11/11 [==============================] - 0s 3ms/step\n"
          ]
        },
        {
          "output_type": "display_data",
          "data": {
            "text/plain": [
              "<Figure size 432x288 with 1 Axes>"
            ],
            "image/png": "[encoded data removed]"
          },
          "metadata": {
            "needs_background": "light"
          }
        }
      ]
    },
    {
      "cell_type": "markdown",
      "source": [
        "Ultimately, we compare the performance of all four models.\n",
        "The root mean squared error for each model and dataset is shown below:\n",
        "\n",
        "| Dataset | Training | Validation | Testing |\n",
        "|:---:|:---:|:---:|:---:|\n",
        "|**Model Architecture**| |||\n",
        "|RNN| 3.7828|3.7471 |3.7881\n",
        "|LSTM| **3.7466**| **3.7158**| **3.7394**\n",
        "|GRU| 3.7728| 3.7416|3.7575\n",
        "|NN|3.7604|3.7325|3.7680\n",
        "\n",
        "Here, we see that the two-layer neural network with 8,201 parameters' performance is comparable to the performance of the sequential models on the task of daily average temperature prediction in Europe. Given the simplicity of the task, the feed-forward network is expressive enough to capture the relationships between the 30 days of temperature data and the target day's temperature, and ultimately produce good predictions on the testing data.\n",
        "\n"
      ],
      "metadata": {
        "id": "yzagV0IttNoE"
      }
    },
    {
      "cell_type": "markdown",
      "source": [
        "---\n",
        "## **Task 2: FastText Embeddings for Word Similarity and Dissimilarity**\n",
        " \n",
        "In this section, we load pre-trained 300-dimensional FastText English word embeddings (https://fasttext.cc/docs/en/python-module.html), define functions for cosine similarity and dissimilarity of two words (using these embeddings), and show the similarity and dissimilarity scores for various pairs of words."
      ],
      "metadata": {
        "id": "v8TwljOfQkFL"
      }
    },
    {
      "cell_type": "code",
      "source": [
        "# Install and load FastText library for Python \n",
        "!pip install fasttext\n",
        "import fasttext"
      ],
      "metadata": {
        "colab": {
          "base_uri": "https://localhost:8080/"
        },
        "id": "Vx-3CVy5_OR9",
        "outputId": "81021403-e273-4b8b-df94-2e07676e1820"
      },
      "execution_count": null,
      "outputs": [
        {
          "output_type": "stream",
          "name": "stdout",
          "text": [
            "Looking in indexes: https://pypi.org/simple, https://us-python.pkg.dev/colab-wheels/public/simple/\n",
            "Collecting fasttext\n",
            "  Downloading fasttext-0.9.2.tar.gz (68 kB)\n",
            "\u001b[K     |████████████████████████████████| 68 kB 4.7 MB/s \n",
            "\u001b[?25hCollecting pybind11>=2.2\n",
            "  Using cached pybind11-2.10.0-py3-none-any.whl (213 kB)\n",
            "Requirement already satisfied: setuptools>=0.7.0 in /usr/local/lib/python3.7/dist-packages (from fasttext) (57.4.0)\n",
            "Requirement already satisfied: numpy in /usr/local/lib/python3.7/dist-packages (from fasttext) (1.21.6)\n",
            "Building wheels for collected packages: fasttext\n",
            "  Building wheel for fasttext (setup.py) ... \u001b[?25l\u001b[?25hdone\n",
            "  Created wheel for fasttext: filename=fasttext-0.9.2-cp37-cp37m-linux_x86_64.whl size=3169828 sha256=f95ff06885325a662f47aa12cc1e858d28a845d6227f132fad36ddbc2714db0f\n",
            "  Stored in directory: /root/.cache/pip/wheels/4e/ca/bf/b020d2be95f7641801a6597a29c8f4f19e38f9c02a345bab9b\n",
            "Successfully built fasttext\n",
            "Installing collected packages: pybind11, fasttext\n",
            "Successfully installed fasttext-0.9.2 pybind11-2.10.0\n"
          ]
        }
      ]
    },
    {
      "cell_type": "code",
      "source": [
        "# Download the pre-trained 300-dimensional FastText English word embedding model and load the model \n",
        "import fasttext.util\n",
        "fasttext.util.download_model('en', if_exists='ignore')\n",
        "ft = fasttext.load_model('cc.en.300.bin')"
      ],
      "metadata": {
        "colab": {
          "base_uri": "https://localhost:8080/"
        },
        "id": "OPT36TS5_UIs",
        "outputId": "dd8b6ebb-43f3-4842-b05e-c0b206d88e61"
      },
      "execution_count": null,
      "outputs": [
        {
          "output_type": "stream",
          "name": "stdout",
          "text": [
            "Downloading https://dl.fbaipublicfiles.com/fasttext/vectors-crawl/cc.en.300.bin.gz\n",
            "\n"
          ]
        },
        {
          "output_type": "stream",
          "name": "stderr",
          "text": [
            "Warning : `load_model` does not return WordVectorModel or SupervisedModel any more, but a `FastText` object which is very similar.\n"
          ]
        }
      ]
    },
    {
      "cell_type": "code",
      "source": [
        "# This function calculates the cosine similarity of the FastText embeddings of word_1 and word_2\n",
        "# The output ranges from -1 (vectors are in opposite directions)\n",
        "# to 1 (indicating maximum similarity (vectors are in the same direction))\n",
        "# An output of 0 indicates that words are not related (vectors are orthogonal)\n",
        "def cosine_similarity(word_1, word_2):\n",
        "  x = ft.get_word_vector(word_1)\n",
        "  y = ft.get_word_vector(word_2)\n",
        "  return np.dot(x, y) / (np.linalg.norm(x) * np.linalg.norm(y))"
      ],
      "metadata": {
        "id": "MN8tbqU7_bzG"
      },
      "execution_count": null,
      "outputs": []
    },
    {
      "cell_type": "markdown",
      "source": [
        "As dissimilarity metrics, we note that we can use vector distance metrics such as Euclidean distance, Manhattan distance, Chebyshev distance etc.... However, Euclidean distance is not good in high dimensional spaces due to increased sparsity, and Manhattan distance can also suffer. We will use 1 - cosine similarity, as, intuitively, words that are similar should be less dissimilar, and words that are not similar should be more dissimilar. If dissimilarity is the opposite of similarity, and cosine similarity is a strong measure of similarity (by vector direction, independent of magnitude), then 1 - cosine similarity should be a good measure of dissimilarity. We note that since cosine similarity ranges from -1 to 1, this dissimilarity measure ranges from 0 to 2. However, since a similarity of 0 indicates unrelatedness, we can interpret a dissimilarity of 1 as unrelated. "
      ],
      "metadata": {
        "id": "-kVQCYQrB3hD"
      }
    },
    {
      "cell_type": "code",
      "source": [
        "# This function calculates the dissimilarity of the FastText embeddings of word_1 and word_2 using 1 - cosine similarity\n",
        "# The output ranges from 0 (indicating no dissimilarity (vectors are in the same direction))\n",
        "# to 2 (indicating maximum dissimilarity (vectors are in the opposite directions))\n",
        "# An output of 1 indicates that the words are not related (vectors are orthogonal)\n",
        "def dissimilarity(word_1, word_2):\n",
        "  return 1 - cosine_similarity(word_1, word_2)"
      ],
      "metadata": {
        "id": "1xU-5UQuADwE"
      },
      "execution_count": null,
      "outputs": []
    },
    {
      "cell_type": "code",
      "source": [
        "# Consider two words \"sadness\" and \"sorrow\", which we may consider similar\n",
        "word_1 = \"sadness\"\n",
        "word_2 = \"sorrow\"\n",
        "print(f\"Cosine Similarity between {word_1} and {word_2}: {cosine_similarity(word_1, word_2)}\")\n",
        "print(f\"Dissimilarity between {word_1} and {word_2}: {dissimilarity(word_1, word_2)}\")"
      ],
      "metadata": {
        "colab": {
          "base_uri": "https://localhost:8080/"
        },
        "id": "4JcVQMJyDe3K",
        "outputId": "219c2448-cdab-40c6-9722-32741a104fa1"
      },
      "execution_count": null,
      "outputs": [
        {
          "output_type": "stream",
          "name": "stdout",
          "text": [
            "Cosine Similarity between sadness and sorrow: 0.8628993630409241\n",
            "Dissimilarity between sadness and sorrow: 0.13710063695907593\n"
          ]
        }
      ]
    },
    {
      "cell_type": "code",
      "source": [
        "# Consider two words \"anger\" and \"rage\", which we may consider similar\n",
        "word_1 = \"anger\"\n",
        "word_2 = \"rage\"\n",
        "print(f\"Cosine Similarity between {word_1} and {word_2}: {cosine_similarity(word_1, word_2)}\")\n",
        "print(f\"Dissimilarity between {word_1} and {word_2}: {dissimilarity(word_1, word_2)}\")"
      ],
      "metadata": {
        "colab": {
          "base_uri": "https://localhost:8080/"
        },
        "id": "KXcxZKAwD3MA",
        "outputId": "83187ad0-6196-4747-fe90-b1f2b10903fd"
      },
      "execution_count": null,
      "outputs": [
        {
          "output_type": "stream",
          "name": "stdout",
          "text": [
            "Cosine Similarity between anger and rage: 0.7166127562522888\n",
            "Dissimilarity between anger and rage: 0.2833872437477112\n"
          ]
        }
      ]
    },
    {
      "cell_type": "code",
      "source": [
        "# Consider two words \"the\" and \"microphone\", which we may consider dissimilar\n",
        "word_1 = \"the\"\n",
        "word_2 = \"microphone\"\n",
        "print(f\"Cosine Similarity between {word_1} and {word_2}: {cosine_similarity(word_1, word_2)}\")\n",
        "print(f\"Dissimilarity between {word_1} and {word_2}: {dissimilarity(word_1, word_2)}\")"
      ],
      "metadata": {
        "colab": {
          "base_uri": "https://localhost:8080/"
        },
        "id": "zkf-p3iyD4ue",
        "outputId": "b73e5d02-47eb-4b11-bbf2-d1b4fff0b036"
      },
      "execution_count": null,
      "outputs": [
        {
          "output_type": "stream",
          "name": "stdout",
          "text": [
            "Cosine Similarity between the and microphone: 0.15792231261730194\n",
            "Dissimilarity between the and microphone: 0.8420776873826981\n"
          ]
        }
      ]
    },
    {
      "cell_type": "code",
      "source": [
        "# Consider two words \"halcyon\" and \"paper\", which we may consider dissimilar\n",
        "word_1 = \"halcyon\"\n",
        "word_2 = \"paper\"\n",
        "print(f\"Cosine Similarity between {word_1} and {word_2}: {cosine_similarity(word_1, word_2)}\")\n",
        "print(f\"Dissimilarity between {word_1} and {word_2}: {dissimilarity(word_1, word_2)}\")"
      ],
      "metadata": {
        "colab": {
          "base_uri": "https://localhost:8080/"
        },
        "id": "jHEPoPlMD42i",
        "outputId": "a4bd283f-a7d7-4d95-dcae-e2fe69161884"
      },
      "execution_count": null,
      "outputs": [
        {
          "output_type": "stream",
          "name": "stdout",
          "text": [
            "Cosine Similarity between halcyon and paper: 0.026520151644945145\n",
            "Dissimilarity between halcyon and paper: 0.9734798483550549\n"
          ]
        }
      ]
    }
  ]
}