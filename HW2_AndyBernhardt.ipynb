{
  "nbformat": 4,
  "nbformat_minor": 0,
  "metadata": {
    "colab": {
      "provenance": [],
      "collapsed_sections": [],
      "authorship_tag": "ABX9TyMbXOe7cQcTlBMq/s2AmwNd",
      "include_colab_link": true
    },
    "kernelspec": {
      "name": "python3",
      "display_name": "Python 3"
    },
    "language_info": {
      "name": "python"
    }
  },
  "cells": [
    {
      "cell_type": "markdown",
      "metadata": {
        "id": "view-in-github",
        "colab_type": "text"
      },
      "source": [
        "<a href=\"https://colab.research.google.com/github/bernhardtandy/ProjectsMLAI/blob/main/HW2_AndyBernhardt.ipynb\" target=\"_parent\"><img src=\"https://colab.research.google.com/assets/colab-badge.svg\" alt=\"Open In Colab\"/></a>"
      ]
    },
    {
      "cell_type": "markdown",
      "source": [
        "# **Projects in Machine Learning and AI Homework 2**\n",
        "## *Decision Trees, Bagging, and Boosting for Binary Music Genre Classification*\n",
        "##### **Andy Bernhardt**\n",
        "##### **bernha@rpi.edu**"
      ],
      "metadata": {
        "id": "Ac-8RTcxKo52"
      }
    },
    {
      "cell_type": "markdown",
      "source": [
        "---\n",
        "## **Task 1: Decision Tree Classifier for Binary Music Genre Classification**\n",
        "\n",
        "In this section, we will load the required libraries and dataset (GTZAN) for the project, preprocess the data, and use sklearn to implement a decision tree classifier for binary music genre classification (\"classical\" vs \"pop\"). We will vary the input parameters to the decision tree classifier and compare the results.\n"
      ],
      "metadata": {
        "id": "njXSOxYdK_eR"
      }
    },
    {
      "cell_type": "markdown",
      "source": [
        "### Setup"
      ],
      "metadata": {
        "id": "clhW6EBKTlB6"
      }
    },
    {
      "cell_type": "code",
      "source": [
        "# Import required libraries for project\n",
        "import math\n",
        "import pandas as pd\n",
        "import matplotlib.pyplot as plt\n",
        "import seaborn as sns\n",
        "import numpy as np\n",
        "from sklearn.model_selection import train_test_split\n",
        "from sklearn import tree\n",
        "from sklearn.metrics import confusion_matrix, accuracy_score, precision_score, recall_score, f1_score, classification_report\n",
        "from sklearn.preprocessing import Normalizer\n",
        "\n",
        "from sklearn.model_selection import cross_val_score\n",
        "from sklearn.model_selection import RepeatedStratifiedKFold\n",
        "from sklearn.ensemble import ExtraTreesClassifier\n",
        "from sklearn.ensemble import GradientBoostingClassifier"
      ],
      "metadata": {
        "id": "FT21LZhhTYWa"
      },
      "execution_count": 84,
      "outputs": []
    },
    {
      "cell_type": "markdown",
      "source": [
        "### Load dataset from Google Drive"
      ],
      "metadata": {
        "id": "pljpEVVxT1WT"
      }
    },
    {
      "cell_type": "code",
      "source": [
        "# Mount Google Drive\n",
        "from google.colab import drive\n",
        "drive.mount('/content/drive')"
      ],
      "metadata": {
        "colab": {
          "base_uri": "https://localhost:8080/"
        },
        "id": "mwuI5MKYVfV0",
        "outputId": "ed4bbabe-502a-4130-a56a-41ae7f3ffd83"
      },
      "execution_count": 53,
      "outputs": [
        {
          "output_type": "stream",
          "name": "stdout",
          "text": [
            "Drive already mounted at /content/drive; to attempt to forcibly remount, call drive.mount(\"/content/drive\", force_remount=True).\n"
          ]
        }
      ]
    },
    {
      "cell_type": "code",
      "source": [
        "# Add HW2 folder to path\n",
        "import sys\n",
        "sys.path.append('/content/drive/MyDrive/ProjectsMLAI/HW2')"
      ],
      "metadata": {
        "id": "AIiU_B8nVfX7"
      },
      "execution_count": 54,
      "outputs": []
    },
    {
      "cell_type": "code",
      "source": [
        "# Load GTZAN 3-second dataset\n",
        "df = pd.read_csv(\"/content/drive/MyDrive/ProjectsMLAI/HW2/GTZAN.csv\")"
      ],
      "metadata": {
        "id": "1Oah3mQKVfZj"
      },
      "execution_count": 55,
      "outputs": []
    },
    {
      "cell_type": "markdown",
      "source": [
        "### Dataset description\n",
        "GTZAN is the \"most-used public dataset for evaluation in machine listening research for music genre recognition (MGR)\". Most notably, it includes a dataset of 30-second audio clips from 100 audio files for 10 genres each, as well as an image for each audio file which is a \"visual representation\" of the file. In addition, the dataset includes two CSV files: one with features extracted from each 30-second audio file ($\\approx$100 examples per genre/10 genres), and a second with features extracted from each audio file split into 3-second clips ($\\approx$1000 examples per genre/10 genres). Although the data is from recordings collected in 2000-2001, the dataset is relatively new ($\\approx$ two years old).\n",
        "\n",
        "In this project, we use the second CSV file of features from 3-second clips, and consider only the data corresponding to the \"classical\" and \"pop\" genres (998 examples for \"classical\" and 1000 examples for \"pop\" - a balanced dataset) in order to project the general multi-class genre classification task into a binary classification task. We first split the dataset 80/20 into training and test sets, and then implement various models to predict the genre given the feature information. These models are finally evaluated on the held-out test set and compared.\n",
        "\n",
        "Link to dataset: https://www.kaggle.com/datasets/andradaolteanu/gtzan-dataset-music-genre-classification"
      ],
      "metadata": {
        "id": "45QhcR0MV-Ke"
      }
    },
    {
      "cell_type": "markdown",
      "source": [
        "### Data Preprocessing\n",
        "- Show dataset\n",
        "- Filter rows with labels \"classical\" and \"pop\"\n",
        "- Split dataframe into training (80%) and testing (20%) sets\n",
        "- Isolate features (chroma_stft_mean, chroma_stft_var, rms_mean, rms_var, spectral_centroid_mean, spectral_centroid_var, spectral_bandwidth_mean, spectral_bandwidth_var, rolloff_mean, rolloff_var, zero_crossing_rate_mean, zero_crossing_rate_var, harmony_mean, harmony_var, perceptr_mean, perceptr_var, tempo, mfcc1_mean, mfcc1_var, mfcc2_mean, mfcc2_var, mfcc3_mean, mfcc3_var, mfcc4_mean, mfcc4_var, mfcc5_mean, mfcc5_var, mfcc6_mean, mfcc6_var, mfcc7_mean, mfcc7_var, mfcc8_mean, mfcc8_var, mfcc9_mean, mfcc9_var, mfcc10_mean, mfcc10_var, mfcc11_mean, mfcc11_var, mfcc12_mean, mfcc12_var, mfcc13_mean, mfcc13_var, mfcc14_meanm, fcc14_var, mfcc15_mean, mfcc15_var, mfcc16_mean, mfcc16_var, mfcc17_mean, mfcc17_var, mfcc18_mean, mfcc18_var, mfcc19_mean, mfcc19_var, mfcc20_mean, mfcc20_var)\n",
        "- Normalize features\n",
        "- Change labels to 0 (\"classical\") and 1 (\"pop\") and isolate labels"
      ],
      "metadata": {
        "id": "N3qLldI3dXI5"
      }
    },
    {
      "cell_type": "code",
      "source": [
        "# Show dataset\n",
        "df"
      ],
      "metadata": {
        "colab": {
          "base_uri": "https://localhost:8080/",
          "height": 488
        },
        "id": "Lf5A2YbhdHva",
        "outputId": "6a3b7913-3216-4b4c-e018-f042e14d6a32"
      },
      "execution_count": 56,
      "outputs": [
        {
          "output_type": "execute_result",
          "data": {
            "text/plain": [
              "               filename  length  chroma_stft_mean  chroma_stft_var  rms_mean  \\\n",
              "0     blues.00000.0.wav   66149          0.335406         0.091048  0.130405   \n",
              "1     blues.00000.1.wav   66149          0.343065         0.086147  0.112699   \n",
              "2     blues.00000.2.wav   66149          0.346815         0.092243  0.132003   \n",
              "3     blues.00000.3.wav   66149          0.363639         0.086856  0.132565   \n",
              "4     blues.00000.4.wav   66149          0.335579         0.088129  0.143289   \n",
              "...                 ...     ...               ...              ...       ...   \n",
              "9985   rock.00099.5.wav   66149          0.349126         0.080515  0.050019   \n",
              "9986   rock.00099.6.wav   66149          0.372564         0.082626  0.057897   \n",
              "9987   rock.00099.7.wav   66149          0.347481         0.089019  0.052403   \n",
              "9988   rock.00099.8.wav   66149          0.387527         0.084815  0.066430   \n",
              "9989   rock.00099.9.wav   66149          0.369293         0.086759  0.050524   \n",
              "\n",
              "       rms_var  spectral_centroid_mean  spectral_centroid_var  \\\n",
              "0     0.003521             1773.065032          167541.630869   \n",
              "1     0.001450             1816.693777           90525.690866   \n",
              "2     0.004620             1788.539719          111407.437613   \n",
              "3     0.002448             1655.289045          111952.284517   \n",
              "4     0.001701             1630.656199           79667.267654   \n",
              "...        ...                     ...                    ...   \n",
              "9985  0.000097             1499.083005          164266.886443   \n",
              "9986  0.000088             1847.965128          281054.935973   \n",
              "9987  0.000701             1346.157659          662956.246325   \n",
              "9988  0.000320             2084.515327          203891.039161   \n",
              "9989  0.000067             1634.330126          411429.169769   \n",
              "\n",
              "      spectral_bandwidth_mean  spectral_bandwidth_var  ...  mfcc16_var  \\\n",
              "0                 1972.744388           117335.771563  ...   39.687145   \n",
              "1                 2010.051501            65671.875673  ...   64.748276   \n",
              "2                 2084.565132            75124.921716  ...   67.336563   \n",
              "3                 1960.039988            82913.639269  ...   47.739452   \n",
              "4                 1948.503884            60204.020268  ...   30.336359   \n",
              "...                       ...                     ...  ...         ...   \n",
              "9985              1718.707215            85931.574523  ...   42.485981   \n",
              "9986              1906.468492            99727.037054  ...   32.415203   \n",
              "9987              1561.859087           138762.841945  ...   78.228149   \n",
              "9988              2018.366254            22860.992562  ...   28.323744   \n",
              "9989              1867.422378           119722.211518  ...   38.801735   \n",
              "\n",
              "      mfcc17_mean  mfcc17_var  mfcc18_mean  mfcc18_var  mfcc19_mean  \\\n",
              "0       -3.241280   36.488243     0.722209   38.099152    -5.050335   \n",
              "1       -6.055294   40.677654     0.159015   51.264091    -2.837699   \n",
              "2       -1.768610   28.348579     2.378768   45.717648    -1.938424   \n",
              "3       -3.841155   28.337118     1.218588   34.770935    -3.580352   \n",
              "4        0.664582   45.880913     1.689446   51.363583    -3.392489   \n",
              "...           ...         ...          ...         ...          ...   \n",
              "9985    -9.094270   38.326839    -4.246976   31.049839    -5.625813   \n",
              "9986   -12.375726   66.418587    -3.081278   54.414265   -11.960546   \n",
              "9987    -2.524483   21.778994     4.809936   25.980829     1.775686   \n",
              "9988    -5.363541   17.209942     6.462601   21.442928     2.354765   \n",
              "9989   -11.598399   58.983097    -0.178517   55.761299    -6.903252   \n",
              "\n",
              "      mfcc19_var  mfcc20_mean  mfcc20_var  label  \n",
              "0      33.618073    -0.243027   43.771767  blues  \n",
              "1      97.030830     5.784063   59.943081  blues  \n",
              "2      53.050835     2.517375   33.105122  blues  \n",
              "3      50.836224     3.630866   32.023678  blues  \n",
              "4      26.738789     0.536961   29.146694  blues  \n",
              "...          ...          ...         ...    ...  \n",
              "9985   48.804092     1.818823   38.966969   rock  \n",
              "9986   63.452255     0.428857   18.697033   rock  \n",
              "9987   48.582378    -0.299545   41.586990   rock  \n",
              "9988   24.843613     0.675824   12.787750   rock  \n",
              "9989   39.485901    -3.412534   31.727489   rock  \n",
              "\n",
              "[9990 rows x 60 columns]"
            ],
            "text/html": [
              "\n",
              "  <div id=\"df-9ab29e35-667a-4881-a9c5-fdea1bf97f54\">\n",
              "    <div class=\"colab-df-container\">\n",
              "      <div>\n",
              "<style scoped>\n",
              "    .dataframe tbody tr th:only-of-type {\n",
              "        vertical-align: middle;\n",
              "    }\n",
              "\n",
              "    .dataframe tbody tr th {\n",
              "        vertical-align: top;\n",
              "    }\n",
              "\n",
              "    .dataframe thead th {\n",
              "        text-align: right;\n",
              "    }\n",
              "</style>\n",
              "<table border=\"1\" class=\"dataframe\">\n",
              "  <thead>\n",
              "    <tr style=\"text-align: right;\">\n",
              "      <th></th>\n",
              "      <th>filename</th>\n",
              "      <th>length</th>\n",
              "      <th>chroma_stft_mean</th>\n",
              "      <th>chroma_stft_var</th>\n",
              "      <th>rms_mean</th>\n",
              "      <th>rms_var</th>\n",
              "      <th>spectral_centroid_mean</th>\n",
              "      <th>spectral_centroid_var</th>\n",
              "      <th>spectral_bandwidth_mean</th>\n",
              "      <th>spectral_bandwidth_var</th>\n",
              "      <th>...</th>\n",
              "      <th>mfcc16_var</th>\n",
              "      <th>mfcc17_mean</th>\n",
              "      <th>mfcc17_var</th>\n",
              "      <th>mfcc18_mean</th>\n",
              "      <th>mfcc18_var</th>\n",
              "      <th>mfcc19_mean</th>\n",
              "      <th>mfcc19_var</th>\n",
              "      <th>mfcc20_mean</th>\n",
              "      <th>mfcc20_var</th>\n",
              "      <th>label</th>\n",
              "    </tr>\n",
              "  </thead>\n",
              "  <tbody>\n",
              "    <tr>\n",
              "      <th>0</th>\n",
              "      <td>blues.00000.0.wav</td>\n",
              "      <td>66149</td>\n",
              "      <td>0.335406</td>\n",
              "      <td>0.091048</td>\n",
              "      <td>0.130405</td>\n",
              "      <td>0.003521</td>\n",
              "      <td>1773.065032</td>\n",
              "      <td>167541.630869</td>\n",
              "      <td>1972.744388</td>\n",
              "      <td>117335.771563</td>\n",
              "      <td>...</td>\n",
              "      <td>39.687145</td>\n",
              "      <td>-3.241280</td>\n",
              "      <td>36.488243</td>\n",
              "      <td>0.722209</td>\n",
              "      <td>38.099152</td>\n",
              "      <td>-5.050335</td>\n",
              "      <td>33.618073</td>\n",
              "      <td>-0.243027</td>\n",
              "      <td>43.771767</td>\n",
              "      <td>blues</td>\n",
              "    </tr>\n",
              "    <tr>\n",
              "      <th>1</th>\n",
              "      <td>blues.00000.1.wav</td>\n",
              "      <td>66149</td>\n",
              "      <td>0.343065</td>\n",
              "      <td>0.086147</td>\n",
              "      <td>0.112699</td>\n",
              "      <td>0.001450</td>\n",
              "      <td>1816.693777</td>\n",
              "      <td>90525.690866</td>\n",
              "      <td>2010.051501</td>\n",
              "      <td>65671.875673</td>\n",
              "      <td>...</td>\n",
              "      <td>64.748276</td>\n",
              "      <td>-6.055294</td>\n",
              "      <td>40.677654</td>\n",
              "      <td>0.159015</td>\n",
              "      <td>51.264091</td>\n",
              "      <td>-2.837699</td>\n",
              "      <td>97.030830</td>\n",
              "      <td>5.784063</td>\n",
              "      <td>59.943081</td>\n",
              "      <td>blues</td>\n",
              "    </tr>\n",
              "    <tr>\n",
              "      <th>2</th>\n",
              "      <td>blues.00000.2.wav</td>\n",
              "      <td>66149</td>\n",
              "      <td>0.346815</td>\n",
              "      <td>0.092243</td>\n",
              "      <td>0.132003</td>\n",
              "      <td>0.004620</td>\n",
              "      <td>1788.539719</td>\n",
              "      <td>111407.437613</td>\n",
              "      <td>2084.565132</td>\n",
              "      <td>75124.921716</td>\n",
              "      <td>...</td>\n",
              "      <td>67.336563</td>\n",
              "      <td>-1.768610</td>\n",
              "      <td>28.348579</td>\n",
              "      <td>2.378768</td>\n",
              "      <td>45.717648</td>\n",
              "      <td>-1.938424</td>\n",
              "      <td>53.050835</td>\n",
              "      <td>2.517375</td>\n",
              "      <td>33.105122</td>\n",
              "      <td>blues</td>\n",
              "    </tr>\n",
              "    <tr>\n",
              "      <th>3</th>\n",
              "      <td>blues.00000.3.wav</td>\n",
              "      <td>66149</td>\n",
              "      <td>0.363639</td>\n",
              "      <td>0.086856</td>\n",
              "      <td>0.132565</td>\n",
              "      <td>0.002448</td>\n",
              "      <td>1655.289045</td>\n",
              "      <td>111952.284517</td>\n",
              "      <td>1960.039988</td>\n",
              "      <td>82913.639269</td>\n",
              "      <td>...</td>\n",
              "      <td>47.739452</td>\n",
              "      <td>-3.841155</td>\n",
              "      <td>28.337118</td>\n",
              "      <td>1.218588</td>\n",
              "      <td>34.770935</td>\n",
              "      <td>-3.580352</td>\n",
              "      <td>50.836224</td>\n",
              "      <td>3.630866</td>\n",
              "      <td>32.023678</td>\n",
              "      <td>blues</td>\n",
              "    </tr>\n",
              "    <tr>\n",
              "      <th>4</th>\n",
              "      <td>blues.00000.4.wav</td>\n",
              "      <td>66149</td>\n",
              "      <td>0.335579</td>\n",
              "      <td>0.088129</td>\n",
              "      <td>0.143289</td>\n",
              "      <td>0.001701</td>\n",
              "      <td>1630.656199</td>\n",
              "      <td>79667.267654</td>\n",
              "      <td>1948.503884</td>\n",
              "      <td>60204.020268</td>\n",
              "      <td>...</td>\n",
              "      <td>30.336359</td>\n",
              "      <td>0.664582</td>\n",
              "      <td>45.880913</td>\n",
              "      <td>1.689446</td>\n",
              "      <td>51.363583</td>\n",
              "      <td>-3.392489</td>\n",
              "      <td>26.738789</td>\n",
              "      <td>0.536961</td>\n",
              "      <td>29.146694</td>\n",
              "      <td>blues</td>\n",
              "    </tr>\n",
              "    <tr>\n",
              "      <th>...</th>\n",
              "      <td>...</td>\n",
              "      <td>...</td>\n",
              "      <td>...</td>\n",
              "      <td>...</td>\n",
              "      <td>...</td>\n",
              "      <td>...</td>\n",
              "      <td>...</td>\n",
              "      <td>...</td>\n",
              "      <td>...</td>\n",
              "      <td>...</td>\n",
              "      <td>...</td>\n",
              "      <td>...</td>\n",
              "      <td>...</td>\n",
              "      <td>...</td>\n",
              "      <td>...</td>\n",
              "      <td>...</td>\n",
              "      <td>...</td>\n",
              "      <td>...</td>\n",
              "      <td>...</td>\n",
              "      <td>...</td>\n",
              "      <td>...</td>\n",
              "    </tr>\n",
              "    <tr>\n",
              "      <th>9985</th>\n",
              "      <td>rock.00099.5.wav</td>\n",
              "      <td>66149</td>\n",
              "      <td>0.349126</td>\n",
              "      <td>0.080515</td>\n",
              "      <td>0.050019</td>\n",
              "      <td>0.000097</td>\n",
              "      <td>1499.083005</td>\n",
              "      <td>164266.886443</td>\n",
              "      <td>1718.707215</td>\n",
              "      <td>85931.574523</td>\n",
              "      <td>...</td>\n",
              "      <td>42.485981</td>\n",
              "      <td>-9.094270</td>\n",
              "      <td>38.326839</td>\n",
              "      <td>-4.246976</td>\n",
              "      <td>31.049839</td>\n",
              "      <td>-5.625813</td>\n",
              "      <td>48.804092</td>\n",
              "      <td>1.818823</td>\n",
              "      <td>38.966969</td>\n",
              "      <td>rock</td>\n",
              "    </tr>\n",
              "    <tr>\n",
              "      <th>9986</th>\n",
              "      <td>rock.00099.6.wav</td>\n",
              "      <td>66149</td>\n",
              "      <td>0.372564</td>\n",
              "      <td>0.082626</td>\n",
              "      <td>0.057897</td>\n",
              "      <td>0.000088</td>\n",
              "      <td>1847.965128</td>\n",
              "      <td>281054.935973</td>\n",
              "      <td>1906.468492</td>\n",
              "      <td>99727.037054</td>\n",
              "      <td>...</td>\n",
              "      <td>32.415203</td>\n",
              "      <td>-12.375726</td>\n",
              "      <td>66.418587</td>\n",
              "      <td>-3.081278</td>\n",
              "      <td>54.414265</td>\n",
              "      <td>-11.960546</td>\n",
              "      <td>63.452255</td>\n",
              "      <td>0.428857</td>\n",
              "      <td>18.697033</td>\n",
              "      <td>rock</td>\n",
              "    </tr>\n",
              "    <tr>\n",
              "      <th>9987</th>\n",
              "      <td>rock.00099.7.wav</td>\n",
              "      <td>66149</td>\n",
              "      <td>0.347481</td>\n",
              "      <td>0.089019</td>\n",
              "      <td>0.052403</td>\n",
              "      <td>0.000701</td>\n",
              "      <td>1346.157659</td>\n",
              "      <td>662956.246325</td>\n",
              "      <td>1561.859087</td>\n",
              "      <td>138762.841945</td>\n",
              "      <td>...</td>\n",
              "      <td>78.228149</td>\n",
              "      <td>-2.524483</td>\n",
              "      <td>21.778994</td>\n",
              "      <td>4.809936</td>\n",
              "      <td>25.980829</td>\n",
              "      <td>1.775686</td>\n",
              "      <td>48.582378</td>\n",
              "      <td>-0.299545</td>\n",
              "      <td>41.586990</td>\n",
              "      <td>rock</td>\n",
              "    </tr>\n",
              "    <tr>\n",
              "      <th>9988</th>\n",
              "      <td>rock.00099.8.wav</td>\n",
              "      <td>66149</td>\n",
              "      <td>0.387527</td>\n",
              "      <td>0.084815</td>\n",
              "      <td>0.066430</td>\n",
              "      <td>0.000320</td>\n",
              "      <td>2084.515327</td>\n",
              "      <td>203891.039161</td>\n",
              "      <td>2018.366254</td>\n",
              "      <td>22860.992562</td>\n",
              "      <td>...</td>\n",
              "      <td>28.323744</td>\n",
              "      <td>-5.363541</td>\n",
              "      <td>17.209942</td>\n",
              "      <td>6.462601</td>\n",
              "      <td>21.442928</td>\n",
              "      <td>2.354765</td>\n",
              "      <td>24.843613</td>\n",
              "      <td>0.675824</td>\n",
              "      <td>12.787750</td>\n",
              "      <td>rock</td>\n",
              "    </tr>\n",
              "    <tr>\n",
              "      <th>9989</th>\n",
              "      <td>rock.00099.9.wav</td>\n",
              "      <td>66149</td>\n",
              "      <td>0.369293</td>\n",
              "      <td>0.086759</td>\n",
              "      <td>0.050524</td>\n",
              "      <td>0.000067</td>\n",
              "      <td>1634.330126</td>\n",
              "      <td>411429.169769</td>\n",
              "      <td>1867.422378</td>\n",
              "      <td>119722.211518</td>\n",
              "      <td>...</td>\n",
              "      <td>38.801735</td>\n",
              "      <td>-11.598399</td>\n",
              "      <td>58.983097</td>\n",
              "      <td>-0.178517</td>\n",
              "      <td>55.761299</td>\n",
              "      <td>-6.903252</td>\n",
              "      <td>39.485901</td>\n",
              "      <td>-3.412534</td>\n",
              "      <td>31.727489</td>\n",
              "      <td>rock</td>\n",
              "    </tr>\n",
              "  </tbody>\n",
              "</table>\n",
              "<p>9990 rows × 60 columns</p>\n",
              "</div>\n",
              "      <button class=\"colab-df-convert\" onclick=\"convertToInteractive('df-9ab29e35-667a-4881-a9c5-fdea1bf97f54')\"\n",
              "              title=\"Convert this dataframe to an interactive table.\"\n",
              "              style=\"display:none;\">\n",
              "        \n",
              "  <svg xmlns=\"http://www.w3.org/2000/svg\" height=\"24px\"viewBox=\"0 0 24 24\"\n",
              "       width=\"24px\">\n",
              "    <path d=\"M0 0h24v24H0V0z\" fill=\"none\"/>\n",
              "    <path d=\"M18.56 5.44l.94 2.06.94-2.06 2.06-.94-2.06-.94-.94-2.06-.94 2.06-2.06.94zm-11 1L8.5 8.5l.94-2.06 2.06-.94-2.06-.94L8.5 2.5l-.94 2.06-2.06.94zm10 10l.94 2.06.94-2.06 2.06-.94-2.06-.94-.94-2.06-.94 2.06-2.06.94z\"/><path d=\"M17.41 7.96l-1.37-1.37c-.4-.4-.92-.59-1.43-.59-.52 0-1.04.2-1.43.59L10.3 9.45l-7.72 7.72c-.78.78-.78 2.05 0 2.83L4 21.41c.39.39.9.59 1.41.59.51 0 1.02-.2 1.41-.59l7.78-7.78 2.81-2.81c.8-.78.8-2.07 0-2.86zM5.41 20L4 18.59l7.72-7.72 1.47 1.35L5.41 20z\"/>\n",
              "  </svg>\n",
              "      </button>\n",
              "      \n",
              "  <style>\n",
              "    .colab-df-container {\n",
              "      display:flex;\n",
              "      flex-wrap:wrap;\n",
              "      gap: 12px;\n",
              "    }\n",
              "\n",
              "    .colab-df-convert {\n",
              "      background-color: #E8F0FE;\n",
              "      border: none;\n",
              "      border-radius: 50%;\n",
              "      cursor: pointer;\n",
              "      display: none;\n",
              "      fill: #1967D2;\n",
              "      height: 32px;\n",
              "      padding: 0 0 0 0;\n",
              "      width: 32px;\n",
              "    }\n",
              "\n",
              "    .colab-df-convert:hover {\n",
              "      background-color: #E2EBFA;\n",
              "      box-shadow: 0px 1px 2px rgba(60, 64, 67, 0.3), 0px 1px 3px 1px rgba(60, 64, 67, 0.15);\n",
              "      fill: #174EA6;\n",
              "    }\n",
              "\n",
              "    [theme=dark] .colab-df-convert {\n",
              "      background-color: #3B4455;\n",
              "      fill: #D2E3FC;\n",
              "    }\n",
              "\n",
              "    [theme=dark] .colab-df-convert:hover {\n",
              "      background-color: #434B5C;\n",
              "      box-shadow: 0px 1px 3px 1px rgba(0, 0, 0, 0.15);\n",
              "      filter: drop-shadow(0px 1px 2px rgba(0, 0, 0, 0.3));\n",
              "      fill: #FFFFFF;\n",
              "    }\n",
              "  </style>\n",
              "\n",
              "      <script>\n",
              "        const buttonEl =\n",
              "          document.querySelector('#df-9ab29e35-667a-4881-a9c5-fdea1bf97f54 button.colab-df-convert');\n",
              "        buttonEl.style.display =\n",
              "          google.colab.kernel.accessAllowed ? 'block' : 'none';\n",
              "\n",
              "        async function convertToInteractive(key) {\n",
              "          const element = document.querySelector('#df-9ab29e35-667a-4881-a9c5-fdea1bf97f54');\n",
              "          const dataTable =\n",
              "            await google.colab.kernel.invokeFunction('convertToInteractive',\n",
              "                                                     [key], {});\n",
              "          if (!dataTable) return;\n",
              "\n",
              "          const docLinkHtml = 'Like what you see? Visit the ' +\n",
              "            '<a target=\"_blank\" href=https://colab.research.google.com/notebooks/data_table.ipynb>data table notebook</a>'\n",
              "            + ' to learn more about interactive tables.';\n",
              "          element.innerHTML = '';\n",
              "          dataTable['output_type'] = 'display_data';\n",
              "          await google.colab.output.renderOutput(dataTable, element);\n",
              "          const docLink = document.createElement('div');\n",
              "          docLink.innerHTML = docLinkHtml;\n",
              "          element.appendChild(docLink);\n",
              "        }\n",
              "      </script>\n",
              "    </div>\n",
              "  </div>\n",
              "  "
            ]
          },
          "metadata": {},
          "execution_count": 56
        }
      ]
    },
    {
      "cell_type": "code",
      "source": [
        "# Show original label value counts\n",
        "print(f\"Value counts:\\n{df.label.value_counts()}\")"
      ],
      "metadata": {
        "colab": {
          "base_uri": "https://localhost:8080/"
        },
        "id": "mDhmh_5EWESK",
        "outputId": "93d8a6ae-4e1a-49cf-8a63-4e37487c6ffb"
      },
      "execution_count": 57,
      "outputs": [
        {
          "output_type": "stream",
          "name": "stdout",
          "text": [
            "Value counts:\n",
            "blues        1000\n",
            "jazz         1000\n",
            "metal        1000\n",
            "pop          1000\n",
            "reggae       1000\n",
            "disco         999\n",
            "classical     998\n",
            "hiphop        998\n",
            "rock          998\n",
            "country       997\n",
            "Name: label, dtype: int64\n"
          ]
        }
      ]
    },
    {
      "cell_type": "code",
      "source": [
        "# Filter rows with labels \"classical\" and \"pop\"\n",
        "df_filtered = df.loc[df['label'].isin(['classical', 'pop'])]\n",
        "df_filtered"
      ],
      "metadata": {
        "colab": {
          "base_uri": "https://localhost:8080/",
          "height": 488
        },
        "id": "Z2cz7TqzeztR",
        "outputId": "9d8b7b43-0aed-4489-a2d0-b2887a952947"
      },
      "execution_count": 58,
      "outputs": [
        {
          "output_type": "execute_result",
          "data": {
            "text/plain": [
              "                   filename  length  chroma_stft_mean  chroma_stft_var  \\\n",
              "1000  classical.00000.0.wav   66149          0.255331         0.080393   \n",
              "1001  classical.00000.1.wav   66149          0.231431         0.084894   \n",
              "1002  classical.00000.2.wav   66149          0.225458         0.082233   \n",
              "1003  classical.00000.3.wav   66149          0.260866         0.082233   \n",
              "1004  classical.00000.4.wav   66149          0.269611         0.084948   \n",
              "...                     ...     ...               ...              ...   \n",
              "7987        pop.00099.5.wav   66149          0.342589         0.089339   \n",
              "7988        pop.00099.6.wav   66149          0.324163         0.096156   \n",
              "7989        pop.00099.7.wav   66149          0.347829         0.102577   \n",
              "7990        pop.00099.8.wav   66149          0.353859         0.092972   \n",
              "7991        pop.00099.9.wav   66149          0.331695         0.096575   \n",
              "\n",
              "      rms_mean   rms_var  spectral_centroid_mean  spectral_centroid_var  \\\n",
              "1000  0.032510  0.000075             1599.272683           1.856708e+04   \n",
              "1001  0.031453  0.000059             1551.352817           2.852497e+04   \n",
              "1002  0.041776  0.000222             1466.237496           4.501883e+04   \n",
              "1003  0.032749  0.000136             1435.850575           3.227031e+04   \n",
              "1004  0.045156  0.000476             1477.712706           2.144815e+04   \n",
              "...        ...       ...                     ...                    ...   \n",
              "7987  0.137082  0.002701             3210.404285           5.229747e+05   \n",
              "7988  0.151230  0.001677             2584.693526           5.699567e+05   \n",
              "7989  0.130131  0.002049             2732.619962           9.389428e+05   \n",
              "7990  0.148098  0.001058             2891.360207           1.304064e+06   \n",
              "7991  0.142586  0.003183             2663.909337           9.801983e+05   \n",
              "\n",
              "      spectral_bandwidth_mean  spectral_bandwidth_var  ...  mfcc16_var  \\\n",
              "1000              1675.591596            20596.851729  ...   55.257095   \n",
              "1001              1485.790068            28831.794511  ...   50.988071   \n",
              "1002              1495.076539            10600.321072  ...   81.254791   \n",
              "1003              1585.998216            36208.016702  ...   40.191471   \n",
              "1004              1569.311614            20844.078511  ...   62.712025   \n",
              "...                       ...                     ...  ...         ...   \n",
              "7987              3518.891658           106856.507085  ...   55.283569   \n",
              "7988              3274.529361           135583.646289  ...   49.914917   \n",
              "7989              3305.178275           228680.158389  ...   37.255424   \n",
              "7990              3344.280322           165330.747555  ...   57.142181   \n",
              "7991              3206.183818           215836.849358  ...   33.129791   \n",
              "\n",
              "      mfcc17_mean  mfcc17_var  mfcc18_mean  mfcc18_var  mfcc19_mean  \\\n",
              "1000    -1.666343  104.916260     4.525014   69.806412    -0.897889   \n",
              "1001    -1.546098   65.954590     7.157280   69.336983     2.718532   \n",
              "1002    -4.686039  102.037117    -4.411082   60.409714    -2.694283   \n",
              "1003     2.764065   46.115536    -0.732678   60.197281    -8.223904   \n",
              "1004    -0.079564   89.584717     2.686025   65.182037    -1.290078   \n",
              "...           ...         ...          ...         ...          ...   \n",
              "7987     1.613460   56.897308     6.900325   95.293251    -0.688965   \n",
              "7988     3.775996   73.963264    12.763522  150.864807     7.824332   \n",
              "7989     0.172578   43.497780     2.358351   79.210114     5.260961   \n",
              "7990     2.004879   86.238083     4.730950  161.434052    10.439860   \n",
              "7991    -3.956410   38.164520    -2.102560  100.689201     0.536028   \n",
              "\n",
              "      mfcc19_var  mfcc20_mean  mfcc20_var      label  \n",
              "1000  110.099174     4.160629  194.109070  classical  \n",
              "1001  120.725609    -1.692275  150.527496  classical  \n",
              "1002   60.788319     3.038420  213.015579  classical  \n",
              "1003   64.066719     1.734897  119.727020  classical  \n",
              "1004  105.829987    -4.315813   79.882378  classical  \n",
              "...          ...          ...         ...        ...  \n",
              "7987   37.893326     5.038363   56.635410        pop  \n",
              "7988  220.597992    11.147660  241.048462        pop  \n",
              "7989  137.600296     9.504729  119.177002        pop  \n",
              "7990  157.169983     9.645600  124.777672        pop  \n",
              "7991  199.992630     5.354913  151.480728        pop  \n",
              "\n",
              "[1998 rows x 60 columns]"
            ],
            "text/html": [
              "\n",
              "  <div id=\"df-cddedca2-638b-49f9-8fe3-bb0c37cf3f19\">\n",
              "    <div class=\"colab-df-container\">\n",
              "      <div>\n",
              "<style scoped>\n",
              "    .dataframe tbody tr th:only-of-type {\n",
              "        vertical-align: middle;\n",
              "    }\n",
              "\n",
              "    .dataframe tbody tr th {\n",
              "        vertical-align: top;\n",
              "    }\n",
              "\n",
              "    .dataframe thead th {\n",
              "        text-align: right;\n",
              "    }\n",
              "</style>\n",
              "<table border=\"1\" class=\"dataframe\">\n",
              "  <thead>\n",
              "    <tr style=\"text-align: right;\">\n",
              "      <th></th>\n",
              "      <th>filename</th>\n",
              "      <th>length</th>\n",
              "      <th>chroma_stft_mean</th>\n",
              "      <th>chroma_stft_var</th>\n",
              "      <th>rms_mean</th>\n",
              "      <th>rms_var</th>\n",
              "      <th>spectral_centroid_mean</th>\n",
              "      <th>spectral_centroid_var</th>\n",
              "      <th>spectral_bandwidth_mean</th>\n",
              "      <th>spectral_bandwidth_var</th>\n",
              "      <th>...</th>\n",
              "      <th>mfcc16_var</th>\n",
              "      <th>mfcc17_mean</th>\n",
              "      <th>mfcc17_var</th>\n",
              "      <th>mfcc18_mean</th>\n",
              "      <th>mfcc18_var</th>\n",
              "      <th>mfcc19_mean</th>\n",
              "      <th>mfcc19_var</th>\n",
              "      <th>mfcc20_mean</th>\n",
              "      <th>mfcc20_var</th>\n",
              "      <th>label</th>\n",
              "    </tr>\n",
              "  </thead>\n",
              "  <tbody>\n",
              "    <tr>\n",
              "      <th>1000</th>\n",
              "      <td>classical.00000.0.wav</td>\n",
              "      <td>66149</td>\n",
              "      <td>0.255331</td>\n",
              "      <td>0.080393</td>\n",
              "      <td>0.032510</td>\n",
              "      <td>0.000075</td>\n",
              "      <td>1599.272683</td>\n",
              "      <td>1.856708e+04</td>\n",
              "      <td>1675.591596</td>\n",
              "      <td>20596.851729</td>\n",
              "      <td>...</td>\n",
              "      <td>55.257095</td>\n",
              "      <td>-1.666343</td>\n",
              "      <td>104.916260</td>\n",
              "      <td>4.525014</td>\n",
              "      <td>69.806412</td>\n",
              "      <td>-0.897889</td>\n",
              "      <td>110.099174</td>\n",
              "      <td>4.160629</td>\n",
              "      <td>194.109070</td>\n",
              "      <td>classical</td>\n",
              "    </tr>\n",
              "    <tr>\n",
              "      <th>1001</th>\n",
              "      <td>classical.00000.1.wav</td>\n",
              "      <td>66149</td>\n",
              "      <td>0.231431</td>\n",
              "      <td>0.084894</td>\n",
              "      <td>0.031453</td>\n",
              "      <td>0.000059</td>\n",
              "      <td>1551.352817</td>\n",
              "      <td>2.852497e+04</td>\n",
              "      <td>1485.790068</td>\n",
              "      <td>28831.794511</td>\n",
              "      <td>...</td>\n",
              "      <td>50.988071</td>\n",
              "      <td>-1.546098</td>\n",
              "      <td>65.954590</td>\n",
              "      <td>7.157280</td>\n",
              "      <td>69.336983</td>\n",
              "      <td>2.718532</td>\n",
              "      <td>120.725609</td>\n",
              "      <td>-1.692275</td>\n",
              "      <td>150.527496</td>\n",
              "      <td>classical</td>\n",
              "    </tr>\n",
              "    <tr>\n",
              "      <th>1002</th>\n",
              "      <td>classical.00000.2.wav</td>\n",
              "      <td>66149</td>\n",
              "      <td>0.225458</td>\n",
              "      <td>0.082233</td>\n",
              "      <td>0.041776</td>\n",
              "      <td>0.000222</td>\n",
              "      <td>1466.237496</td>\n",
              "      <td>4.501883e+04</td>\n",
              "      <td>1495.076539</td>\n",
              "      <td>10600.321072</td>\n",
              "      <td>...</td>\n",
              "      <td>81.254791</td>\n",
              "      <td>-4.686039</td>\n",
              "      <td>102.037117</td>\n",
              "      <td>-4.411082</td>\n",
              "      <td>60.409714</td>\n",
              "      <td>-2.694283</td>\n",
              "      <td>60.788319</td>\n",
              "      <td>3.038420</td>\n",
              "      <td>213.015579</td>\n",
              "      <td>classical</td>\n",
              "    </tr>\n",
              "    <tr>\n",
              "      <th>1003</th>\n",
              "      <td>classical.00000.3.wav</td>\n",
              "      <td>66149</td>\n",
              "      <td>0.260866</td>\n",
              "      <td>0.082233</td>\n",
              "      <td>0.032749</td>\n",
              "      <td>0.000136</td>\n",
              "      <td>1435.850575</td>\n",
              "      <td>3.227031e+04</td>\n",
              "      <td>1585.998216</td>\n",
              "      <td>36208.016702</td>\n",
              "      <td>...</td>\n",
              "      <td>40.191471</td>\n",
              "      <td>2.764065</td>\n",
              "      <td>46.115536</td>\n",
              "      <td>-0.732678</td>\n",
              "      <td>60.197281</td>\n",
              "      <td>-8.223904</td>\n",
              "      <td>64.066719</td>\n",
              "      <td>1.734897</td>\n",
              "      <td>119.727020</td>\n",
              "      <td>classical</td>\n",
              "    </tr>\n",
              "    <tr>\n",
              "      <th>1004</th>\n",
              "      <td>classical.00000.4.wav</td>\n",
              "      <td>66149</td>\n",
              "      <td>0.269611</td>\n",
              "      <td>0.084948</td>\n",
              "      <td>0.045156</td>\n",
              "      <td>0.000476</td>\n",
              "      <td>1477.712706</td>\n",
              "      <td>2.144815e+04</td>\n",
              "      <td>1569.311614</td>\n",
              "      <td>20844.078511</td>\n",
              "      <td>...</td>\n",
              "      <td>62.712025</td>\n",
              "      <td>-0.079564</td>\n",
              "      <td>89.584717</td>\n",
              "      <td>2.686025</td>\n",
              "      <td>65.182037</td>\n",
              "      <td>-1.290078</td>\n",
              "      <td>105.829987</td>\n",
              "      <td>-4.315813</td>\n",
              "      <td>79.882378</td>\n",
              "      <td>classical</td>\n",
              "    </tr>\n",
              "    <tr>\n",
              "      <th>...</th>\n",
              "      <td>...</td>\n",
              "      <td>...</td>\n",
              "      <td>...</td>\n",
              "      <td>...</td>\n",
              "      <td>...</td>\n",
              "      <td>...</td>\n",
              "      <td>...</td>\n",
              "      <td>...</td>\n",
              "      <td>...</td>\n",
              "      <td>...</td>\n",
              "      <td>...</td>\n",
              "      <td>...</td>\n",
              "      <td>...</td>\n",
              "      <td>...</td>\n",
              "      <td>...</td>\n",
              "      <td>...</td>\n",
              "      <td>...</td>\n",
              "      <td>...</td>\n",
              "      <td>...</td>\n",
              "      <td>...</td>\n",
              "      <td>...</td>\n",
              "    </tr>\n",
              "    <tr>\n",
              "      <th>7987</th>\n",
              "      <td>pop.00099.5.wav</td>\n",
              "      <td>66149</td>\n",
              "      <td>0.342589</td>\n",
              "      <td>0.089339</td>\n",
              "      <td>0.137082</td>\n",
              "      <td>0.002701</td>\n",
              "      <td>3210.404285</td>\n",
              "      <td>5.229747e+05</td>\n",
              "      <td>3518.891658</td>\n",
              "      <td>106856.507085</td>\n",
              "      <td>...</td>\n",
              "      <td>55.283569</td>\n",
              "      <td>1.613460</td>\n",
              "      <td>56.897308</td>\n",
              "      <td>6.900325</td>\n",
              "      <td>95.293251</td>\n",
              "      <td>-0.688965</td>\n",
              "      <td>37.893326</td>\n",
              "      <td>5.038363</td>\n",
              "      <td>56.635410</td>\n",
              "      <td>pop</td>\n",
              "    </tr>\n",
              "    <tr>\n",
              "      <th>7988</th>\n",
              "      <td>pop.00099.6.wav</td>\n",
              "      <td>66149</td>\n",
              "      <td>0.324163</td>\n",
              "      <td>0.096156</td>\n",
              "      <td>0.151230</td>\n",
              "      <td>0.001677</td>\n",
              "      <td>2584.693526</td>\n",
              "      <td>5.699567e+05</td>\n",
              "      <td>3274.529361</td>\n",
              "      <td>135583.646289</td>\n",
              "      <td>...</td>\n",
              "      <td>49.914917</td>\n",
              "      <td>3.775996</td>\n",
              "      <td>73.963264</td>\n",
              "      <td>12.763522</td>\n",
              "      <td>150.864807</td>\n",
              "      <td>7.824332</td>\n",
              "      <td>220.597992</td>\n",
              "      <td>11.147660</td>\n",
              "      <td>241.048462</td>\n",
              "      <td>pop</td>\n",
              "    </tr>\n",
              "    <tr>\n",
              "      <th>7989</th>\n",
              "      <td>pop.00099.7.wav</td>\n",
              "      <td>66149</td>\n",
              "      <td>0.347829</td>\n",
              "      <td>0.102577</td>\n",
              "      <td>0.130131</td>\n",
              "      <td>0.002049</td>\n",
              "      <td>2732.619962</td>\n",
              "      <td>9.389428e+05</td>\n",
              "      <td>3305.178275</td>\n",
              "      <td>228680.158389</td>\n",
              "      <td>...</td>\n",
              "      <td>37.255424</td>\n",
              "      <td>0.172578</td>\n",
              "      <td>43.497780</td>\n",
              "      <td>2.358351</td>\n",
              "      <td>79.210114</td>\n",
              "      <td>5.260961</td>\n",
              "      <td>137.600296</td>\n",
              "      <td>9.504729</td>\n",
              "      <td>119.177002</td>\n",
              "      <td>pop</td>\n",
              "    </tr>\n",
              "    <tr>\n",
              "      <th>7990</th>\n",
              "      <td>pop.00099.8.wav</td>\n",
              "      <td>66149</td>\n",
              "      <td>0.353859</td>\n",
              "      <td>0.092972</td>\n",
              "      <td>0.148098</td>\n",
              "      <td>0.001058</td>\n",
              "      <td>2891.360207</td>\n",
              "      <td>1.304064e+06</td>\n",
              "      <td>3344.280322</td>\n",
              "      <td>165330.747555</td>\n",
              "      <td>...</td>\n",
              "      <td>57.142181</td>\n",
              "      <td>2.004879</td>\n",
              "      <td>86.238083</td>\n",
              "      <td>4.730950</td>\n",
              "      <td>161.434052</td>\n",
              "      <td>10.439860</td>\n",
              "      <td>157.169983</td>\n",
              "      <td>9.645600</td>\n",
              "      <td>124.777672</td>\n",
              "      <td>pop</td>\n",
              "    </tr>\n",
              "    <tr>\n",
              "      <th>7991</th>\n",
              "      <td>pop.00099.9.wav</td>\n",
              "      <td>66149</td>\n",
              "      <td>0.331695</td>\n",
              "      <td>0.096575</td>\n",
              "      <td>0.142586</td>\n",
              "      <td>0.003183</td>\n",
              "      <td>2663.909337</td>\n",
              "      <td>9.801983e+05</td>\n",
              "      <td>3206.183818</td>\n",
              "      <td>215836.849358</td>\n",
              "      <td>...</td>\n",
              "      <td>33.129791</td>\n",
              "      <td>-3.956410</td>\n",
              "      <td>38.164520</td>\n",
              "      <td>-2.102560</td>\n",
              "      <td>100.689201</td>\n",
              "      <td>0.536028</td>\n",
              "      <td>199.992630</td>\n",
              "      <td>5.354913</td>\n",
              "      <td>151.480728</td>\n",
              "      <td>pop</td>\n",
              "    </tr>\n",
              "  </tbody>\n",
              "</table>\n",
              "<p>1998 rows × 60 columns</p>\n",
              "</div>\n",
              "      <button class=\"colab-df-convert\" onclick=\"convertToInteractive('df-cddedca2-638b-49f9-8fe3-bb0c37cf3f19')\"\n",
              "              title=\"Convert this dataframe to an interactive table.\"\n",
              "              style=\"display:none;\">\n",
              "        \n",
              "  <svg xmlns=\"http://www.w3.org/2000/svg\" height=\"24px\"viewBox=\"0 0 24 24\"\n",
              "       width=\"24px\">\n",
              "    <path d=\"M0 0h24v24H0V0z\" fill=\"none\"/>\n",
              "    <path d=\"M18.56 5.44l.94 2.06.94-2.06 2.06-.94-2.06-.94-.94-2.06-.94 2.06-2.06.94zm-11 1L8.5 8.5l.94-2.06 2.06-.94-2.06-.94L8.5 2.5l-.94 2.06-2.06.94zm10 10l.94 2.06.94-2.06 2.06-.94-2.06-.94-.94-2.06-.94 2.06-2.06.94z\"/><path d=\"M17.41 7.96l-1.37-1.37c-.4-.4-.92-.59-1.43-.59-.52 0-1.04.2-1.43.59L10.3 9.45l-7.72 7.72c-.78.78-.78 2.05 0 2.83L4 21.41c.39.39.9.59 1.41.59.51 0 1.02-.2 1.41-.59l7.78-7.78 2.81-2.81c.8-.78.8-2.07 0-2.86zM5.41 20L4 18.59l7.72-7.72 1.47 1.35L5.41 20z\"/>\n",
              "  </svg>\n",
              "      </button>\n",
              "      \n",
              "  <style>\n",
              "    .colab-df-container {\n",
              "      display:flex;\n",
              "      flex-wrap:wrap;\n",
              "      gap: 12px;\n",
              "    }\n",
              "\n",
              "    .colab-df-convert {\n",
              "      background-color: #E8F0FE;\n",
              "      border: none;\n",
              "      border-radius: 50%;\n",
              "      cursor: pointer;\n",
              "      display: none;\n",
              "      fill: #1967D2;\n",
              "      height: 32px;\n",
              "      padding: 0 0 0 0;\n",
              "      width: 32px;\n",
              "    }\n",
              "\n",
              "    .colab-df-convert:hover {\n",
              "      background-color: #E2EBFA;\n",
              "      box-shadow: 0px 1px 2px rgba(60, 64, 67, 0.3), 0px 1px 3px 1px rgba(60, 64, 67, 0.15);\n",
              "      fill: #174EA6;\n",
              "    }\n",
              "\n",
              "    [theme=dark] .colab-df-convert {\n",
              "      background-color: #3B4455;\n",
              "      fill: #D2E3FC;\n",
              "    }\n",
              "\n",
              "    [theme=dark] .colab-df-convert:hover {\n",
              "      background-color: #434B5C;\n",
              "      box-shadow: 0px 1px 3px 1px rgba(0, 0, 0, 0.15);\n",
              "      filter: drop-shadow(0px 1px 2px rgba(0, 0, 0, 0.3));\n",
              "      fill: #FFFFFF;\n",
              "    }\n",
              "  </style>\n",
              "\n",
              "      <script>\n",
              "        const buttonEl =\n",
              "          document.querySelector('#df-cddedca2-638b-49f9-8fe3-bb0c37cf3f19 button.colab-df-convert');\n",
              "        buttonEl.style.display =\n",
              "          google.colab.kernel.accessAllowed ? 'block' : 'none';\n",
              "\n",
              "        async function convertToInteractive(key) {\n",
              "          const element = document.querySelector('#df-cddedca2-638b-49f9-8fe3-bb0c37cf3f19');\n",
              "          const dataTable =\n",
              "            await google.colab.kernel.invokeFunction('convertToInteractive',\n",
              "                                                     [key], {});\n",
              "          if (!dataTable) return;\n",
              "\n",
              "          const docLinkHtml = 'Like what you see? Visit the ' +\n",
              "            '<a target=\"_blank\" href=https://colab.research.google.com/notebooks/data_table.ipynb>data table notebook</a>'\n",
              "            + ' to learn more about interactive tables.';\n",
              "          element.innerHTML = '';\n",
              "          dataTable['output_type'] = 'display_data';\n",
              "          await google.colab.output.renderOutput(dataTable, element);\n",
              "          const docLink = document.createElement('div');\n",
              "          docLink.innerHTML = docLinkHtml;\n",
              "          element.appendChild(docLink);\n",
              "        }\n",
              "      </script>\n",
              "    </div>\n",
              "  </div>\n",
              "  "
            ]
          },
          "metadata": {},
          "execution_count": 58
        }
      ]
    },
    {
      "cell_type": "code",
      "source": [
        "# Show label value counts after filtering\n",
        "print(f\"Value counts:\\n{df_filtered.label.value_counts()}\")"
      ],
      "metadata": {
        "colab": {
          "base_uri": "https://localhost:8080/"
        },
        "id": "11xjSJZ4ezvn",
        "outputId": "9fbee760-34c9-4b78-bafe-6a7efb6eb683"
      },
      "execution_count": 59,
      "outputs": [
        {
          "output_type": "stream",
          "name": "stdout",
          "text": [
            "Value counts:\n",
            "pop          1000\n",
            "classical     998\n",
            "Name: label, dtype: int64\n"
          ]
        }
      ]
    },
    {
      "cell_type": "code",
      "source": [
        "# Split dataframe into training (80%) and testing (20%) sets\n",
        "df_train, df_test = train_test_split(df_filtered, test_size=0.20, random_state=42)"
      ],
      "metadata": {
        "id": "8iJgbCpfd_oz"
      },
      "execution_count": 60,
      "outputs": []
    },
    {
      "cell_type": "code",
      "source": [
        "# Show label distribution of df_train\n",
        "print(f\"Value counts:\\n{df_train.label.value_counts()}\")"
      ],
      "metadata": {
        "colab": {
          "base_uri": "https://localhost:8080/"
        },
        "id": "gOyExW81fT_g",
        "outputId": "9b14ea36-6c33-4e88-e842-3eaef8cbf546"
      },
      "execution_count": 61,
      "outputs": [
        {
          "output_type": "stream",
          "name": "stdout",
          "text": [
            "Value counts:\n",
            "pop          807\n",
            "classical    791\n",
            "Name: label, dtype: int64\n"
          ]
        }
      ]
    },
    {
      "cell_type": "code",
      "source": [
        "# Isolate features\n",
        "X_train = df_train.drop(['filename', 'length', 'label'], axis=1)\n",
        "X_test = df_test.drop(['filename', 'length', 'label'], axis=1)\n",
        "X_train.shape, X_test.shape\n",
        "# We check that our feature matrices have the correct shape\n",
        "# For the training data, this is 1598 examples with 57 features each\n",
        "# For the testing data, this is 400 examples with 57 features each"
      ],
      "metadata": {
        "colab": {
          "base_uri": "https://localhost:8080/"
        },
        "id": "ARvh9zuTkwjh",
        "outputId": "8665bc80-35c6-4d56-a6c1-8d77e926e300"
      },
      "execution_count": 62,
      "outputs": [
        {
          "output_type": "execute_result",
          "data": {
            "text/plain": [
              "((1598, 57), (400, 57))"
            ]
          },
          "metadata": {},
          "execution_count": 62
        }
      ]
    },
    {
      "cell_type": "code",
      "source": [
        "# Normalize features\n",
        "transformer = Normalizer(norm='max').fit(X_train)\n",
        "X_train = transformer.transform(X_train)\n",
        "X_test = transformer.transform(X_test)\n",
        "# Puts all independent variables on the same scale"
      ],
      "metadata": {
        "id": "XiAR3SGwul3j"
      },
      "execution_count": 63,
      "outputs": []
    },
    {
      "cell_type": "code",
      "source": [
        "# Map labels to 0 (\"classical\") and 1 (\"pop\")\n",
        "df_train.loc[df_train['label'] == 'classical', 'label'] = 0\n",
        "df_train.loc[df_train['label'] == 'pop', 'label'] = 1\n",
        "df_train['label'] = pd.to_numeric(df_train['label'])\n",
        "\n",
        "df_test.loc[df_test['label'] == 'classical', 'label'] = 0\n",
        "df_test.loc[df_test['label'] == 'pop', 'label'] = 1\n",
        "df_test['label'] = pd.to_numeric(df_test['label'])"
      ],
      "metadata": {
        "id": "FJFdV7hdul5u"
      },
      "execution_count": 64,
      "outputs": []
    },
    {
      "cell_type": "code",
      "source": [
        "# Isolate labels\n",
        "y_train = df_train.label\n",
        "y_test = df_test.label\n",
        "y_train.shape, y_test.shape\n",
        "# We check that our label vectors have the correct shape"
      ],
      "metadata": {
        "colab": {
          "base_uri": "https://localhost:8080/"
        },
        "id": "EseoZfBgvNHS",
        "outputId": "a28261f9-1872-468b-df51-f6eae526e686"
      },
      "execution_count": 65,
      "outputs": [
        {
          "output_type": "execute_result",
          "data": {
            "text/plain": [
              "((1598,), (400,))"
            ]
          },
          "metadata": {},
          "execution_count": 65
        }
      ]
    },
    {
      "cell_type": "markdown",
      "source": [
        "### Define Functions for Decision Tree Classifier Experiments"
      ],
      "metadata": {
        "id": "r-Zk654TukvM"
      }
    },
    {
      "cell_type": "code",
      "source": [
        "def fit_decision_tree(criterion, max_depth, max_features, X_train, y_train):\n",
        "  decision_tree = tree.DecisionTreeClassifier(criterion=criterion, max_depth=max_depth, \n",
        "                                              max_features=max_features, random_state=42).fit(X_train, y_train)\n",
        "  return decision_tree"
      ],
      "metadata": {
        "id": "0MnGKRVjup9s"
      },
      "execution_count": 66,
      "outputs": []
    },
    {
      "cell_type": "code",
      "source": [
        "def evaluate_model(model, X_test, y_test):\n",
        "  pred = model.predict(X_test)\n",
        "  cm = confusion_matrix(y_test, pred)\n",
        "  acc = accuracy_score(y_test, pred)\n",
        "  p = precision_score(y_test, pred)\n",
        "  r = recall_score(y_test, pred)\n",
        "  f1 = f1_score(y_test, pred)\n",
        "  cr = classification_report(y_test, pred, target_names=['classical', 'pop'])\n",
        "  return cm, acc, p, r, f1, cr"
      ],
      "metadata": {
        "id": "_2RsU8xhvZOd"
      },
      "execution_count": 79,
      "outputs": []
    },
    {
      "cell_type": "code",
      "source": [
        "def vary_parameters(X_train, y_train, X_test, y_test):\n",
        "  result = {}\n",
        "  criteria = ['gini', 'entropy']\n",
        "  max_depths = [1, 2, 5, 10, 100, None]\n",
        "  max_features = ['sqrt', 'log2', None]\n",
        "  for c in criteria:\n",
        "      for md in max_depths:\n",
        "          for mf in max_features:\n",
        "              decision_tree = fit_decision_tree(c, md, mf, X_train, y_train)\n",
        "              cm, acc, p, r, f1, cr = evaluate_model(decision_tree, X_test, y_test)\n",
        "              result[(c, md, mf)] = f1\n",
        "  return result"
      ],
      "metadata": {
        "id": "DjxPBD1rxJQ8"
      },
      "execution_count": 68,
      "outputs": []
    },
    {
      "cell_type": "markdown",
      "source": [
        "### Fit and Evaluate the Default Sklearn Decision Tree Classifier"
      ],
      "metadata": {
        "id": "p6zX_zFN0NMx"
      }
    },
    {
      "cell_type": "code",
      "source": [
        "decision_tree = fit_decision_tree('gini', None, None, X_train, y_train)\n",
        "cm, acc, p, r, f1, cr = evaluate_model(decision_tree, X_test, y_test)\n",
        "print(f\"Confusion Matrix:\\n{cm}\\nAccuracy: {acc}, Precision: {p}, Recall: {r}, F1-score: {f1}\\nClassification Report:\\n{cr}\")"
      ],
      "metadata": {
        "colab": {
          "base_uri": "https://localhost:8080/"
        },
        "id": "stgcglP0z74w",
        "outputId": "b4730638-9eb3-4706-af5e-092e08ea5810"
      },
      "execution_count": 69,
      "outputs": [
        {
          "output_type": "stream",
          "name": "stdout",
          "text": [
            "Confusion Matrix:\n",
            "[[202   5]\n",
            " [  5 188]]\n",
            "Accuracy: 0.975, Precision: 0.9740932642487047, Recall: 0.9740932642487047, F1-score: 0.9740932642487047\n",
            "Classification Report:\n",
            "              precision    recall  f1-score   support\n",
            "\n",
            "   classical       0.98      0.98      0.98       207\n",
            "         pop       0.97      0.97      0.97       193\n",
            "\n",
            "    accuracy                           0.97       400\n",
            "   macro avg       0.97      0.97      0.97       400\n",
            "weighted avg       0.97      0.97      0.97       400\n",
            "\n"
          ]
        }
      ]
    },
    {
      "cell_type": "markdown",
      "source": [
        "### Compare Decision Tree Classifiers with Varying Split Criteria, Max Depth, and Max Features"
      ],
      "metadata": {
        "id": "VVPDNkPk0Z_2"
      }
    },
    {
      "cell_type": "code",
      "source": [
        "result = vary_parameters(X_train, y_train, X_test, y_test)"
      ],
      "metadata": {
        "id": "3fQPI8w6ygtq"
      },
      "execution_count": 50,
      "outputs": []
    },
    {
      "cell_type": "code",
      "source": [
        "result"
      ],
      "metadata": {
        "colab": {
          "base_uri": "https://localhost:8080/"
        },
        "id": "hRKKfHXy05bE",
        "outputId": "66a5909e-302d-4648-efcb-b87b35d66b41"
      },
      "execution_count": 51,
      "outputs": [
        {
          "output_type": "execute_result",
          "data": {
            "text/plain": [
              "{('gini', 1, 'sqrt'): 0.893827160493827,\n",
              " ('gini', 1, 'log2'): 0.893827160493827,\n",
              " ('gini', 1, None): 0.9722921914357683,\n",
              " ('gini', 2, 'sqrt'): 0.9258312020460359,\n",
              " ('gini', 2, 'log2'): 0.9411764705882352,\n",
              " ('gini', 2, None): 0.9690721649484536,\n",
              " ('gini', 5, 'sqrt'): 0.9616368286445013,\n",
              " ('gini', 5, 'log2'): 0.9720101781170483,\n",
              " ('gini', 5, None): 0.9820051413881749,\n",
              " ('gini', 10, 'sqrt'): 0.9591836734693877,\n",
              " ('gini', 10, 'log2'): 0.9717223650385605,\n",
              " ('gini', 10, None): 0.9740932642487047,\n",
              " ('gini', 100, 'sqrt'): 0.9695431472081218,\n",
              " ('gini', 100, 'log2'): 0.9690721649484536,\n",
              " ('gini', 100, None): 0.9740932642487047,\n",
              " ('gini', None, 'sqrt'): 0.9695431472081218,\n",
              " ('gini', None, 'log2'): 0.9690721649484536,\n",
              " ('gini', None, None): 0.9740932642487047,\n",
              " ('entropy', 1, 'sqrt'): 0.893827160493827,\n",
              " ('entropy', 1, 'log2'): 0.893827160493827,\n",
              " ('entropy', 1, None): 0.9722921914357683,\n",
              " ('entropy', 2, 'sqrt'): 0.9283819628647215,\n",
              " ('entropy', 2, 'log2'): 0.9411764705882352,\n",
              " ('entropy', 2, None): 0.9722921914357683,\n",
              " ('entropy', 5, 'sqrt'): 0.9664082687338501,\n",
              " ('entropy', 5, 'log2'): 0.9633507853403142,\n",
              " ('entropy', 5, None): 0.9768637532133676,\n",
              " ('entropy', 10, 'sqrt'): 0.9767441860465116,\n",
              " ('entropy', 10, 'log2'): 0.9540816326530611,\n",
              " ('entropy', 10, None): 0.9768637532133676,\n",
              " ('entropy', 100, 'sqrt'): 0.9767441860465116,\n",
              " ('entropy', 100, 'log2'): 0.9695431472081218,\n",
              " ('entropy', 100, None): 0.9768637532133676,\n",
              " ('entropy', None, 'sqrt'): 0.9767441860465116,\n",
              " ('entropy', None, 'log2'): 0.9695431472081218,\n",
              " ('entropy', None, None): 0.9768637532133676}"
            ]
          },
          "metadata": {},
          "execution_count": 51
        }
      ]
    },
    {
      "cell_type": "markdown",
      "source": [
        "Below, we summarize the results of our parameter-varying experiments in tables.\n",
        "\n",
        "#### Split criterion: Gini index, Metric: F1-score\n",
        "Best score in row is **bold**, best score in column is *italic*, best score in table is []\n",
        "\n",
        "|  | Max Depth | 1 | 2 | 5 | 10 | 100 | None |\n",
        "|:---:|:---:|:---:|:---:|:---:|:---:|:---:|:---:|\n",
        "|**Max Features**|\n",
        "|$\\sqrt{n}$||0.8938|0.9258|0.9616|0.9592|**0.9695**|**0.9695**\n",
        "|$\\log_2{n}$||0.8938|0.9411|**0.9720**|0.9717|0.9691|0.9691\n",
        "|**None**||*0.9723*|*0.9691*|[***0.9820***]|*0.9741*|*0.9741*|*0.9741*\n",
        "\n",
        "#### Split criterion: Information gain, Metric: F1-score\n",
        "Best score in row is **bold**, best score in column is *italic*, best score in table is []\n",
        "\n",
        "|  | Max Depth | 1 | 2 | 5 | 10 | 100 | None |\n",
        "|:---:|:---:|:---:|:---:|:---:|:---:|:---:|:---:|\n",
        "|**Max Features**|\n",
        "|$\\sqrt{n}$||0.8938|0.9284|0.9664|**0.9767**|**0.9767**|**0.9767**\n",
        "|$\\log_2{n}$||0.8938|0.9412|0.9634|0.9541|**0.9695**|**0.9695**\n",
        "|**None**||*0.9723*|*0.9723*|[***0.9769***]|[***0.9769***]|[***0.9769***]|[***0.9769***]\n",
        "\n",
        "DESCRIBE THE CHANGES NOTICED IN THE RESULT, DESCRIBE HOW CRITERION, MAX DEPTH, AND MAX FEATURES ARE AFFECTING THE OUTPUT"
      ],
      "metadata": {
        "id": "n8tBu-8j1HgZ"
      }
    },
    {
      "cell_type": "markdown",
      "source": [
        "---\n",
        "## **Task 2: Bagging and Boosting for Binary Music Genre Classification**\n",
        "\n",
        "In this section, we will use sklearn to implement bagging (extra-trees classifier) and boosting (gradient boosting classifier) ensemble methods for binary music genre classification (\"classical\" vs \"pop\"). We will use k-fold cross validation to compare the effectiveness of the two models.\n"
      ],
      "metadata": {
        "id": "rY0L7wd95O_Z"
      }
    },
    {
      "cell_type": "code",
      "source": [
        "bagging = ExtraTreesClassifier(n_estimators=100)"
      ],
      "metadata": {
        "id": "vbj0WzSrF4_p"
      },
      "execution_count": 93,
      "outputs": []
    },
    {
      "cell_type": "code",
      "source": [
        "# 10-fold cross validation on the training dataset, repeated 3 times\n",
        "# Output is mean and std F1-score over the models trained on 90% of the data and tested on the remaining 10%\n",
        "cross_validation = RepeatedStratifiedKFold(n_splits=10, n_repeats=3, random_state=42)\n",
        "cross_validation_scores = cross_val_score(bagging, X_train, y_train, scoring='f1', cv=cross_validation, n_jobs=-1, error_score='raise')\n",
        "print(f\"F1-score: Mean: {np.mean(cross_validation_scores)}, Standard Deviation: {np.std(cross_validation_scores)}\")"
      ],
      "metadata": {
        "colab": {
          "base_uri": "https://localhost:8080/"
        },
        "id": "3KzWLtF8Gxjs",
        "outputId": "2c8cfab8-7be7-4820-97d6-77f8dfbbc9e4"
      },
      "execution_count": 94,
      "outputs": [
        {
          "output_type": "stream",
          "name": "stdout",
          "text": [
            "F1-score: Mean: 0.9856590027689845, Standard Deviation: 0.009292135351084621\n"
          ]
        }
      ]
    },
    {
      "cell_type": "code",
      "source": [
        "# Bagging model fit over entire training dataset and evaluated on testing dataset\n",
        "bagging.fit(X_train, y_train)\n",
        "cm, acc, p, r, f1, cr = evaluate_model(bagging, X_test, y_test)\n",
        "print(f\"Confusion Matrix:\\n{cm}\\nAccuracy: {acc}, Precision: {p}, Recall: {r}, F1-score: {f1}\\nClassification Report:\\n{cr}\")"
      ],
      "metadata": {
        "colab": {
          "base_uri": "https://localhost:8080/"
        },
        "id": "POJnacj5G6Ar",
        "outputId": "0f0ab794-6bc9-4009-e33a-fb836855227d"
      },
      "execution_count": 95,
      "outputs": [
        {
          "output_type": "stream",
          "name": "stdout",
          "text": [
            "Confusion Matrix:\n",
            "[[201   6]\n",
            " [  1 192]]\n",
            "Accuracy: 0.9825, Precision: 0.9696969696969697, Recall: 0.9948186528497409, F1-score: 0.9820971867007673\n",
            "Classification Report:\n",
            "              precision    recall  f1-score   support\n",
            "\n",
            "   classical       1.00      0.97      0.98       207\n",
            "         pop       0.97      0.99      0.98       193\n",
            "\n",
            "    accuracy                           0.98       400\n",
            "   macro avg       0.98      0.98      0.98       400\n",
            "weighted avg       0.98      0.98      0.98       400\n",
            "\n"
          ]
        }
      ]
    },
    {
      "cell_type": "code",
      "source": [
        "boosting = GradientBoostingClassifier(n_estimators=100, random_state=42)"
      ],
      "metadata": {
        "id": "YrD8Dw95I5H3"
      },
      "execution_count": 96,
      "outputs": []
    },
    {
      "cell_type": "code",
      "source": [
        "# 10-fold cross validation on the training dataset, repeated 3 times\n",
        "# Output is mean and std F1-score over the models trained on 90% of the data and tested on the remaining 10%\n",
        "cross_validation_scores = cross_val_score(boosting, X_train, y_train, scoring='f1', cv=cross_validation, n_jobs=-1, error_score='raise')\n",
        "print(f\"F1-score: Mean: {np.mean(cross_validation_scores)}, Standard Deviation: {np.std(cross_validation_scores)}\")"
      ],
      "metadata": {
        "colab": {
          "base_uri": "https://localhost:8080/"
        },
        "id": "9IKMWYt0JUUY",
        "outputId": "16dd9316-34e1-4185-eaa2-cc1eaad9534c"
      },
      "execution_count": 97,
      "outputs": [
        {
          "output_type": "stream",
          "name": "stdout",
          "text": [
            "F1-score: Mean: 0.9839594617920908, Standard Deviation: 0.009354268699527922\n"
          ]
        }
      ]
    },
    {
      "cell_type": "code",
      "source": [
        "# Boosting model fit over entire training dataset and evaluated on testing dataset\n",
        "boosting.fit(X_train, y_train)\n",
        "cm, acc, p, r, f1, cr = evaluate_model(boosting, X_test, y_test)\n",
        "print(f\"Confusion Matrix:\\n{cm}\\nAccuracy: {acc}, Precision: {p}, Recall: {r}, F1-score: {f1}\\nClassification Report:\\n{cr}\")"
      ],
      "metadata": {
        "colab": {
          "base_uri": "https://localhost:8080/"
        },
        "id": "H4q7NDZ4JM_H",
        "outputId": "59b52d83-2602-4e01-82d1-30d66ed2c4e9"
      },
      "execution_count": 98,
      "outputs": [
        {
          "output_type": "stream",
          "name": "stdout",
          "text": [
            "Confusion Matrix:\n",
            "[[202   5]\n",
            " [  0 193]]\n",
            "Accuracy: 0.9875, Precision: 0.9747474747474747, Recall: 1.0, F1-score: 0.9872122762148338\n",
            "Classification Report:\n",
            "              precision    recall  f1-score   support\n",
            "\n",
            "   classical       1.00      0.98      0.99       207\n",
            "         pop       0.97      1.00      0.99       193\n",
            "\n",
            "    accuracy                           0.99       400\n",
            "   macro avg       0.99      0.99      0.99       400\n",
            "weighted avg       0.99      0.99      0.99       400\n",
            "\n"
          ]
        }
      ]
    },
    {
      "cell_type": "markdown",
      "source": [
        "COMMENT ON THE DIFFERENCE/SIMILARITY OF THE RESULTS"
      ],
      "metadata": {
        "id": "q5h5evK8Kfkx"
      }
    },
    {
      "cell_type": "markdown",
      "source": [
        "---\n",
        "## **Task 3: Comparing Decision Tree Classifier, Bagging, and Boosting**\n",
        "\n",
        "In this section, we will compare the effectiveness of the base decision tree classifier, the extra-trees classifier (bagging), and the gradient boosting classifier (boosting) models implemented above. \n"
      ],
      "metadata": {
        "id": "DVI7MlOkKMJ8"
      }
    },
    {
      "cell_type": "markdown",
      "source": [
        "Compare the effectiveness of the three models implemented above. Clearly\n",
        "describe the metric you are using for comparison. Describe (with examples) Why is this metric(metrics) suited/appropriate for the problem at hand? How would a choice of a different metric impact your results? Can you demonstrate that?"
      ],
      "metadata": {
        "id": "BtiboezcKwcO"
      }
    }
  ]
}